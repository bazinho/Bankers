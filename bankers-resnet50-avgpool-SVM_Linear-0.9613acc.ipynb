{
 "cells": [
  {
   "cell_type": "code",
   "execution_count": 1,
   "metadata": {},
   "outputs": [
    {
     "name": "stderr",
     "output_type": "stream",
     "text": [
      "Using TensorFlow backend.\n"
     ]
    }
   ],
   "source": [
    "import os\n",
    "import os.path\n",
    "import glob\n",
    "from sklearn.preprocessing import LabelEncoder\n",
    "from sklearn.model_selection import StratifiedKFold                                                                                                                       \n",
    "from sklearn.metrics import confusion_matrix,accuracy_score\n",
    "from sklearn import svm\n",
    "from sklearn.model_selection import GridSearchCV\n",
    "import sklearn_evaluation.plot as skplot\n",
    "from sklearn.model_selection import learning_curve\n",
    "\n",
    "import matplotlib.pyplot as plt\n",
    "\n",
    "import numpy as np\n",
    "np.random.seed(1)\n",
    "\n",
    "from keras.preprocessing.image import img_to_array\n",
    "from keras.utils import np_utils\n",
    "from keras.preprocessing import image\n",
    "from keras.applications.resnet50 import ResNet50\n",
    "from keras.applications.imagenet_utils import preprocess_input\n",
    "\n",
    "os.environ['CUDA_VISIBLE_DEVICES'] = '0'"
   ]
  },
  {
   "cell_type": "code",
   "execution_count": 2,
   "metadata": {
    "collapsed": true
   },
   "outputs": [],
   "source": [
    "imagedir = \"Datasets/Detection/Byteplots\""
   ]
  },
  {
   "cell_type": "code",
   "execution_count": 3,
   "metadata": {},
   "outputs": [
    {
     "name": "stdout",
     "output_type": "stream",
     "text": [
      "Label: 0\tFamily:          Banker\tNumber of images: 1986\n",
      "Label: 1\tFamily:          WinExe\tNumber of images: 1945\n",
      "Processing images ...\n"
     ]
    },
    {
     "name": "stderr",
     "output_type": "stream",
     "text": [
      "/usr/local/lib/python2.7/dist-packages/PIL/Image.py:2371: DecompressionBombWarning: Image size (103265280 pixels) exceeds limit of 89478485 pixels, could be decompression bomb DOS attack.\n",
      "  DecompressionBombWarning)\n",
      "/usr/local/lib/python2.7/dist-packages/PIL/Image.py:2371: DecompressionBombWarning: Image size (110601216 pixels) exceeds limit of 89478485 pixels, could be decompression bomb DOS attack.\n",
      "  DecompressionBombWarning)\n"
     ]
    },
    {
     "name": "stdout",
     "output_type": "stream",
     "text": [
      "Images processed: 3931\n"
     ]
    }
   ],
   "source": [
    "cur_dir = os.getcwd()\n",
    "os.chdir(imagedir)  # the parent folder with sub-folders\n",
    "\n",
    "# Get number of samples per family\n",
    "list_fams = sorted(os.listdir(os.getcwd()), key=str.lower)  # vector of strings with family names\n",
    "no_imgs = []  # No. of samples per family\n",
    "for i in range(len(list_fams)):\n",
    "    os.chdir(list_fams[i])\n",
    "    len1 = len(glob.glob('*.png'))  # assuming the images are stored as 'png'\n",
    "    no_imgs.append(len1)\n",
    "    os.chdir('..')\n",
    "num_samples = np.sum(no_imgs)  # total number of all samples\n",
    "\n",
    "# Compute the labels\n",
    "y = np.zeros(num_samples)\n",
    "pos = 0\n",
    "label = 0\n",
    "for i in no_imgs:\n",
    "    print (\"Label:%2d\\tFamily: %15s\\tNumber of images: %d\" % (label, list_fams[label], i))\n",
    "    for j in range(i):\n",
    "        y[pos] = label\n",
    "        pos += 1\n",
    "    label += 1\n",
    "num_classes = label\n",
    "\n",
    "# Compute the features\n",
    "width, height,channels = (224,224,3)\n",
    "X = np.zeros((num_samples, width, height, channels))\n",
    "cnt = 0\n",
    "list_paths = [] # List of image paths\n",
    "print(\"Processing images ...\")\n",
    "for i in range(len(list_fams)):\n",
    "    for img_file in glob.glob(list_fams[i]+'/*.png'):\n",
    "        #print(\"[%d] Processing image: %s\" % (cnt, img_file))\n",
    "        list_paths.append(os.path.join(os.getcwd(),img_file))\n",
    "        img = image.load_img(img_file, target_size=(224, 224))\n",
    "        x = image.img_to_array(img)\n",
    "        x = np.expand_dims(x, axis=0)\n",
    "        x = preprocess_input(x)\n",
    "        X[cnt] = x\n",
    "        cnt += 1\n",
    "print(\"Images processed: %d\" %(cnt))\n",
    "\n",
    "os.chdir(cur_dir)"
   ]
  },
  {
   "cell_type": "code",
   "execution_count": 4,
   "metadata": {},
   "outputs": [
    {
     "data": {
      "text/plain": [
       "(3931, 224, 224, 3)"
      ]
     },
     "execution_count": 4,
     "metadata": {},
     "output_type": "execute_result"
    }
   ],
   "source": [
    "X.shape"
   ]
  },
  {
   "cell_type": "code",
   "execution_count": 5,
   "metadata": {
    "collapsed": true
   },
   "outputs": [],
   "source": [
    "# Creating base_model\n",
    "image_shape = (224, 224, 3)                                                                                                                                                                                                                                                                                            \n",
    "base_model = ResNet50(weights='imagenet', input_shape=image_shape, include_top=False, pooling='avg')"
   ]
  },
  {
   "cell_type": "code",
   "execution_count": 6,
   "metadata": {},
   "outputs": [
    {
     "name": "stdout",
     "output_type": "stream",
     "text": [
      "Extracting bottleneck features from convolutional layers ...\n"
     ]
    }
   ],
   "source": [
    "print(\"Extracting bottleneck features from convolutional layers ...\")\n",
    "bnfeatures = base_model.predict(X)"
   ]
  },
  {
   "cell_type": "code",
   "execution_count": 7,
   "metadata": {},
   "outputs": [
    {
     "data": {
      "text/plain": [
       "(3931, 2048)"
      ]
     },
     "execution_count": 7,
     "metadata": {},
     "output_type": "execute_result"
    }
   ],
   "source": [
    "bnfeatures.shape"
   ]
  },
  {
   "cell_type": "code",
   "execution_count": 8,
   "metadata": {
    "collapsed": true
   },
   "outputs": [],
   "source": [
    "# Create stratified k-fold subsets                                                                                                                                        \n",
    "kfold = 5  # no. of folds                                                                 \n",
    "skf = StratifiedKFold(kfold, shuffle=True,random_state=1)"
   ]
  },
  {
   "cell_type": "code",
   "execution_count": 9,
   "metadata": {},
   "outputs": [
    {
     "name": "stdout",
     "output_type": "stream",
     "text": [
      "Fitting 5 folds for each of 13 candidates, totalling 65 fits\n",
      "[CV] C=0.01 ..........................................................\n",
      "[CV] C=0.01 ..........................................................\n",
      "[CV] C=0.01 ..........................................................\n",
      "[CV] C=0.01 ..........................................................\n",
      "[CV] C=0.01 ..........................................................\n",
      "[CV] C=0.1 ...........................................................\n",
      "[CV] C=0.1 ...........................................................\n",
      "[CV] C=0.1 ...........................................................\n",
      "[CV] C=0.1 ...........................................................\n",
      "[CV] C=0.1 ...........................................................\n",
      "[CV] C=1.0 ...........................................................\n",
      "[CV] C=1.0 ...........................................................\n",
      "[CV] C=1.0 ...........................................................\n",
      "[CV] C=1.0 ...........................................................\n",
      "[CV] C=1.0 ...........................................................\n",
      "[CV] C=10.0 ..........................................................\n",
      "[CV] C=10.0 ..........................................................\n",
      "[CV] C=10.0 ..........................................................\n",
      "[CV] C=10.0 ..........................................................\n",
      "[CV] C=10.0 ..........................................................\n",
      "[CV] C=100.0 .........................................................\n",
      "[CV] C=100.0 .........................................................\n",
      "[CV] C=100.0 .........................................................\n",
      "[CV] C=100.0 .........................................................\n",
      "[CV] ........................... C=0.01, score=0.958069, total=   8.6s\n",
      "[CV] C=100.0 .........................................................\n",
      "[CV] ............................ C=0.1, score=0.946565, total=   9.9s\n",
      "[CV] ............................ C=0.1, score=0.959339, total=  10.1s\n",
      "[CV] C=1000.0 ........................................................\n",
      "[CV] C=1000.0 ........................................................\n"
     ]
    },
    {
     "name": "stderr",
     "output_type": "stream",
     "text": [
      "[Parallel(n_jobs=-1)]: Done   2 tasks      | elapsed:   10.9s\n"
     ]
    },
    {
     "name": "stdout",
     "output_type": "stream",
     "text": [
      "[CV] ............................ C=1.0, score=0.938931, total=  10.2s\n",
      "[CV] C=1000.0 ........................................................\n",
      "[CV] ............................ C=0.1, score=0.952926, total=  10.5s\n",
      "[CV] C=1000.0 ........................................................\n",
      "[CV] ............................ C=1.0, score=0.958069, total=  10.6s\n",
      "[CV] C=1000.0 ........................................................\n",
      "[CV] .......................... C=100.0, score=0.947837, total=  10.8s\n",
      "[CV] C=10000.0 .......................................................\n",
      "[CV] ........................... C=0.01, score=0.958015, total=  12.7s\n",
      "[CV] ........................... C=0.01, score=0.955471, total=  12.8s\n",
      "[CV] C=10000.0 .......................................................\n",
      "[CV] C=10000.0 .......................................................\n",
      "[CV] ........................... C=10.0, score=0.951654, total=  12.9s\n",
      "[CV] C=10000.0 .......................................................\n",
      "[CV] ............................ C=0.1, score=0.955471, total=  16.3s\n",
      "[CV] C=10000.0 .......................................................\n",
      "[CV] ........................... C=10.0, score=0.940204, total=  15.9s\n",
      "[CV] C=100000.0 ......................................................\n",
      "[CV] .......................... C=100.0, score=0.960560, total=  15.5s\n",
      "[CV] C=100000.0 ......................................................\n"
     ]
    },
    {
     "name": "stderr",
     "output_type": "stream",
     "text": [
      "[Parallel(n_jobs=-1)]: Done  13 tasks      | elapsed:   17.8s\n"
     ]
    },
    {
     "name": "stdout",
     "output_type": "stream",
     "text": [
      "[CV] ............................ C=0.1, score=0.963104, total=  17.3s\n",
      "[CV] C=100000.0 ......................................................\n",
      "[CV] ............................ C=1.0, score=0.950382, total=  17.3s\n",
      "[CV] C=100000.0 ......................................................\n",
      "[CV] ........................... C=0.01, score=0.961832, total=  18.2s\n",
      "[CV] C=100000.0 ......................................................\n",
      "[CV] ........................... C=0.01, score=0.973282, total=  18.6s\n",
      "[CV] C=1000000.0 .....................................................\n",
      "[CV] ........................... C=10.0, score=0.960560, total=  17.3s\n",
      "[CV] C=1000000.0 .....................................................\n",
      "[CV] ............................ C=1.0, score=0.952926, total=  17.7s\n",
      "[CV] C=1000000.0 .....................................................\n",
      "[CV] ........................... C=10.0, score=0.914867, total=  18.1s\n",
      "[CV] C=1000000.0 .....................................................\n",
      "[CV] .......................... C=100.0, score=0.940204, total=  17.1s\n",
      "[CV] C=1000000.0 .....................................................\n",
      "[CV] ........................... C=10.0, score=0.954198, total=  17.9s\n",
      "[CV] C=10000000.0 ....................................................\n",
      "[CV] .......................... C=100.0, score=0.956798, total=  17.9s\n",
      "[CV] C=10000000.0 ....................................................\n",
      "[CV] .......................... C=100.0, score=0.952926, total=  11.4s\n",
      "[CV] C=10000000.0 ....................................................\n",
      "[CV] ............................ C=1.0, score=0.960560, total=  19.2s\n",
      "[CV] C=10000000.0 ....................................................\n"
     ]
    },
    {
     "name": "stderr",
     "output_type": "stream",
     "text": [
      "[Parallel(n_jobs=-1)]: Done  25 out of  65 | elapsed:   20.5s remaining:   32.9s\n"
     ]
    },
    {
     "name": "stdout",
     "output_type": "stream",
     "text": [
      "[CV] ......................... C=1000.0, score=0.950382, total=  11.5s\n",
      "[CV] C=10000000.0 ....................................................\n",
      "[CV] ......................... C=1000.0, score=0.941476, total=  11.6s\n",
      "[CV] C=100000000.0 ...................................................\n",
      "[CV] ......................... C=1000.0, score=0.952986, total=  12.4s\n",
      "[CV] C=100000000.0 ...................................................\n",
      "[CV] ......................... C=1000.0, score=0.952926, total=  12.0s\n",
      "[CV] C=100000000.0 ...................................................\n",
      "[CV] ......................... C=1000.0, score=0.958015, total=  12.5s\n",
      "[CV] C=100000000.0 ...................................................\n",
      "[CV] ........................ C=10000.0, score=0.952986, total=  11.8s\n",
      "[CV] C=100000000.0 ...................................................\n",
      "[CV] ........................ C=10000.0, score=0.944020, total=  11.4s\n",
      "[CV] C=1000000000.0 ..................................................\n"
     ]
    },
    {
     "name": "stderr",
     "output_type": "stream",
     "text": [
      "[Parallel(n_jobs=-1)]: Done  32 out of  65 | elapsed:   26.0s remaining:   26.8s\n"
     ]
    },
    {
     "name": "stdout",
     "output_type": "stream",
     "text": [
      "[CV] ........................ C=10000.0, score=0.958015, total=  13.2s\n",
      "[CV] C=1000000000.0 ..................................................\n",
      "[CV] ....................... C=100000.0, score=0.950382, total=  11.8s\n",
      "[CV] C=1000000000.0 ..................................................\n",
      "[CV] ........................ C=10000.0, score=0.950382, total=  16.9s\n",
      "[CV] C=1000000000.0 ..................................................\n",
      "[CV] ..................... C=10000000.0, score=0.959288, total=  12.5s\n",
      "[CV] C=1000000000.0 ..................................................\n",
      "[CV] ..................... C=10000000.0, score=0.951654, total=  11.1s\n",
      "[CV] C=10000000000.0 .................................................\n",
      "[CV] ........................ C=10000.0, score=0.952926, total=  17.2s\n",
      "[CV] C=10000000000.0 .................................................\n",
      "[CV] ....................... C=100000.0, score=0.944020, total=  16.0s\n",
      "[CV] C=10000000000.0 .................................................\n"
     ]
    },
    {
     "name": "stderr",
     "output_type": "stream",
     "text": [
      "[Parallel(n_jobs=-1)]: Done  39 out of  65 | elapsed:   34.8s remaining:   23.2s\n"
     ]
    },
    {
     "name": "stdout",
     "output_type": "stream",
     "text": [
      "[CV] ....................... C=100000.0, score=0.952986, total=  17.2s\n",
      "[CV] C=10000000000.0 .................................................\n",
      "[CV] .................... C=100000000.0, score=0.952926, total=  11.5s\n",
      "[CV] C=10000000000.0 .................................................\n",
      "[CV] .................... C=100000000.0, score=0.952986, total=  12.0s\n",
      "[CV] .................... C=100000000.0, score=0.937659, total=  11.1s\n",
      "[CV] ....................... C=100000.0, score=0.958015, total=  17.3s\n",
      "[CV] ....................... C=100000.0, score=0.952926, total=  16.8s\n",
      "[CV] ...................... C=1000000.0, score=0.950382, total=  16.7s\n"
     ]
    },
    {
     "name": "stderr",
     "output_type": "stream",
     "text": [
      "[Parallel(n_jobs=-1)]: Done  46 out of  65 | elapsed:   36.1s remaining:   14.9s\n"
     ]
    },
    {
     "name": "stdout",
     "output_type": "stream",
     "text": [
      "[CV] .................... C=100000000.0, score=0.951654, total=  11.3s\n",
      "[CV] .................... C=100000000.0, score=0.959288, total=  12.4s\n",
      "[CV] ...................... C=1000000.0, score=0.952986, total=  17.3s\n",
      "[CV] ...................... C=1000000.0, score=0.944020, total=  16.9s\n",
      "[CV] ...................... C=1000000.0, score=0.958015, total=  17.5s\n",
      "[CV] ..................... C=10000000.0, score=0.944020, total=  16.2s\n",
      "[CV] ..................... C=10000000.0, score=0.950382, total=  17.1s\n",
      "[CV] ...................... C=1000000.0, score=0.952926, total=  17.3s\n",
      "[CV] ..................... C=10000000.0, score=0.952986, total=  17.1s\n"
     ]
    },
    {
     "name": "stderr",
     "output_type": "stream",
     "text": [
      "[Parallel(n_jobs=-1)]: Done  53 out of  65 | elapsed:   37.1s remaining:    8.4s\n"
     ]
    },
    {
     "name": "stdout",
     "output_type": "stream",
     "text": [
      "[CV] ................... C=1000000000.0, score=0.952986, total=  11.7s\n",
      "[CV] ................... C=1000000000.0, score=0.952926, total=  11.2s\n",
      "[CV] ................... C=1000000000.0, score=0.959288, total=  10.1s\n",
      "[CV] ................... C=1000000000.0, score=0.937659, total=   9.9s\n",
      "[CV] ................... C=1000000000.0, score=0.956743, total=   8.3s\n"
     ]
    },
    {
     "name": "stderr",
     "output_type": "stream",
     "text": [
      "[Parallel(n_jobs=-1)]: Done  60 out of  65 | elapsed:   41.5s remaining:    3.5s\n"
     ]
    },
    {
     "name": "stdout",
     "output_type": "stream",
     "text": [
      "[CV] .................. C=10000000000.0, score=0.955527, total=   7.9s\n",
      "[CV] .................. C=10000000000.0, score=0.952926, total=   7.4s\n",
      "[CV] .................. C=10000000000.0, score=0.956743, total=   6.9s\n",
      "[CV] .................. C=10000000000.0, score=0.937659, total=   7.2s\n",
      "[CV] .................. C=10000000000.0, score=0.959288, total=   7.6s\n"
     ]
    },
    {
     "name": "stderr",
     "output_type": "stream",
     "text": [
      "[Parallel(n_jobs=-1)]: Done  65 out of  65 | elapsed:   42.5s finished\n"
     ]
    },
    {
     "data": {
      "text/plain": [
       "GridSearchCV(cv=StratifiedKFold(n_splits=5, random_state=1, shuffle=True),\n",
       "       error_score='raise',\n",
       "       estimator=LinearSVC(C=1.0, class_weight=None, dual=True, fit_intercept=True,\n",
       "     intercept_scaling=1, loss='squared_hinge', max_iter=1000,\n",
       "     multi_class='ovr', penalty='l2', random_state=None, tol=0.0001,\n",
       "     verbose=0),\n",
       "       fit_params={}, iid=True, n_jobs=-1,\n",
       "       param_grid={'C': array([  1.00000e-02,   1.00000e-01,   1.00000e+00,   1.00000e+01,\n",
       "         1.00000e+02,   1.00000e+03,   1.00000e+04,   1.00000e+05,\n",
       "         1.00000e+06,   1.00000e+07,   1.00000e+08,   1.00000e+09,\n",
       "         1.00000e+10])},\n",
       "       pre_dispatch='2*n_jobs', refit=True, return_train_score=True,\n",
       "       scoring=None, verbose=10)"
      ]
     },
     "execution_count": 9,
     "metadata": {},
     "output_type": "execute_result"
    }
   ],
   "source": [
    "# Training top_model\n",
    "C_range = np.logspace(-2, 10, 13)\n",
    "param_grid = dict(C=C_range)\n",
    "\n",
    "top_model = GridSearchCV(svm.LinearSVC(), param_grid=param_grid, cv=skf, verbose=10, n_jobs=-1)\n",
    "top_model.fit(bnfeatures,y)  # Training "
   ]
  },
  {
   "cell_type": "code",
   "execution_count": 10,
   "metadata": {},
   "outputs": [
    {
     "data": {
      "text/plain": [
       "{'mean_fit_time': array([ 14.08245516,  12.74407473,  14.90183697,  16.33772888,\n",
       "         14.47402678,  11.92645054,  14.05341563,  15.7759644 ,\n",
       "         17.0825922 ,  14.69642105,  11.61167197,  10.18649564,   7.3583704 ]),\n",
       " 'mean_score_time': array([ 0.07840199,  0.08324432,  0.07630305,  0.06718826,  0.06916919,\n",
       "         0.04892545,  0.0295269 ,  0.05715795,  0.07597637,  0.10600014,\n",
       "         0.06730003,  0.02168517,  0.030545  ]),\n",
       " 'mean_test_score': array([ 0.96133299,  0.95548207,  0.95217502,  0.94428898,  0.95166624,\n",
       "         0.95115747,  0.95166624,  0.95166624,  0.95166624,  0.95166624,\n",
       "         0.95090308,  0.95192063,  0.95242941]),\n",
       " 'mean_train_score': array([ 0.98931565,  0.99720171,  0.9994276 ,  0.99573803,  0.9994912 ,\n",
       "         0.99942766,  0.99936407,  0.99936407,  0.99936407,  0.99961844,\n",
       "         0.99961844,  0.99955485,  0.99936401]),\n",
       " 'param_C': masked_array(data = [0.01 0.10000000000000001 1.0 10.0 100.0 1000.0 10000.0 100000.0 1000000.0\n",
       "  10000000.0 100000000.0 1000000000.0 10000000000.0],\n",
       "              mask = [False False False False False False False False False False False False\n",
       "  False],\n",
       "        fill_value = ?),\n",
       " 'params': ({'C': 0.01},\n",
       "  {'C': 0.10000000000000001},\n",
       "  {'C': 1.0},\n",
       "  {'C': 10.0},\n",
       "  {'C': 100.0},\n",
       "  {'C': 1000.0},\n",
       "  {'C': 10000.0},\n",
       "  {'C': 100000.0},\n",
       "  {'C': 1000000.0},\n",
       "  {'C': 10000000.0},\n",
       "  {'C': 100000000.0},\n",
       "  {'C': 1000000000.0},\n",
       "  {'C': 10000000000.0}),\n",
       " 'rank_test_score': array([ 1,  2,  4, 13,  6, 11,  6,  6,  6,  6, 12,  5,  3], dtype=int32),\n",
       " 'split0_test_score': array([ 0.95806861,  0.95933926,  0.95806861,  0.91486658,  0.95679797,\n",
       "         0.95298602,  0.95298602,  0.95298602,  0.95298602,  0.95298602,\n",
       "         0.95298602,  0.95298602,  0.95552732]),\n",
       " 'split0_train_score': array([ 0.98854962,  0.99681934,  0.9990458 ,  0.98059796,  0.9990458 ,\n",
       "         1.        ,  1.        ,  1.        ,  1.        ,  1.        ,\n",
       "         1.        ,  1.        ,  0.9990458 ]),\n",
       " 'split1_test_score': array([ 0.95801527,  0.95547074,  0.95038168,  0.95165394,  0.94783715,\n",
       "         0.95038168,  0.95038168,  0.95038168,  0.95038168,  0.95038168,\n",
       "         0.95292621,  0.95292621,  0.95292621]),\n",
       " 'split1_train_score': array([ 0.99077901,  0.99777424,  0.99968203,  0.99968203,  0.99968203,\n",
       "         0.99968203,  0.99968203,  0.99968203,  0.99968203,  0.99968203,\n",
       "         0.99968203,  0.99968203,  0.99968203]),\n",
       " 'split2_test_score': array([ 0.97328244,  0.96310433,  0.9605598 ,  0.9605598 ,  0.9605598 ,\n",
       "         0.95801527,  0.95801527,  0.95801527,  0.95801527,  0.95928753,\n",
       "         0.95928753,  0.95928753,  0.95928753]),\n",
       " 'split2_train_score': array([ 0.98855326,  0.99618442,  0.99936407,  0.99936407,  0.99936407,\n",
       "         0.99809221,  0.99809221,  0.99809221,  0.99809221,  0.99936407,\n",
       "         0.99936407,  0.99936407,  0.99936407]),\n",
       " 'split3_test_score': array([ 0.95547074,  0.94656489,  0.9389313 ,  0.94020356,  0.94020356,\n",
       "         0.94147583,  0.94402036,  0.94402036,  0.94402036,  0.94402036,\n",
       "         0.93765903,  0.93765903,  0.93765903]),\n",
       " 'split3_train_score': array([ 0.98982512,  0.99745628,  0.99968203,  1.        ,  1.        ,\n",
       "         1.        ,  0.99968203,  0.99968203,  0.99968203,  0.99968203,\n",
       "         0.99968203,  0.99968203,  0.99968203]),\n",
       " 'split4_test_score': array([ 0.96183206,  0.95292621,  0.95292621,  0.95419847,  0.95292621,\n",
       "         0.95292621,  0.95292621,  0.95292621,  0.95292621,  0.95165394,\n",
       "         0.95165394,  0.956743  ,  0.956743  ]),\n",
       " 'split4_train_score': array([ 0.98887122,  0.99777424,  0.99936407,  0.9990461 ,  0.99936407,\n",
       "         0.99936407,  0.99936407,  0.99936407,  0.99936407,  0.99936407,\n",
       "         0.99936407,  0.9990461 ,  0.9990461 ]),\n",
       " 'std_fit_time': array([ 3.78990738,  3.24677361,  3.7625045 ,  1.8948074 ,  2.93515653,\n",
       "         0.40295401,  2.4893616 ,  2.02373056,  0.28302205,  2.44664006,\n",
       "         0.43776108,  1.17489047,  0.31837845]),\n",
       " 'std_score_time': array([ 0.03017006,  0.0226608 ,  0.02374841,  0.01689444,  0.0356102 ,\n",
       "         0.02443746,  0.02403794,  0.0514832 ,  0.03163151,  0.07940993,\n",
       "         0.03154526,  0.01219031,  0.03896709]),\n",
       " 'std_test_score': array([ 0.00630921,  0.00563922,  0.00753906,  0.01612649,  0.00711395,\n",
       "         0.00543699,  0.00455467,  0.00455467,  0.00455467,  0.00489709,\n",
       "         0.00713639,  0.00752324,  0.00766272]),\n",
       " 'std_train_score': array([ 0.00086793,  0.00061668,  0.00023804,  0.00757671,  0.00032435,\n",
       "         0.00070814,  0.00066697,  0.00066697,  0.00066697,  0.00023794,\n",
       "         0.00023794,  0.00032426,  0.00028446])}"
      ]
     },
     "execution_count": 10,
     "metadata": {},
     "output_type": "execute_result"
    }
   ],
   "source": [
    "top_model.cv_results_"
   ]
  },
  {
   "cell_type": "code",
   "execution_count": 11,
   "metadata": {},
   "outputs": [
    {
     "name": "stderr",
     "output_type": "stream",
     "text": [
      "/usr/local/lib/python2.7/dist-packages/sklearn/model_selection/_search.py:667: DeprecationWarning: The grid_scores_ attribute was deprecated in version 0.18 in favor of the more elaborate cv_results_ attribute. The grid_scores_ attribute will not be available from 0.20\n",
      "  DeprecationWarning)\n"
     ]
    },
    {
     "data": {
      "text/plain": [
       "[mean: 0.96133, std: 0.00631, params: {'C': 0.01},\n",
       " mean: 0.95548, std: 0.00564, params: {'C': 0.10000000000000001},\n",
       " mean: 0.95218, std: 0.00754, params: {'C': 1.0},\n",
       " mean: 0.94429, std: 0.01612, params: {'C': 10.0},\n",
       " mean: 0.95167, std: 0.00711, params: {'C': 100.0},\n",
       " mean: 0.95116, std: 0.00544, params: {'C': 1000.0},\n",
       " mean: 0.95167, std: 0.00456, params: {'C': 10000.0},\n",
       " mean: 0.95167, std: 0.00456, params: {'C': 100000.0},\n",
       " mean: 0.95167, std: 0.00456, params: {'C': 1000000.0},\n",
       " mean: 0.95167, std: 0.00490, params: {'C': 10000000.0},\n",
       " mean: 0.95090, std: 0.00714, params: {'C': 100000000.0},\n",
       " mean: 0.95192, std: 0.00752, params: {'C': 1000000000.0},\n",
       " mean: 0.95243, std: 0.00766, params: {'C': 10000000000.0}]"
      ]
     },
     "execution_count": 11,
     "metadata": {},
     "output_type": "execute_result"
    }
   ],
   "source": [
    "top_model.grid_scores_"
   ]
  },
  {
   "cell_type": "code",
   "execution_count": 12,
   "metadata": {},
   "outputs": [
    {
     "name": "stdout",
     "output_type": "stream",
     "text": [
      "Best parameters: {'C': 0.01} - score: 0.9613\n"
     ]
    }
   ],
   "source": [
    "print(\"Best parameters: %s - score: %0.4f\" % (top_model.best_params_, top_model.best_score_))"
   ]
  }
 ],
 "metadata": {
  "kernelspec": {
   "display_name": "Python 2",
   "language": "python",
   "name": "python2"
  },
  "language_info": {
   "codemirror_mode": {
    "name": "ipython",
    "version": 2
   },
   "file_extension": ".py",
   "mimetype": "text/x-python",
   "name": "python",
   "nbconvert_exporter": "python",
   "pygments_lexer": "ipython2",
   "version": "2.7.12"
  }
 },
 "nbformat": 4,
 "nbformat_minor": 2
}
