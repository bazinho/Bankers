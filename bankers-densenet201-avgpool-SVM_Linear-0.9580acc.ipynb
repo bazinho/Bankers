{
 "cells": [
  {
   "cell_type": "code",
   "execution_count": 1,
   "metadata": {},
   "outputs": [
    {
     "name": "stderr",
     "output_type": "stream",
     "text": [
      "/usr/local/lib/python3.5/dist-packages/h5py/__init__.py:36: FutureWarning: Conversion of the second argument of issubdtype from `float` to `np.floating` is deprecated. In future, it will be treated as `np.float64 == np.dtype(float).type`.\n",
      "  from ._conv import register_converters as _register_converters\n",
      "Using TensorFlow backend.\n"
     ]
    }
   ],
   "source": [
    "import os\n",
    "import os.path\n",
    "import glob\n",
    "from sklearn.preprocessing import LabelEncoder\n",
    "from sklearn.model_selection import StratifiedKFold                                                                                                                       \n",
    "from sklearn.metrics import confusion_matrix,accuracy_score\n",
    "from sklearn import svm\n",
    "from sklearn.model_selection import GridSearchCV\n",
    "import sklearn_evaluation.plot as skplot\n",
    "from sklearn.model_selection import learning_curve\n",
    "\n",
    "import matplotlib.pyplot as plt\n",
    "\n",
    "import numpy as np\n",
    "np.random.seed(1)\n",
    "\n",
    "from keras.preprocessing.image import img_to_array\n",
    "from keras.utils import np_utils\n",
    "from keras.preprocessing import image\n",
    "from keras.applications.densenet import DenseNet201,preprocess_input\n",
    "\n",
    "os.environ['CUDA_VISIBLE_DEVICES'] = '1'"
   ]
  },
  {
   "cell_type": "code",
   "execution_count": 2,
   "metadata": {
    "collapsed": true
   },
   "outputs": [],
   "source": [
    "imagedir = \"Datasets/Detection/Byteplots\""
   ]
  },
  {
   "cell_type": "code",
   "execution_count": 3,
   "metadata": {},
   "outputs": [
    {
     "name": "stdout",
     "output_type": "stream",
     "text": [
      "Label: 0\tFamily:          Banker\tNumber of images: 1986\n",
      "Label: 1\tFamily:          WinExe\tNumber of images: 1945\n",
      "Processing images ...\n"
     ]
    },
    {
     "name": "stderr",
     "output_type": "stream",
     "text": [
      "/usr/local/lib/python3.5/dist-packages/PIL/Image.py:2438: DecompressionBombWarning: Image size (103265280 pixels) exceeds limit of 89478485 pixels, could be decompression bomb DOS attack.\n",
      "  DecompressionBombWarning)\n",
      "/usr/local/lib/python3.5/dist-packages/PIL/Image.py:2438: DecompressionBombWarning: Image size (110601216 pixels) exceeds limit of 89478485 pixels, could be decompression bomb DOS attack.\n",
      "  DecompressionBombWarning)\n"
     ]
    },
    {
     "name": "stdout",
     "output_type": "stream",
     "text": [
      "Images processed: 3931\n"
     ]
    }
   ],
   "source": [
    "cur_dir = os.getcwd()\n",
    "os.chdir(imagedir)  # the parent folder with sub-folders\n",
    "\n",
    "# Get number of samples per family\n",
    "list_fams = sorted(os.listdir(os.getcwd()), key=str.lower)  # vector of strings with family names\n",
    "no_imgs = []  # No. of samples per family\n",
    "for i in range(len(list_fams)):\n",
    "    os.chdir(list_fams[i])\n",
    "    len1 = len(glob.glob('*.png'))  # assuming the images are stored as 'png'\n",
    "    no_imgs.append(len1)\n",
    "    os.chdir('..')\n",
    "num_samples = np.sum(no_imgs)  # total number of all samples\n",
    "\n",
    "# Compute the labels\n",
    "y = np.zeros(num_samples)\n",
    "pos = 0\n",
    "label = 0\n",
    "for i in no_imgs:\n",
    "    print (\"Label:%2d\\tFamily: %15s\\tNumber of images: %d\" % (label, list_fams[label], i))\n",
    "    for j in range(i):\n",
    "        y[pos] = label\n",
    "        pos += 1\n",
    "    label += 1\n",
    "num_classes = label\n",
    "\n",
    "# Compute the features\n",
    "width, height,channels = (224,224,3)\n",
    "X = np.zeros((num_samples, width, height, channels))\n",
    "cnt = 0\n",
    "list_paths = [] # List of image paths\n",
    "print(\"Processing images ...\")\n",
    "for i in range(len(list_fams)):\n",
    "    for img_file in glob.glob(list_fams[i]+'/*.png'):\n",
    "        #print(\"[%d] Processing image: %s\" % (cnt, img_file))\n",
    "        list_paths.append(os.path.join(os.getcwd(),img_file))\n",
    "        img = image.load_img(img_file, target_size=(224, 224))\n",
    "        x = image.img_to_array(img)\n",
    "        x = np.expand_dims(x, axis=0)\n",
    "        x = preprocess_input(x)\n",
    "        X[cnt] = x\n",
    "        cnt += 1\n",
    "print(\"Images processed: %d\" %(cnt))\n",
    "\n",
    "os.chdir(cur_dir)"
   ]
  },
  {
   "cell_type": "code",
   "execution_count": 4,
   "metadata": {},
   "outputs": [
    {
     "data": {
      "text/plain": [
       "(3931, 224, 224, 3)"
      ]
     },
     "execution_count": 4,
     "metadata": {},
     "output_type": "execute_result"
    }
   ],
   "source": [
    "X.shape"
   ]
  },
  {
   "cell_type": "code",
   "execution_count": 5,
   "metadata": {
    "collapsed": true
   },
   "outputs": [],
   "source": [
    "# Creating base_model\n",
    "image_shape = (224, 224, 3)                                                                                                                                                                                                                                                                                            \n",
    "base_model = DenseNet201(weights='imagenet', input_shape=image_shape, include_top=False, pooling='avg')"
   ]
  },
  {
   "cell_type": "code",
   "execution_count": 6,
   "metadata": {},
   "outputs": [
    {
     "name": "stdout",
     "output_type": "stream",
     "text": [
      "Extracting bottleneck features from convolutional layers ...\n"
     ]
    }
   ],
   "source": [
    "print(\"Extracting bottleneck features from convolutional layers ...\")\n",
    "bnfeatures = base_model.predict(X)"
   ]
  },
  {
   "cell_type": "code",
   "execution_count": 7,
   "metadata": {},
   "outputs": [
    {
     "data": {
      "text/plain": [
       "(3931, 1, 1, 1920)"
      ]
     },
     "execution_count": 7,
     "metadata": {},
     "output_type": "execute_result"
    }
   ],
   "source": [
    "bnfeatures.shape"
   ]
  },
  {
   "cell_type": "code",
   "execution_count": 8,
   "metadata": {
    "collapsed": true
   },
   "outputs": [],
   "source": [
    "bnfeatures = np.reshape(bnfeatures,(bnfeatures.shape[0],-1))"
   ]
  },
  {
   "cell_type": "code",
   "execution_count": 9,
   "metadata": {},
   "outputs": [
    {
     "data": {
      "text/plain": [
       "(3931, 1920)"
      ]
     },
     "execution_count": 9,
     "metadata": {},
     "output_type": "execute_result"
    }
   ],
   "source": [
    "bnfeatures.shape"
   ]
  },
  {
   "cell_type": "code",
   "execution_count": 10,
   "metadata": {
    "collapsed": true
   },
   "outputs": [],
   "source": [
    "# Create stratified k-fold subsets                                                                                                                                        \n",
    "kfold = 5  # no. of folds                                                                 \n",
    "skf = StratifiedKFold(kfold, shuffle=True,random_state=1)"
   ]
  },
  {
   "cell_type": "code",
   "execution_count": 11,
   "metadata": {},
   "outputs": [
    {
     "name": "stdout",
     "output_type": "stream",
     "text": [
      "Fitting 5 folds for each of 13 candidates, totalling 65 fits\n",
      "[CV] C=0.01 ..........................................................\n",
      "[CV] C=0.01 ..........................................................\n",
      "[CV] C=0.01 ..........................................................\n",
      "[CV] C=0.01 ..........................................................\n",
      "[CV] C=0.01 ..........................................................\n",
      "[CV] C=0.1 ...........................................................\n",
      "[CV] C=0.1 ...........................................................\n",
      "[CV] C=0.1 ...........................................................\n",
      "[CV] C=0.1 ...........................................................\n",
      "[CV] C=0.1 ...........................................................\n",
      "[CV] C=1.0 ...........................................................\n",
      "[CV] C=1.0 ...........................................................\n",
      "[CV] C=1.0 ...........................................................\n",
      "[CV] C=1.0 ...........................................................\n",
      "[CV] C=1.0 ...........................................................\n",
      "[CV] C=10.0 ..........................................................\n",
      "[CV] C=10.0 ..........................................................\n",
      "[CV] C=10.0 ..........................................................\n",
      "[CV] C=10.0 ..........................................................\n",
      "[CV] C=10.0 ..........................................................\n",
      "[CV] C=100.0 .........................................................\n",
      "[CV] C=100.0 .........................................................\n",
      "[CV] C=100.0 .........................................................\n",
      "[CV] C=100.0 .........................................................\n",
      "[CV] ........................... C=0.01, score=0.964377, total=   3.2s\n",
      "[CV] C=100.0 .........................................................\n",
      "[CV] ........................... C=0.01, score=0.963151, total=   4.7s\n",
      "[CV] C=1000.0 ........................................................\n"
     ]
    },
    {
     "name": "stderr",
     "output_type": "stream",
     "text": [
      "[Parallel(n_jobs=-1)]: Done   2 tasks      | elapsed:    5.1s\n"
     ]
    },
    {
     "name": "stdout",
     "output_type": "stream",
     "text": [
      "[CV] ........................... C=0.01, score=0.974555, total=   5.3s\n",
      "[CV] C=1000.0 ........................................................\n",
      "[CV] ........................... C=0.01, score=0.949109, total=   5.5s\n",
      "[CV] C=1000.0 ........................................................\n",
      "[CV] ........................... C=0.01, score=0.938931, total=   5.8s\n",
      "[CV] C=1000.0 ........................................................\n",
      "[CV] ............................ C=0.1, score=0.947903, total=  11.4s\n",
      "[CV] C=1000.0 ........................................................\n",
      "[CV] ........................... C=10.0, score=0.940204, total=  10.9s\n",
      "[CV] C=10000.0 .......................................................\n",
      "[CV] ............................ C=0.1, score=0.965649, total=  11.9s\n",
      "[CV] C=10000.0 .......................................................\n",
      "[CV] ............................ C=1.0, score=0.954198, total=  12.5s\n",
      "[CV] C=10000.0 .......................................................\n",
      "[CV] ............................ C=0.1, score=0.936387, total=  12.9s\n",
      "[CV] C=10000.0 .......................................................\n",
      "[CV] ............................ C=0.1, score=0.941476, total=  13.3s\n",
      "[CV] C=10000.0 .......................................................\n",
      "[CV] .......................... C=100.0, score=0.924936, total=  10.9s\n",
      "[CV] C=100000.0 ......................................................\n",
      "[CV] ............................ C=1.0, score=0.933842, total=  13.8s\n",
      "[CV] C=100000.0 ......................................................\n"
     ]
    },
    {
     "name": "stderr",
     "output_type": "stream",
     "text": [
      "[Parallel(n_jobs=-1)]: Done  13 tasks      | elapsed:   15.1s\n"
     ]
    },
    {
     "name": "stdout",
     "output_type": "stream",
     "text": [
      "[CV] ............................ C=1.0, score=0.935197, total=  14.6s\n",
      "[CV] C=100000.0 ......................................................\n",
      "[CV] ............................ C=0.1, score=0.949109, total=  15.3s\n",
      "[CV] C=100000.0 ......................................................\n",
      "[CV] ........................... C=10.0, score=0.930025, total=  14.5s\n",
      "[CV] C=100000.0 ......................................................\n",
      "[CV] ............................ C=1.0, score=0.923664, total=  14.8s\n",
      "[CV] C=1000000.0 .....................................................\n",
      "[CV] ........................... C=10.0, score=0.927573, total=  15.3s\n",
      "[CV] C=1000000.0 .....................................................\n",
      "[CV] ........................... C=10.0, score=0.954198, total=  15.5s\n",
      "[CV] ............................ C=1.0, score=0.937659, total=  16.1s\n",
      "[CV] C=1000000.0 .....................................................\n",
      "[CV] C=1000000.0 .....................................................\n",
      "[CV] ........................... C=10.0, score=0.923664, total=  15.5s\n",
      "[CV] .......................... C=100.0, score=0.932570, total=  15.2s\n",
      "[CV] C=1000000.0 .....................................................\n",
      "[CV] C=10000000.0 ....................................................\n",
      "[CV] .......................... C=100.0, score=0.951654, total=  16.0s\n",
      "[CV] C=10000000.0 ....................................................\n",
      "[CV] .......................... C=100.0, score=0.933842, total=  16.5s\n",
      "[CV] .......................... C=100.0, score=0.927573, total=  16.6s\n",
      "[CV] C=10000000.0 ....................................................\n",
      "[CV] C=10000000.0 ....................................................\n"
     ]
    },
    {
     "name": "stderr",
     "output_type": "stream",
     "text": [
      "[Parallel(n_jobs=-1)]: Done  25 out of  65 | elapsed:   18.5s remaining:   29.5s\n"
     ]
    },
    {
     "name": "stdout",
     "output_type": "stream",
     "text": [
      "[CV] ......................... C=1000.0, score=0.926302, total=  14.0s\n",
      "[CV] C=10000000.0 ....................................................\n",
      "[CV] ......................... C=1000.0, score=0.933842, total=  13.1s\n",
      "[CV] C=100000000.0 ...................................................\n",
      "[CV] ......................... C=1000.0, score=0.935115, total=  15.0s\n",
      "[CV] C=100000000.0 ...................................................\n",
      "[CV] ......................... C=1000.0, score=0.956743, total=  15.1s\n",
      "[CV] C=100000000.0 ...................................................\n",
      "[CV] ........................ C=10000.0, score=0.935115, total=  12.2s\n",
      "[CV] C=100000000.0 ...................................................\n",
      "[CV] ........................ C=10000.0, score=0.933842, total=  11.3s\n",
      "[CV] C=100000000.0 ...................................................\n",
      "[CV] ......................... C=1000.0, score=0.924936, total=  13.1s\n",
      "[CV] C=1000000000.0 ..................................................\n",
      "[CV] ........................ C=10000.0, score=0.927573, total=  13.1s\n"
     ]
    },
    {
     "name": "stderr",
     "output_type": "stream",
     "text": [
      "[Parallel(n_jobs=-1)]: Done  32 out of  65 | elapsed:   25.4s remaining:   26.2s\n"
     ]
    },
    {
     "name": "stdout",
     "output_type": "stream",
     "text": [
      "[CV] C=1000000000.0 ..................................................\n",
      "[CV] ........................ C=10000.0, score=0.924936, total=  13.0s\n",
      "[CV] C=1000000000.0 ..................................................\n",
      "[CV] ........................ C=10000.0, score=0.956743, total=  13.6s\n",
      "[CV] C=1000000000.0 ..................................................\n",
      "[CV] ....................... C=100000.0, score=0.927573, total=  13.7s\n",
      "[CV] C=1000000000.0 ..................................................\n",
      "[CV] ....................... C=100000.0, score=0.933842, total=  13.3s\n",
      "[CV] ...................... C=1000000.0, score=0.935115, total=  12.6s\n",
      "[CV] C=10000000000.0 .................................................\n",
      "[CV] C=10000000000.0 .................................................\n",
      "[CV] ....................... C=100000.0, score=0.935115, total=  14.3s\n",
      "[CV] C=10000000000.0 .................................................\n"
     ]
    },
    {
     "name": "stderr",
     "output_type": "stream",
     "text": [
      "[Parallel(n_jobs=-1)]: Done  39 out of  65 | elapsed:   29.7s remaining:   19.8s\n"
     ]
    },
    {
     "name": "stdout",
     "output_type": "stream",
     "text": [
      "[CV] ...................... C=1000000.0, score=0.933842, total=  12.9s\n",
      "[CV] C=10000000000.0 .................................................\n",
      "[CV] ....................... C=100000.0, score=0.956743, total=  14.7s\n",
      "[CV] ....................... C=100000.0, score=0.924936, total=  14.3s\n",
      "[CV] C=10000000000.0 .................................................\n",
      "[CV] ...................... C=1000000.0, score=0.924936, total=  13.1s\n",
      "[CV] ..................... C=10000000.0, score=0.933842, total=  12.6s\n",
      "[CV] ...................... C=1000000.0, score=0.927573, total=  15.4s\n",
      "[CV] ...................... C=1000000.0, score=0.956743, total=  14.5s\n",
      "[CV] ..................... C=10000000.0, score=0.935115, total=  13.7s\n"
     ]
    },
    {
     "name": "stderr",
     "output_type": "stream",
     "text": [
      "[Parallel(n_jobs=-1)]: Done  46 out of  65 | elapsed:   32.0s remaining:   13.2s\n"
     ]
    },
    {
     "name": "stdout",
     "output_type": "stream",
     "text": [
      "[CV] ..................... C=10000000.0, score=0.927573, total=  14.6s\n",
      "[CV] ..................... C=10000000.0, score=0.956743, total=  13.9s\n",
      "[CV] ..................... C=10000000.0, score=0.926209, total=  13.3s\n",
      "[CV] .................... C=100000000.0, score=0.938931, total=  12.6s\n",
      "[CV] .................... C=100000000.0, score=0.951654, total=  12.1s\n",
      "[CV] .................... C=100000000.0, score=0.927573, total=  14.0s\n"
     ]
    },
    {
     "name": "stderr",
     "output_type": "stream",
     "text": [
      "[Parallel(n_jobs=-1)]: Done  53 out of  65 | elapsed:   33.7s remaining:    7.6s\n"
     ]
    },
    {
     "name": "stdout",
     "output_type": "stream",
     "text": [
      "[CV] .................... C=100000000.0, score=0.931298, total=  12.0s\n",
      "[CV] .................. C=10000000000.0, score=0.951654, total=   7.4s\n",
      "[CV] ................... C=1000000000.0, score=0.927573, total=  11.9s\n",
      "[CV] .................. C=10000000000.0, score=0.927573, total=   8.1s\n",
      "[CV] .................... C=100000000.0, score=0.926209, total=  12.6s\n",
      "[CV] ................... C=1000000000.0, score=0.938931, total=  12.6s\n",
      "[CV] ................... C=1000000000.0, score=0.951654, total=  11.6s\n",
      "[CV] ................... C=1000000000.0, score=0.931298, total=  11.4s\n"
     ]
    },
    {
     "name": "stderr",
     "output_type": "stream",
     "text": [
      "[Parallel(n_jobs=-1)]: Done  60 out of  65 | elapsed:   39.1s remaining:    3.3s\n"
     ]
    },
    {
     "name": "stdout",
     "output_type": "stream",
     "text": [
      "[CV] ................... C=1000000000.0, score=0.924936, total=  10.7s\n",
      "[CV] .................. C=10000000000.0, score=0.931298, total=   9.2s\n",
      "[CV] .................. C=10000000000.0, score=0.938931, total=  10.6s\n",
      "[CV] .................. C=10000000000.0, score=0.926209, total=   9.7s\n"
     ]
    },
    {
     "name": "stderr",
     "output_type": "stream",
     "text": [
      "[Parallel(n_jobs=-1)]: Done  65 out of  65 | elapsed:   40.3s finished\n"
     ]
    },
    {
     "data": {
      "text/plain": [
       "GridSearchCV(cv=StratifiedKFold(n_splits=5, random_state=1, shuffle=True),\n",
       "       error_score='raise',\n",
       "       estimator=LinearSVC(C=1.0, class_weight=None, dual=True, fit_intercept=True,\n",
       "     intercept_scaling=1, loss='squared_hinge', max_iter=1000,\n",
       "     multi_class='ovr', penalty='l2', random_state=None, tol=0.0001,\n",
       "     verbose=0),\n",
       "       fit_params={}, iid=True, n_jobs=-1,\n",
       "       param_grid={'C': array([1.e-02, 1.e-01, 1.e+00, 1.e+01, 1.e+02, 1.e+03, 1.e+04, 1.e+05,\n",
       "       1.e+06, 1.e+07, 1.e+08, 1.e+09, 1.e+10])},\n",
       "       pre_dispatch='2*n_jobs', refit=True, return_train_score=True,\n",
       "       scoring=None, verbose=10)"
      ]
     },
     "execution_count": 11,
     "metadata": {},
     "output_type": "execute_result"
    }
   ],
   "source": [
    "# Training top_model\n",
    "C_range = np.logspace(-2, 10, 13)\n",
    "param_grid = dict(C=C_range)\n",
    "\n",
    "top_model = GridSearchCV(svm.LinearSVC(), param_grid=param_grid, cv=skf, verbose=10, n_jobs=-1)\n",
    "top_model.fit(bnfeatures,y)  # Training "
   ]
  },
  {
   "cell_type": "code",
   "execution_count": 12,
   "metadata": {},
   "outputs": [
    {
     "data": {
      "text/plain": [
       "{'mean_fit_time': array([ 4.84389515, 12.87044086, 14.30512695, 14.2600738 , 14.96026292,\n",
       "        14.00901842, 12.57277851, 13.99456072, 13.63832731, 13.53998642,\n",
       "        12.62688518, 11.63502297,  8.9848423 ]),\n",
       " 'mean_score_time': array([0.05810304, 0.07605786, 0.08099132, 0.07234645, 0.07159185,\n",
       "        0.05214658, 0.06497841, 0.07122235, 0.04340057, 0.05673709,\n",
       "        0.02452807, 0.02342768, 0.01093259]),\n",
       " 'mean_test_score': array([0.95802595, 0.94810481, 0.93691173, 0.93513101, 0.93411346,\n",
       "        0.9353854 , 0.93563979, 0.93563979, 0.93563979, 0.93589417,\n",
       "        0.93513101, 0.93487662, 0.93513101]),\n",
       " 'mean_train_score': array([0.98683534, 0.99662931, 0.99968201, 0.99930034, 0.99904594,\n",
       "        0.99917309, 0.99917309, 0.99942754, 0.99917309, 0.99917309,\n",
       "        0.99936395, 0.99930036, 0.99936395]),\n",
       " 'param_C': masked_array(data=[0.01, 0.1, 1.0, 10.0, 100.0, 1000.0, 10000.0, 100000.0,\n",
       "                    1000000.0, 10000000.0, 100000000.0, 1000000000.0,\n",
       "                    10000000000.0],\n",
       "              mask=[False, False, False, False, False, False, False, False,\n",
       "                    False, False, False, False, False],\n",
       "        fill_value='?',\n",
       "             dtype=object),\n",
       " 'params': ({'C': 0.01},\n",
       "  {'C': 0.1},\n",
       "  {'C': 1.0},\n",
       "  {'C': 10.0},\n",
       "  {'C': 100.0},\n",
       "  {'C': 1000.0},\n",
       "  {'C': 10000.0},\n",
       "  {'C': 100000.0},\n",
       "  {'C': 1000000.0},\n",
       "  {'C': 10000000.0},\n",
       "  {'C': 100000000.0},\n",
       "  {'C': 1000000000.0},\n",
       "  {'C': 10000000000.0}),\n",
       " 'rank_test_score': array([ 1,  2,  3,  9, 13,  8,  5,  5,  5,  4,  9, 12,  9], dtype=int32),\n",
       " 'split0_test_score': array([0.96315121, 0.94790343, 0.93519695, 0.92757306, 0.92757306,\n",
       "        0.92630241, 0.92757306, 0.92757306, 0.92757306, 0.92757306,\n",
       "        0.92757306, 0.92757306, 0.92757306]),\n",
       " 'split0_train_score': array([0.98568702, 0.99586514, 0.99968193, 0.99777354, 0.99745547,\n",
       "        0.99681934, 0.99681934, 0.9980916 , 0.99681934, 0.99681934,\n",
       "        0.9980916 , 0.9980916 , 0.9980916 ]),\n",
       " 'split1_test_score': array([0.96437659, 0.94910941, 0.93765903, 0.94020356, 0.93384224,\n",
       "        0.9351145 , 0.9351145 , 0.9351145 , 0.9351145 , 0.9351145 ,\n",
       "        0.9389313 , 0.9389313 , 0.9389313 ]),\n",
       " 'split1_train_score': array([0.98664547, 0.99586645, 0.99968203, 1.        , 1.        ,\n",
       "        1.        , 1.        , 1.        , 1.        , 1.        ,\n",
       "        1.        , 1.        , 1.        ]),\n",
       " 'split2_test_score': array([0.97455471, 0.96564885, 0.95419847, 0.95419847, 0.95165394,\n",
       "        0.956743  , 0.956743  , 0.956743  , 0.956743  , 0.956743  ,\n",
       "        0.95165394, 0.95165394, 0.95165394]),\n",
       " 'split2_train_score': array([0.98664547, 0.99618442, 0.99936407, 0.9990461 , 0.99872814,\n",
       "        0.99936407, 0.99936407, 0.99936407, 0.99936407, 0.99936407,\n",
       "        0.99872814, 0.99872814, 0.99872814]),\n",
       " 'split3_test_score': array([0.94910941, 0.94147583, 0.93384224, 0.93002545, 0.93256997,\n",
       "        0.93384224, 0.93384224, 0.93384224, 0.93384224, 0.93384224,\n",
       "        0.93129771, 0.93129771, 0.93129771]),\n",
       " 'split3_train_score': array([0.98823529, 0.99777424, 0.99968203, 0.99968203, 0.99936407,\n",
       "        0.99968203, 0.99968203, 0.99968203, 0.99968203, 0.99968203,\n",
       "        1.        , 1.        , 1.        ]),\n",
       " 'split4_test_score': array([0.9389313 , 0.93638677, 0.92366412, 0.92366412, 0.92493639,\n",
       "        0.92493639, 0.92493639, 0.92493639, 0.92493639, 0.92620865,\n",
       "        0.92620865, 0.92493639, 0.92620865]),\n",
       " 'split4_train_score': array([0.98696343, 0.99745628, 1.        , 1.        , 0.99968203,\n",
       "        1.        , 1.        , 1.        , 1.        , 1.        ,\n",
       "        1.        , 0.99968203, 1.        ]),\n",
       " 'std_fit_time': array([0.91828497, 1.36349251, 1.19765744, 1.76960691, 2.12884295,\n",
       "        0.87687109, 0.80664946, 0.49796974, 1.07996634, 0.64794922,\n",
       "        0.70849213, 0.61792509, 1.11107749]),\n",
       " 'std_score_time': array([0.02079327, 0.02724816, 0.01145627, 0.02207201, 0.02013368,\n",
       "        0.01857963, 0.03948671, 0.04196299, 0.02228208, 0.03050945,\n",
       "        0.01550969, 0.02432971, 0.00778061]),\n",
       " 'std_test_score': array([0.01251993, 0.00989924, 0.00987047, 0.01098997, 0.00934947,\n",
       "        0.01140372, 0.0112108 , 0.0112108 , 0.0112108 , 0.01097704,\n",
       "        0.00936841, 0.0096211 , 0.00936841]),\n",
       " 'std_train_score': array([0.00082061, 0.00081958, 0.0002011 , 0.00083911, 0.00089963,\n",
       "        0.00120027, 0.00120027, 0.00070837, 0.00120027, 0.00120027,\n",
       "        0.00080459, 0.00076331, 0.00080459])}"
      ]
     },
     "execution_count": 12,
     "metadata": {},
     "output_type": "execute_result"
    }
   ],
   "source": [
    "top_model.cv_results_"
   ]
  },
  {
   "cell_type": "code",
   "execution_count": 13,
   "metadata": {},
   "outputs": [
    {
     "name": "stderr",
     "output_type": "stream",
     "text": [
      "/usr/local/lib/python3.5/dist-packages/sklearn/model_selection/_search.py:667: DeprecationWarning: The grid_scores_ attribute was deprecated in version 0.18 in favor of the more elaborate cv_results_ attribute. The grid_scores_ attribute will not be available from 0.20\n",
      "  DeprecationWarning)\n"
     ]
    },
    {
     "data": {
      "text/plain": [
       "[mean: 0.95803, std: 0.01252, params: {'C': 0.01},\n",
       " mean: 0.94810, std: 0.00990, params: {'C': 0.1},\n",
       " mean: 0.93691, std: 0.00987, params: {'C': 1.0},\n",
       " mean: 0.93513, std: 0.01099, params: {'C': 10.0},\n",
       " mean: 0.93411, std: 0.00935, params: {'C': 100.0},\n",
       " mean: 0.93539, std: 0.01140, params: {'C': 1000.0},\n",
       " mean: 0.93564, std: 0.01121, params: {'C': 10000.0},\n",
       " mean: 0.93564, std: 0.01121, params: {'C': 100000.0},\n",
       " mean: 0.93564, std: 0.01121, params: {'C': 1000000.0},\n",
       " mean: 0.93589, std: 0.01098, params: {'C': 10000000.0},\n",
       " mean: 0.93513, std: 0.00937, params: {'C': 100000000.0},\n",
       " mean: 0.93488, std: 0.00962, params: {'C': 1000000000.0},\n",
       " mean: 0.93513, std: 0.00937, params: {'C': 10000000000.0}]"
      ]
     },
     "execution_count": 13,
     "metadata": {},
     "output_type": "execute_result"
    }
   ],
   "source": [
    "top_model.grid_scores_"
   ]
  },
  {
   "cell_type": "code",
   "execution_count": 14,
   "metadata": {},
   "outputs": [
    {
     "name": "stdout",
     "output_type": "stream",
     "text": [
      "Best parameters: {'C': 0.01} - score: 0.9580\n"
     ]
    }
   ],
   "source": [
    "print(\"Best parameters: %s - score: %0.4f\" % (top_model.best_params_, top_model.best_score_))"
   ]
  }
 ],
 "metadata": {
  "kernelspec": {
   "display_name": "Python 3",
   "language": "python",
   "name": "python3"
  },
  "language_info": {
   "codemirror_mode": {
    "name": "ipython",
    "version": 3
   },
   "file_extension": ".py",
   "mimetype": "text/x-python",
   "name": "python",
   "nbconvert_exporter": "python",
   "pygments_lexer": "ipython3",
   "version": "3.5.2"
  }
 },
 "nbformat": 4,
 "nbformat_minor": 2
}
