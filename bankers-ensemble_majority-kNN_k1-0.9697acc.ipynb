{
 "cells": [
  {
   "cell_type": "code",
   "execution_count": 1,
   "metadata": {},
   "outputs": [
    {
     "name": "stderr",
     "output_type": "stream",
     "text": [
      "/usr/local/lib/python3.5/dist-packages/h5py/__init__.py:36: FutureWarning: Conversion of the second argument of issubdtype from `float` to `np.floating` is deprecated. In future, it will be treated as `np.float64 == np.dtype(float).type`.\n",
      "  from ._conv import register_converters as _register_converters\n",
      "Using TensorFlow backend.\n"
     ]
    }
   ],
   "source": [
    "import os\n",
    "import os.path\n",
    "import glob\n",
    "from sklearn.preprocessing import LabelEncoder\n",
    "from sklearn.model_selection import StratifiedKFold                                                                                                                       \n",
    "from sklearn.metrics import confusion_matrix,accuracy_score\n",
    "from sklearn.neighbors import KNeighborsClassifier\n",
    "\n",
    "import matplotlib.pyplot as plt\n",
    "\n",
    "import numpy as np\n",
    "np.random.seed(1)\n",
    "\n",
    "from keras.utils import np_utils\n",
    "from keras.preprocessing import image\n",
    "from keras.applications.resnet50 import ResNet50\n",
    "from keras.applications.vgg16 import VGG16\n",
    "from keras.applications.vgg19 import VGG19\n",
    "from keras.applications.imagenet_utils import preprocess_input\n",
    "\n",
    "os.environ['CUDA_VISIBLE_DEVICES'] = '0'"
   ]
  },
  {
   "cell_type": "code",
   "execution_count": 2,
   "metadata": {
    "collapsed": true
   },
   "outputs": [],
   "source": [
    "imagedir = \"Datasets/Detection/Byteplots\""
   ]
  },
  {
   "cell_type": "code",
   "execution_count": 3,
   "metadata": {},
   "outputs": [
    {
     "name": "stdout",
     "output_type": "stream",
     "text": [
      "Label: 0\tFamily:          Banker\tNumber of images: 1986\n",
      "Label: 1\tFamily:          WinExe\tNumber of images: 1945\n",
      "Processing images ...\n"
     ]
    },
    {
     "name": "stderr",
     "output_type": "stream",
     "text": [
      "/usr/local/lib/python3.5/dist-packages/PIL/Image.py:2438: DecompressionBombWarning: Image size (103265280 pixels) exceeds limit of 89478485 pixels, could be decompression bomb DOS attack.\n",
      "  DecompressionBombWarning)\n",
      "/usr/local/lib/python3.5/dist-packages/PIL/Image.py:2438: DecompressionBombWarning: Image size (110601216 pixels) exceeds limit of 89478485 pixels, could be decompression bomb DOS attack.\n",
      "  DecompressionBombWarning)\n"
     ]
    },
    {
     "name": "stdout",
     "output_type": "stream",
     "text": [
      "Images processed: 3931\n"
     ]
    }
   ],
   "source": [
    "cur_dir = os.getcwd()\n",
    "os.chdir(imagedir)  # the parent folder with sub-folders\n",
    "\n",
    "# Get number of samples per family\n",
    "list_fams = sorted(os.listdir(os.getcwd()), key=str.lower)  # vector of strings with family names\n",
    "no_imgs = []  # No. of samples per family\n",
    "for i in range(len(list_fams)):\n",
    "    os.chdir(list_fams[i])\n",
    "    len1 = len(glob.glob('*.png'))  # assuming the images are stored as 'png'\n",
    "    no_imgs.append(len1)\n",
    "    os.chdir('..')\n",
    "num_samples = np.sum(no_imgs)  # total number of all samples\n",
    "\n",
    "# Compute the labels\n",
    "y = np.zeros(num_samples)\n",
    "pos = 0\n",
    "label = 0\n",
    "for i in no_imgs:\n",
    "    print (\"Label:%2d\\tFamily: %15s\\tNumber of images: %d\" % (label, list_fams[label], i))\n",
    "    for j in range(i):\n",
    "        y[pos] = label\n",
    "        pos += 1\n",
    "    label += 1\n",
    "num_classes = label\n",
    "\n",
    "# Compute the features\n",
    "width, height,channels = (224,224,3)\n",
    "X = np.zeros((num_samples, width, height, channels))\n",
    "cnt = 0\n",
    "list_paths = [] # List of image paths\n",
    "print(\"Processing images ...\")\n",
    "for i in range(len(list_fams)):\n",
    "    for img_file in glob.glob(list_fams[i]+'/*.png'):\n",
    "        #print(\"[%d] Processing image: %s\" % (cnt, img_file))\n",
    "        list_paths.append(os.path.join(os.getcwd(),img_file))\n",
    "        img = image.load_img(img_file, target_size=(224, 224))\n",
    "        x = image.img_to_array(img)\n",
    "        x = np.expand_dims(x, axis=0)\n",
    "        x = preprocess_input(x)\n",
    "        X[cnt] = x\n",
    "        cnt += 1\n",
    "print(\"Images processed: %d\" %(cnt))\n",
    "\n",
    "os.chdir(cur_dir)"
   ]
  },
  {
   "cell_type": "code",
   "execution_count": 4,
   "metadata": {},
   "outputs": [
    {
     "data": {
      "text/plain": [
       "(3931, 224, 224, 3)"
      ]
     },
     "execution_count": 4,
     "metadata": {},
     "output_type": "execute_result"
    }
   ],
   "source": [
    "X.shape"
   ]
  },
  {
   "cell_type": "code",
   "execution_count": 5,
   "metadata": {
    "collapsed": true
   },
   "outputs": [],
   "source": [
    "# Encoding classes (y) into integers (y_encoded) and then generating one-hot-encoding (Y)\n",
    "encoder = LabelEncoder()\n",
    "encoder.fit(y)\n",
    "y_encoded = encoder.transform(y)\n",
    "Y = np_utils.to_categorical(y_encoded)"
   ]
  },
  {
   "cell_type": "code",
   "execution_count": 6,
   "metadata": {},
   "outputs": [
    {
     "name": "stdout",
     "output_type": "stream",
     "text": [
      "Extracting bottleneck features from convolutional layers ...\n"
     ]
    }
   ],
   "source": [
    "# Creating base_model\n",
    "image_shape = (224, 224, 3)                                                                                                                                                                                                                                                                                            \n",
    "resnet50model = ResNet50(weights='imagenet', input_shape=image_shape, include_top=False, pooling='avg')\n",
    "print(\"Extracting bottleneck features from convolutional layers ...\")\n",
    "resnet50features = resnet50model.predict(X)"
   ]
  },
  {
   "cell_type": "code",
   "execution_count": 7,
   "metadata": {},
   "outputs": [
    {
     "name": "stdout",
     "output_type": "stream",
     "text": [
      "Extracting bottleneck features from convolutional layers ...\n"
     ]
    }
   ],
   "source": [
    "# Creating base_model\n",
    "image_shape = (224, 224, 3)                                                                                                                                                                                                                                                                                            \n",
    "vgg16model = VGG16(weights='imagenet', input_shape=image_shape, include_top=False, pooling='avg')\n",
    "print(\"Extracting bottleneck features from convolutional layers ...\")\n",
    "vgg16features = vgg16model.predict(X)"
   ]
  },
  {
   "cell_type": "code",
   "execution_count": 8,
   "metadata": {},
   "outputs": [
    {
     "name": "stdout",
     "output_type": "stream",
     "text": [
      "Extracting bottleneck features from convolutional layers ...\n"
     ]
    }
   ],
   "source": [
    "# Creating base_model\n",
    "image_shape = (224, 224, 3)                                                                                                                                                                                                                                                                                            \n",
    "vgg19model = VGG19(weights='imagenet', input_shape=image_shape, include_top=False, pooling='avg')\n",
    "print(\"Extracting bottleneck features from convolutional layers ...\")\n",
    "vgg19features = vgg19model.predict(X)"
   ]
  },
  {
   "cell_type": "code",
   "execution_count": 9,
   "metadata": {
    "collapsed": true
   },
   "outputs": [],
   "source": [
    "# Create stratified k-fold subsets                                                                                                                                        \n",
    "kfold = 5  # no. of folds                                                                 \n",
    "skf = StratifiedKFold(kfold, shuffle=True,random_state=1)\n",
    "skfind = [None] * kfold  # skfind[i][0] -> train indices, skfind[i][1] -> test indices\n",
    "cnt = 0                                              \n",
    "for index in skf.split(X, y):         \n",
    "    skfind[cnt] = index                                                 \n",
    "    cnt += 1 "
   ]
  },
  {
   "cell_type": "code",
   "execution_count": 10,
   "metadata": {},
   "outputs": [
    {
     "name": "stdout",
     "output_type": "stream",
     "text": [
      "[0] ResNet50 acurracy: 0.9670\n",
      "[0] VGG16 acurracy: 0.9682\n",
      "[0] VGG19 acurracy: 0.9670\n",
      "[0] Avg acurracy: 0.9784\n",
      "\n",
      "[1] ResNet50 acurracy: 0.9707\n",
      "[1] VGG16 acurracy: 0.9593\n",
      "[1] VGG19 acurracy: 0.9580\n",
      "[1] Avg acurracy: 0.9669\n",
      "\n",
      "[2] ResNet50 acurracy: 0.9720\n",
      "[2] VGG16 acurracy: 0.9695\n",
      "[2] VGG19 acurracy: 0.9758\n",
      "[2] Avg acurracy: 0.9796\n",
      "\n",
      "[3] ResNet50 acurracy: 0.9593\n",
      "[3] VGG16 acurracy: 0.9580\n",
      "[3] VGG19 acurracy: 0.9567\n",
      "[3] Avg acurracy: 0.9631\n",
      "\n",
      "[4] ResNet50 acurracy: 0.9593\n",
      "[4] VGG16 acurracy: 0.9580\n",
      "[4] VGG19 acurracy: 0.9580\n",
      "[4] Avg acurracy: 0.9606\n",
      "\n"
     ]
    }
   ],
   "source": [
    "# Training top_model\n",
    "n_neighbors = 1\n",
    "conf_mat = np.zeros((len(list_fams),len(list_fams))) # Initializing the Confusion Matrix\n",
    "for i in range(kfold):\n",
    "    train_indices = skfind[i][0]\n",
    "    test_indices = skfind[i][1]\n",
    "    X_train_resnet50 = resnet50features[train_indices]\n",
    "    X_train_vgg16 = vgg16features[train_indices]\n",
    "    X_train_vgg19 = vgg19features[train_indices]\n",
    "    y_train = y[train_indices]\n",
    "    X_test_resnet50 = resnet50features[test_indices]\n",
    "    X_test_vgg16 = vgg16features[test_indices]\n",
    "    X_test_vgg19 = vgg19features[test_indices]\n",
    "    y_test = y[test_indices]\n",
    "    \n",
    "    knn_resnet50_model = KNeighborsClassifier(n_neighbors, weights='distance', n_jobs=-1)\n",
    "    knn_resnet50_model.fit(X_train_resnet50,y_train)  # Training\n",
    "    y_pred_resnet50 = knn_resnet50_model.predict(X_test_resnet50)  # Testing\n",
    "    print(\"[%d] ResNet50 acurracy: %.4f\" %(i,accuracy_score(y_test,y_pred_resnet50)))\n",
    "\n",
    "    knn_vgg16_model = KNeighborsClassifier(n_neighbors, weights='distance', n_jobs=-1)\n",
    "    knn_vgg16_model.fit(X_train_vgg16,y_train)  # Training\n",
    "    y_pred_vgg16 = knn_vgg16_model.predict(X_test_vgg16)  # Testing\n",
    "    print(\"[%d] VGG16 acurracy: %.4f\" %(i,accuracy_score(y_test,y_pred_vgg16)))\n",
    "    \n",
    "    knn_vgg19_model = KNeighborsClassifier(n_neighbors, weights='distance', n_jobs=-1)\n",
    "    knn_vgg19_model.fit(X_train_vgg19,y_train)  # Training\n",
    "    y_pred_vgg19 = knn_vgg19_model.predict(X_test_vgg19)  # Testing\n",
    "    print(\"[%d] VGG19 acurracy: %.4f\" %(i,accuracy_score(y_test,y_pred_vgg19)))\n",
    "    \n",
    "    # Majority voting\n",
    "    preds = np.vstack((y_pred_resnet50.astype(int),y_pred_vgg16.astype(int),y_pred_vgg19.astype(int)))\n",
    "    y_pred = np.asarray([np.argmax(np.bincount(preds[:,c])) for c in range(preds.shape[1])])\n",
    "    \n",
    "    print(\"[%d] Avg acurracy: %.4f\\n\" %(i,accuracy_score(y_test,y_pred)))\n",
    "    cm = confusion_matrix(y_test,y_pred)  # Compute confusion matrix for this fold\n",
    "    conf_mat = conf_mat + cm  # Compute global confusion matrix"
   ]
  },
  {
   "cell_type": "code",
   "execution_count": 11,
   "metadata": {},
   "outputs": [
    {
     "name": "stdout",
     "output_type": "stream",
     "text": [
      "Average acurracy: 0.9697\n"
     ]
    }
   ],
   "source": [
    "# Computing the average accuracy\n",
    "avg_acc = np.trace(conf_mat)/np.sum(conf_mat)\n",
    "print(\"Average acurracy: %.4f\" %(avg_acc))"
   ]
  },
  {
   "cell_type": "code",
   "execution_count": 12,
   "metadata": {},
   "outputs": [
    {
     "name": "stdout",
     "output_type": "stream",
     "text": [
      "Plotting the confusion matrix\n"
     ]
    },
    {
     "data": {
      "image/png": "[encoded data removed]",
      "text/plain": [
       "<matplotlib.figure.Figure at 0x7f8ee4048fd0>"
      ]
     },
     "metadata": {},
     "output_type": "display_data"
    }
   ],
   "source": [
    "import seaborn as sns\n",
    "\n",
    "print(\"Plotting the confusion matrix\")\n",
    "figure = plt.gcf()\n",
    "figure.set_size_inches(5, 3)\n",
    "sns.set(font_scale=1.25)\n",
    "hm = sns.heatmap(conf_mat, cbar=False, annot=True, square=True,\n",
    "                 fmt='.0f', annot_kws={'size': 14}, linewidth = 0.1, cmap = 'binary',\n",
    "                 yticklabels=list_fams, xticklabels=list_fams)\n",
    "plt.ylabel('True label')\n",
    "plt.xlabel('Predicted label')\n",
    "plt.show()"
   ]
  },
  {
   "cell_type": "code",
   "execution_count": 13,
   "metadata": {},
   "outputs": [
    {
     "name": "stdout",
     "output_type": "stream",
     "text": [
      "Plotting the confusion matrix normalized\n"
     ]
    },
    {
     "data": {
      "image/png": "[encoded data removed]",
      "text/plain": [
       "<matplotlib.figure.Figure at 0x7f8edfe730b8>"
      ]
     },
     "metadata": {},
     "output_type": "display_data"
    }
   ],
   "source": [
    "import seaborn as sns\n",
    "\n",
    "print(\"Plotting the confusion matrix normalized\")\n",
    "conf_mat_norm = conf_mat/np.sum(conf_mat,axis=1,keepdims=True)  # Normalizing the confusion matrix\n",
    "\n",
    "figure = plt.gcf()\n",
    "figure.set_size_inches(5, 3)\n",
    "sns.set(font_scale=1.25)\n",
    "hm = sns.heatmap(conf_mat_norm, cbar=False, annot=True, square=True,\n",
    "                 fmt='.4f', annot_kws={'size': 14}, linewidth = 0.1, cmap = 'binary',\n",
    "                 yticklabels=list_fams, xticklabels=list_fams)\n",
    "plt.ylabel('True label')\n",
    "plt.xlabel('Predicted label')\n",
    "plt.show()"
   ]
  }
 ],
 "metadata": {
  "kernelspec": {
   "display_name": "Python 3",
   "language": "python",
   "name": "python3"
  },
  "language_info": {
   "codemirror_mode": {
    "name": "ipython",
    "version": 3
   },
   "file_extension": ".py",
   "mimetype": "text/x-python",
   "name": "python",
   "nbconvert_exporter": "python",
   "pygments_lexer": "ipython3",
   "version": "3.5.2"
  }
 },
 "nbformat": 4,
 "nbformat_minor": 2
}
