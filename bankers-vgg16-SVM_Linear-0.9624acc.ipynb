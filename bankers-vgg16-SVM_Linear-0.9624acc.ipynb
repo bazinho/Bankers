{
 "cells": [
  {
   "cell_type": "code",
   "execution_count": 1,
   "metadata": {},
   "outputs": [
    {
     "name": "stderr",
     "output_type": "stream",
     "text": [
      "Using TensorFlow backend.\n"
     ]
    }
   ],
   "source": [
    "import os\n",
    "import os.path\n",
    "import glob\n",
    "from sklearn.preprocessing import LabelEncoder\n",
    "from sklearn.model_selection import StratifiedKFold                                                                                                                       \n",
    "from sklearn.metrics import confusion_matrix,accuracy_score\n",
    "from sklearn import svm\n",
    "from sklearn.model_selection import GridSearchCV\n",
    "import sklearn_evaluation.plot as skplot\n",
    "from sklearn.model_selection import learning_curve\n",
    "\n",
    "import matplotlib.pyplot as plt\n",
    "\n",
    "import numpy as np\n",
    "np.random.seed(1)\n",
    "\n",
    "from keras.preprocessing.image import img_to_array\n",
    "from keras.utils import np_utils\n",
    "from keras.preprocessing import image\n",
    "from keras.applications.vgg16 import VGG16\n",
    "from keras.applications.imagenet_utils import preprocess_input\n",
    "\n",
    "os.environ['CUDA_VISIBLE_DEVICES'] = '1'"
   ]
  },
  {
   "cell_type": "code",
   "execution_count": 2,
   "metadata": {
    "collapsed": true
   },
   "outputs": [],
   "source": [
    "imagedir = \"Datasets/Detection/Byteplots\""
   ]
  },
  {
   "cell_type": "code",
   "execution_count": 3,
   "metadata": {},
   "outputs": [
    {
     "name": "stdout",
     "output_type": "stream",
     "text": [
      "Label: 0\tFamily:          Banker\tNumber of images: 1986\n",
      "Label: 1\tFamily:          WinExe\tNumber of images: 1945\n",
      "Processing images ...\n"
     ]
    },
    {
     "name": "stderr",
     "output_type": "stream",
     "text": [
      "/usr/local/lib/python2.7/dist-packages/PIL/Image.py:2371: DecompressionBombWarning: Image size (103265280 pixels) exceeds limit of 89478485 pixels, could be decompression bomb DOS attack.\n",
      "  DecompressionBombWarning)\n",
      "/usr/local/lib/python2.7/dist-packages/PIL/Image.py:2371: DecompressionBombWarning: Image size (110601216 pixels) exceeds limit of 89478485 pixels, could be decompression bomb DOS attack.\n",
      "  DecompressionBombWarning)\n"
     ]
    },
    {
     "name": "stdout",
     "output_type": "stream",
     "text": [
      "Images processed: 3931\n"
     ]
    }
   ],
   "source": [
    "cur_dir = os.getcwd()\n",
    "os.chdir(imagedir)  # the parent folder with sub-folders\n",
    "\n",
    "# Get number of samples per family\n",
    "list_fams = sorted(os.listdir(os.getcwd()), key=str.lower)  # vector of strings with family names\n",
    "no_imgs = []  # No. of samples per family\n",
    "for i in range(len(list_fams)):\n",
    "    os.chdir(list_fams[i])\n",
    "    len1 = len(glob.glob('*.png'))  # assuming the images are stored as 'png'\n",
    "    no_imgs.append(len1)\n",
    "    os.chdir('..')\n",
    "num_samples = np.sum(no_imgs)  # total number of all samples\n",
    "\n",
    "# Compute the labels\n",
    "y = np.zeros(num_samples)\n",
    "pos = 0\n",
    "label = 0\n",
    "for i in no_imgs:\n",
    "    print (\"Label:%2d\\tFamily: %15s\\tNumber of images: %d\" % (label, list_fams[label], i))\n",
    "    for j in range(i):\n",
    "        y[pos] = label\n",
    "        pos += 1\n",
    "    label += 1\n",
    "num_classes = label\n",
    "\n",
    "# Compute the features\n",
    "width, height,channels = (224,224,3)\n",
    "X = np.zeros((num_samples, width, height, channels))\n",
    "cnt = 0\n",
    "list_paths = [] # List of image paths\n",
    "print(\"Processing images ...\")\n",
    "for i in range(len(list_fams)):\n",
    "    for img_file in glob.glob(list_fams[i]+'/*.png'):\n",
    "        #print(\"[%d] Processing image: %s\" % (cnt, img_file))\n",
    "        list_paths.append(os.path.join(os.getcwd(),img_file))\n",
    "        img = image.load_img(img_file, target_size=(224, 224))\n",
    "        x = image.img_to_array(img)\n",
    "        x = np.expand_dims(x, axis=0)\n",
    "        x = preprocess_input(x)\n",
    "        X[cnt] = x\n",
    "        cnt += 1\n",
    "print(\"Images processed: %d\" %(cnt))\n",
    "\n",
    "os.chdir(cur_dir)"
   ]
  },
  {
   "cell_type": "code",
   "execution_count": 4,
   "metadata": {},
   "outputs": [
    {
     "data": {
      "text/plain": [
       "(3931, 224, 224, 3)"
      ]
     },
     "execution_count": 4,
     "metadata": {},
     "output_type": "execute_result"
    }
   ],
   "source": [
    "X.shape"
   ]
  },
  {
   "cell_type": "code",
   "execution_count": 5,
   "metadata": {
    "collapsed": true
   },
   "outputs": [],
   "source": [
    "# Creating base_model\n",
    "image_shape = (224, 224, 3)                                                                                                                                                                                                                                                                                            \n",
    "base_model = VGG16(weights='imagenet', input_shape=image_shape, include_top=False)"
   ]
  },
  {
   "cell_type": "code",
   "execution_count": 6,
   "metadata": {},
   "outputs": [
    {
     "name": "stdout",
     "output_type": "stream",
     "text": [
      "Extracting bottleneck features from convolutional layers ...\n"
     ]
    }
   ],
   "source": [
    "print(\"Extracting bottleneck features from convolutional layers ...\")\n",
    "bnfeatures = base_model.predict(X)"
   ]
  },
  {
   "cell_type": "code",
   "execution_count": 7,
   "metadata": {},
   "outputs": [
    {
     "data": {
      "text/plain": [
       "(3931, 7, 7, 512)"
      ]
     },
     "execution_count": 7,
     "metadata": {},
     "output_type": "execute_result"
    }
   ],
   "source": [
    "bnfeatures.shape"
   ]
  },
  {
   "cell_type": "code",
   "execution_count": 8,
   "metadata": {
    "collapsed": true
   },
   "outputs": [],
   "source": [
    "bnfeatures = np.reshape(bnfeatures,(bnfeatures.shape[0],-1))"
   ]
  },
  {
   "cell_type": "code",
   "execution_count": 9,
   "metadata": {},
   "outputs": [
    {
     "data": {
      "text/plain": [
       "(3931, 25088)"
      ]
     },
     "execution_count": 9,
     "metadata": {},
     "output_type": "execute_result"
    }
   ],
   "source": [
    "bnfeatures.shape"
   ]
  },
  {
   "cell_type": "code",
   "execution_count": 10,
   "metadata": {
    "collapsed": true
   },
   "outputs": [],
   "source": [
    "# Create stratified k-fold subsets                                                                                                                                        \n",
    "kfold = 5  # no. of folds                                                                 \n",
    "skf = StratifiedKFold(kfold, shuffle=True,random_state=1)"
   ]
  },
  {
   "cell_type": "code",
   "execution_count": 11,
   "metadata": {},
   "outputs": [
    {
     "name": "stdout",
     "output_type": "stream",
     "text": [
      "Fitting 5 folds for each of 13 candidates, totalling 65 fits\n",
      "[CV] C=0.01 ..........................................................\n",
      "[CV] C=0.01 ..........................................................\n",
      "[CV] C=0.01 ..........................................................\n",
      "[CV] C=0.01 ..........................................................\n",
      "[CV] C=0.01 ..........................................................\n",
      "[CV] C=0.1 ...........................................................\n",
      "[CV] C=0.1 ...........................................................\n",
      "[CV] C=0.1 ...........................................................\n",
      "[CV] C=0.1 ...........................................................\n",
      "[CV] C=0.1 ...........................................................\n",
      "[CV] C=1.0 ...........................................................\n",
      "[CV] C=1.0 ...........................................................\n",
      "[CV] C=1.0 ...........................................................\n",
      "[CV] C=1.0 ...........................................................\n",
      "[CV] ........................... C=0.01, score=0.970775, total=  12.5s\n",
      "[CV] C=1.0 ...........................................................\n",
      "[CV] C=10.0 ..........................................................\n",
      "[CV] ........................... C=0.01, score=0.961832, total=  13.2s\n"
     ]
    },
    {
     "name": "stderr",
     "output_type": "stream",
     "text": [
      "[Parallel(n_jobs=-1)]: Done   2 tasks      | elapsed:   15.8s\n"
     ]
    },
    {
     "name": "stdout",
     "output_type": "stream",
     "text": [
      "[CV] C=10.0 ..........................................................\n",
      "[CV] ........................... C=0.01, score=0.969466, total=  13.1s\n",
      "[CV] C=10.0 ..........................................................\n",
      "[CV] ........................... C=0.01, score=0.945293, total=  13.9s\n",
      "[CV] C=10.0 ..........................................................\n",
      "[CV] ........................... C=0.01, score=0.964377, total=  13.6s\n",
      "[CV] C=10.0 ..........................................................\n",
      "[CV] C=100.0 .........................................................\n",
      "[CV] ............................ C=0.1, score=0.961832, total=  14.1s\n",
      "[CV] C=100.0 .........................................................\n",
      "[CV] ............................ C=0.1, score=0.970775, total=  16.0s\n",
      "[CV] C=100.0 .........................................................\n",
      "[CV] C=100.0 .........................................................\n",
      "[CV] ............................ C=0.1, score=0.945293, total=  15.0s\n",
      "[CV] ............................ C=0.1, score=0.969466, total=  16.9s\n",
      "[CV] C=100.0 .........................................................\n",
      "[CV] C=1000.0 ........................................................\n",
      "[CV] C=1000.0 ........................................................\n",
      "[CV] ............................ C=1.0, score=0.970775, total=  16.6s\n",
      "[CV] C=1000.0 ........................................................\n",
      "[CV] C=1000.0 ........................................................\n",
      "[CV] C=1000.0 ........................................................\n",
      "[CV] ............................ C=0.1, score=0.964377, total=  20.7s\n",
      "[CV] ............................ C=1.0, score=0.969466, total=  18.8s\n",
      "[CV] C=10000.0 .......................................................\n",
      "[CV] ............................ C=1.0, score=0.961832, total=  20.0s\n"
     ]
    },
    {
     "name": "stderr",
     "output_type": "stream",
     "text": [
      "[Parallel(n_jobs=-1)]: Done  13 tasks      | elapsed:   32.1s\n"
     ]
    },
    {
     "name": "stdout",
     "output_type": "stream",
     "text": [
      "[CV] ............................ C=1.0, score=0.964377, total=  17.8s\n",
      "[CV] C=10000.0 .......................................................\n",
      "[CV] C=10000.0 .......................................................\n",
      "[CV] C=10000.0 .......................................................\n",
      "[CV] ............................ C=1.0, score=0.945293, total=  21.6s\n",
      "[CV] ........................... C=10.0, score=0.970775, total=  20.0s\n",
      "[CV] C=10000.0 .......................................................\n",
      "[CV] C=100000.0 ......................................................\n",
      "[CV] C=100000.0 ......................................................\n",
      "[CV] ........................... C=10.0, score=0.969466, total=  21.3s\n",
      "[CV] C=100000.0 ......................................................\n",
      "[CV] ........................... C=10.0, score=0.961832, total=  23.3s\n",
      "[CV] C=100000.0 ......................................................\n",
      "[CV] ........................... C=10.0, score=0.945293, total=  21.6s\n",
      "[CV] C=100000.0 ......................................................\n",
      "[CV] C=1000000.0 .....................................................\n",
      "[CV] ........................... C=10.0, score=0.964377, total=  22.9s\n",
      "[CV] C=1000000.0 .....................................................\n",
      "[CV] .......................... C=100.0, score=0.961832, total=  22.4s\n",
      "[CV] .......................... C=100.0, score=0.970775, total=  23.5s\n",
      "[CV] C=1000000.0 .....................................................\n",
      "[CV] .......................... C=100.0, score=0.969466, total=  22.5s\n",
      "[CV] C=1000000.0 .....................................................\n",
      "[CV] C=1000000.0 .....................................................\n",
      "[CV] C=10000000.0 ....................................................\n",
      "[CV] .......................... C=100.0, score=0.945293, total=  24.5s\n",
      "[CV] C=10000000.0 ....................................................\n",
      "[CV] .......................... C=100.0, score=0.964377, total=  24.2s\n"
     ]
    },
    {
     "name": "stderr",
     "output_type": "stream",
     "text": [
      "[Parallel(n_jobs=-1)]: Done  25 out of  65 | elapsed:   49.9s remaining:  1.3min\n"
     ]
    },
    {
     "name": "stdout",
     "output_type": "stream",
     "text": [
      "[CV] C=10000000.0 ....................................................\n",
      "[CV] C=10000000.0 ....................................................\n",
      "[CV] ......................... C=1000.0, score=0.970775, total=  25.5s\n",
      "[CV] ......................... C=1000.0, score=0.969466, total=  23.7s\n",
      "[CV] C=10000000.0 ....................................................\n",
      "[CV] ......................... C=1000.0, score=0.961832, total=  26.0s\n",
      "[CV] C=100000000.0 ...................................................\n",
      "[CV] ......................... C=1000.0, score=0.964377, total=  24.0s\n",
      "[CV] ......................... C=1000.0, score=0.945293, total=  25.6s\n",
      "[CV] C=100000000.0 ...................................................\n",
      "[CV] C=100000000.0 ...................................................\n",
      "[CV] C=100000000.0 ...................................................\n",
      "[CV] ........................ C=10000.0, score=0.970775, total=  26.3s\n",
      "[CV] ........................ C=10000.0, score=0.961832, total=  26.1s\n",
      "[CV] C=100000000.0 ...................................................\n"
     ]
    },
    {
     "name": "stderr",
     "output_type": "stream",
     "text": [
      "[Parallel(n_jobs=-1)]: Done  32 out of  65 | elapsed:   59.5s remaining:  1.0min\n"
     ]
    },
    {
     "name": "stdout",
     "output_type": "stream",
     "text": [
      "[CV] C=1000000000.0 ..................................................\n",
      "[CV] ........................ C=10000.0, score=0.969466, total=  26.7s\n",
      "[CV] C=1000000000.0 ..................................................\n",
      "[CV] ........................ C=10000.0, score=0.945293, total=  26.9s\n",
      "[CV] ........................ C=10000.0, score=0.964377, total=  25.9s\n",
      "[CV] C=1000000000.0 ..................................................\n",
      "[CV] C=1000000000.0 ..................................................\n",
      "[CV] ....................... C=100000.0, score=0.961832, total=  26.0s\n",
      "[CV] C=1000000000.0 ..................................................\n",
      "[CV] ....................... C=100000.0, score=0.970775, total=  28.6s\n",
      "[CV] C=10000000000.0 .................................................\n",
      "[CV] ....................... C=100000.0, score=0.969466, total=  28.2s\n",
      "[CV] C=10000000000.0 .................................................\n",
      "[CV] ....................... C=100000.0, score=0.945293, total=  28.3s\n",
      "[CV] C=10000000000.0 .................................................\n"
     ]
    },
    {
     "name": "stderr",
     "output_type": "stream",
     "text": [
      "[Parallel(n_jobs=-1)]: Done  39 out of  65 | elapsed:  1.2min remaining:   46.2s\n"
     ]
    },
    {
     "name": "stdout",
     "output_type": "stream",
     "text": [
      "[CV] ....................... C=100000.0, score=0.964377, total=  29.1s\n",
      "[CV] C=10000000000.0 .................................................\n",
      "[CV] ...................... C=1000000.0, score=0.970775, total=  29.8s\n",
      "[CV] C=10000000000.0 .................................................\n",
      "[CV] ...................... C=1000000.0, score=0.961832, total=  29.0s\n",
      "[CV] ...................... C=1000000.0, score=0.969466, total=  28.9s\n",
      "[CV] ...................... C=1000000.0, score=0.964377, total=  26.9s\n",
      "[CV] ...................... C=1000000.0, score=0.945293, total=  28.2s\n",
      "[CV] ..................... C=10000000.0, score=0.961832, total=  28.0s\n",
      "[CV] ..................... C=10000000.0, score=0.970775, total=  29.3s\n"
     ]
    },
    {
     "name": "stderr",
     "output_type": "stream",
     "text": [
      "[Parallel(n_jobs=-1)]: Done  46 out of  65 | elapsed:  1.3min remaining:   32.4s\n"
     ]
    },
    {
     "name": "stdout",
     "output_type": "stream",
     "text": [
      "[CV] ..................... C=10000000.0, score=0.969466, total=  28.7s\n",
      "[CV] ..................... C=10000000.0, score=0.945293, total=  28.4s\n",
      "[CV] .................... C=100000000.0, score=0.970775, total=  26.7s\n",
      "[CV] ..................... C=10000000.0, score=0.964377, total=  28.3s\n",
      "[CV] .................... C=100000000.0, score=0.969466, total=  25.7s\n",
      "[CV] .................... C=100000000.0, score=0.964377, total=  23.9s\n",
      "[CV] .................... C=100000000.0, score=0.961832, total=  27.6s\n"
     ]
    },
    {
     "name": "stderr",
     "output_type": "stream",
     "text": [
      "[Parallel(n_jobs=-1)]: Done  53 out of  65 | elapsed:  1.4min remaining:   19.0s\n"
     ]
    },
    {
     "name": "stdout",
     "output_type": "stream",
     "text": [
      "[CV] .................... C=100000000.0, score=0.945293, total=  25.6s\n",
      "[CV] ................... C=1000000000.0, score=0.970775, total=  25.0s\n",
      "[CV] ................... C=1000000000.0, score=0.961832, total=  24.6s\n",
      "[CV] ................... C=1000000000.0, score=0.969466, total=  23.6s\n",
      "[CV] ................... C=1000000000.0, score=0.945293, total=  23.1s\n",
      "[CV] ................... C=1000000000.0, score=0.964377, total=  22.3s\n"
     ]
    },
    {
     "name": "stderr",
     "output_type": "stream",
     "text": [
      "[Parallel(n_jobs=-1)]: Done  60 out of  65 | elapsed:  1.5min remaining:    7.4s\n"
     ]
    },
    {
     "name": "stdout",
     "output_type": "stream",
     "text": [
      "[CV] .................. C=10000000000.0, score=0.970775, total=  21.1s\n",
      "[CV] .................. C=10000000000.0, score=0.961832, total=  20.6s\n",
      "[CV] .................. C=10000000000.0, score=0.969466, total=  20.3s\n",
      "[CV] .................. C=10000000000.0, score=0.945293, total=  18.7s\n",
      "[CV] .................. C=10000000000.0, score=0.964377, total=  17.8s\n"
     ]
    },
    {
     "name": "stderr",
     "output_type": "stream",
     "text": [
      "[Parallel(n_jobs=-1)]: Done  65 out of  65 | elapsed:  1.5min finished\n"
     ]
    },
    {
     "data": {
      "text/plain": [
       "GridSearchCV(cv=StratifiedKFold(n_splits=5, random_state=1, shuffle=True),\n",
       "       error_score='raise',\n",
       "       estimator=LinearSVC(C=1.0, class_weight=None, dual=True, fit_intercept=True,\n",
       "     intercept_scaling=1, loss='squared_hinge', max_iter=1000,\n",
       "     multi_class='ovr', penalty='l2', random_state=None, tol=0.0001,\n",
       "     verbose=0),\n",
       "       fit_params={}, iid=True, n_jobs=-1,\n",
       "       param_grid={'C': array([  1.00000e-02,   1.00000e-01,   1.00000e+00,   1.00000e+01,\n",
       "         1.00000e+02,   1.00000e+03,   1.00000e+04,   1.00000e+05,\n",
       "         1.00000e+06,   1.00000e+07,   1.00000e+08,   1.00000e+09,\n",
       "         1.00000e+10])},\n",
       "       pre_dispatch='2*n_jobs', refit=True, return_train_score=True,\n",
       "       scoring=None, verbose=10)"
      ]
     },
     "execution_count": 11,
     "metadata": {},
     "output_type": "execute_result"
    }
   ],
   "source": [
    "# Training top_model\n",
    "C_range = np.logspace(-2, 10, 13)\n",
    "param_grid = dict(C=C_range)\n",
    "\n",
    "top_model = GridSearchCV(svm.LinearSVC(), param_grid=param_grid, cv=skf, verbose=10, n_jobs=-1)\n",
    "top_model.fit(bnfeatures,y)  # Training "
   ]
  },
  {
   "cell_type": "code",
   "execution_count": 12,
   "metadata": {},
   "outputs": [
    {
     "data": {
      "text/plain": [
       "{'mean_fit_time': array([ 13.15453472,  16.42022519,  18.80955176,  21.62401648,\n",
       "         23.25689588,  24.81296005,  26.25417056,  27.89492106,\n",
       "         28.40203919,  28.41022558,  25.7842392 ,  23.60949721,  19.63698277]),\n",
       " 'mean_score_time': array([ 0.1278996 ,  0.14122419,  0.140343  ,  0.18841562,  0.16460252,\n",
       "         0.15453081,  0.1356956 ,  0.14237533,  0.16996217,  0.12535543,\n",
       "         0.13352561,  0.10882025,  0.08044505]),\n",
       " 'mean_test_score': array([ 0.96235055,  0.96235055,  0.96235055,  0.96235055,  0.96235055,\n",
       "         0.96235055,  0.96235055,  0.96235055,  0.96235055,  0.96235055,\n",
       "         0.96235055,  0.96235055,  0.96235055]),\n",
       " 'mean_train_score': array([ 1.,  1.,  1.,  1.,  1.,  1.,  1.,  1.,  1.,  1.,  1.,  1.,  1.]),\n",
       " 'param_C': masked_array(data = [0.01 0.10000000000000001 1.0 10.0 100.0 1000.0 10000.0 100000.0 1000000.0\n",
       "  10000000.0 100000000.0 1000000000.0 10000000000.0],\n",
       "              mask = [False False False False False False False False False False False False\n",
       "  False],\n",
       "        fill_value = ?),\n",
       " 'params': ({'C': 0.01},\n",
       "  {'C': 0.10000000000000001},\n",
       "  {'C': 1.0},\n",
       "  {'C': 10.0},\n",
       "  {'C': 100.0},\n",
       "  {'C': 1000.0},\n",
       "  {'C': 10000.0},\n",
       "  {'C': 100000.0},\n",
       "  {'C': 1000000.0},\n",
       "  {'C': 10000000.0},\n",
       "  {'C': 100000000.0},\n",
       "  {'C': 1000000000.0},\n",
       "  {'C': 10000000000.0}),\n",
       " 'rank_test_score': array([1, 1, 1, 1, 1, 1, 1, 1, 1, 1, 1, 1, 1], dtype=int32),\n",
       " 'split0_test_score': array([ 0.9707751,  0.9707751,  0.9707751,  0.9707751,  0.9707751,\n",
       "         0.9707751,  0.9707751,  0.9707751,  0.9707751,  0.9707751,\n",
       "         0.9707751,  0.9707751,  0.9707751]),\n",
       " 'split0_train_score': array([ 1.,  1.,  1.,  1.,  1.,  1.,  1.,  1.,  1.,  1.,  1.,  1.,  1.]),\n",
       " 'split1_test_score': array([ 0.96183206,  0.96183206,  0.96183206,  0.96183206,  0.96183206,\n",
       "         0.96183206,  0.96183206,  0.96183206,  0.96183206,  0.96183206,\n",
       "         0.96183206,  0.96183206,  0.96183206]),\n",
       " 'split1_train_score': array([ 1.,  1.,  1.,  1.,  1.,  1.,  1.,  1.,  1.,  1.,  1.,  1.,  1.]),\n",
       " 'split2_test_score': array([ 0.96946565,  0.96946565,  0.96946565,  0.96946565,  0.96946565,\n",
       "         0.96946565,  0.96946565,  0.96946565,  0.96946565,  0.96946565,\n",
       "         0.96946565,  0.96946565,  0.96946565]),\n",
       " 'split2_train_score': array([ 1.,  1.,  1.,  1.,  1.,  1.,  1.,  1.,  1.,  1.,  1.,  1.,  1.]),\n",
       " 'split3_test_score': array([ 0.94529262,  0.94529262,  0.94529262,  0.94529262,  0.94529262,\n",
       "         0.94529262,  0.94529262,  0.94529262,  0.94529262,  0.94529262,\n",
       "         0.94529262,  0.94529262,  0.94529262]),\n",
       " 'split3_train_score': array([ 1.,  1.,  1.,  1.,  1.,  1.,  1.,  1.,  1.,  1.,  1.,  1.,  1.]),\n",
       " 'split4_test_score': array([ 0.96437659,  0.96437659,  0.96437659,  0.96437659,  0.96437659,\n",
       "         0.96437659,  0.96437659,  0.96437659,  0.96437659,  0.96437659,\n",
       "         0.96437659,  0.96437659,  0.96437659]),\n",
       " 'split4_train_score': array([ 1.,  1.,  1.,  1.,  1.,  1.,  1.,  1.,  1.,  1.,  1.,  1.,  1.]),\n",
       " 'std_fit_time': array([ 0.4752863 ,  2.25868515,  1.74337079,  1.19719864,  0.8613915 ,\n",
       "         0.92484365,  0.38125937,  1.07099091,  0.98523294,  0.43332104,\n",
       "         1.23061283,  0.99089009,  1.24282935]),\n",
       " 'std_score_time': array([ 0.00332949,  0.02558919,  0.01439033,  0.0165355 ,  0.03701944,\n",
       "         0.01385009,  0.01294272,  0.01645575,  0.05175979,  0.02356127,\n",
       "         0.05598098,  0.02764862,  0.0050496 ]),\n",
       " 'std_test_score': array([ 0.00913158,  0.00913158,  0.00913158,  0.00913158,  0.00913158,\n",
       "         0.00913158,  0.00913158,  0.00913158,  0.00913158,  0.00913158,\n",
       "         0.00913158,  0.00913158,  0.00913158]),\n",
       " 'std_train_score': array([ 0.,  0.,  0.,  0.,  0.,  0.,  0.,  0.,  0.,  0.,  0.,  0.,  0.])}"
      ]
     },
     "execution_count": 12,
     "metadata": {},
     "output_type": "execute_result"
    }
   ],
   "source": [
    "top_model.cv_results_"
   ]
  },
  {
   "cell_type": "code",
   "execution_count": 13,
   "metadata": {},
   "outputs": [
    {
     "name": "stderr",
     "output_type": "stream",
     "text": [
      "/usr/local/lib/python2.7/dist-packages/sklearn/model_selection/_search.py:667: DeprecationWarning: The grid_scores_ attribute was deprecated in version 0.18 in favor of the more elaborate cv_results_ attribute. The grid_scores_ attribute will not be available from 0.20\n",
      "  DeprecationWarning)\n"
     ]
    },
    {
     "data": {
      "text/plain": [
       "[mean: 0.96235, std: 0.00913, params: {'C': 0.01},\n",
       " mean: 0.96235, std: 0.00913, params: {'C': 0.10000000000000001},\n",
       " mean: 0.96235, std: 0.00913, params: {'C': 1.0},\n",
       " mean: 0.96235, std: 0.00913, params: {'C': 10.0},\n",
       " mean: 0.96235, std: 0.00913, params: {'C': 100.0},\n",
       " mean: 0.96235, std: 0.00913, params: {'C': 1000.0},\n",
       " mean: 0.96235, std: 0.00913, params: {'C': 10000.0},\n",
       " mean: 0.96235, std: 0.00913, params: {'C': 100000.0},\n",
       " mean: 0.96235, std: 0.00913, params: {'C': 1000000.0},\n",
       " mean: 0.96235, std: 0.00913, params: {'C': 10000000.0},\n",
       " mean: 0.96235, std: 0.00913, params: {'C': 100000000.0},\n",
       " mean: 0.96235, std: 0.00913, params: {'C': 1000000000.0},\n",
       " mean: 0.96235, std: 0.00913, params: {'C': 10000000000.0}]"
      ]
     },
     "execution_count": 13,
     "metadata": {},
     "output_type": "execute_result"
    }
   ],
   "source": [
    "top_model.grid_scores_"
   ]
  },
  {
   "cell_type": "code",
   "execution_count": 14,
   "metadata": {},
   "outputs": [
    {
     "name": "stdout",
     "output_type": "stream",
     "text": [
      "Best parameters: {'C': 0.01} - score: 0.9624\n"
     ]
    }
   ],
   "source": [
    "print(\"Best parameters: %s - score: %0.4f\" % (top_model.best_params_, top_model.best_score_))"
   ]
  }
 ],
 "metadata": {
  "kernelspec": {
   "display_name": "Python 2",
   "language": "python",
   "name": "python2"
  },
  "language_info": {
   "codemirror_mode": {
    "name": "ipython",
    "version": 2
   },
   "file_extension": ".py",
   "mimetype": "text/x-python",
   "name": "python",
   "nbconvert_exporter": "python",
   "pygments_lexer": "ipython2",
   "version": "2.7.12"
  }
 },
 "nbformat": 4,
 "nbformat_minor": 2
}
