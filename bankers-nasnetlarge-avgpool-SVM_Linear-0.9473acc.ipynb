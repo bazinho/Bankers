{
 "cells": [
  {
   "cell_type": "code",
   "execution_count": 1,
   "metadata": {},
   "outputs": [
    {
     "name": "stderr",
     "output_type": "stream",
     "text": [
      "/usr/local/lib/python3.5/dist-packages/h5py/__init__.py:36: FutureWarning: Conversion of the second argument of issubdtype from `float` to `np.floating` is deprecated. In future, it will be treated as `np.float64 == np.dtype(float).type`.\n",
      "  from ._conv import register_converters as _register_converters\n",
      "Using TensorFlow backend.\n"
     ]
    }
   ],
   "source": [
    "import os\n",
    "import os.path\n",
    "import glob\n",
    "from sklearn.preprocessing import LabelEncoder\n",
    "from sklearn.model_selection import StratifiedKFold                                                                                                                       \n",
    "from sklearn.metrics import confusion_matrix,accuracy_score\n",
    "from sklearn import svm\n",
    "from sklearn.model_selection import GridSearchCV\n",
    "import sklearn_evaluation.plot as skplot\n",
    "from sklearn.model_selection import learning_curve\n",
    "\n",
    "import matplotlib.pyplot as plt\n",
    "\n",
    "import numpy as np\n",
    "np.random.seed(1)\n",
    "\n",
    "from keras.preprocessing.image import img_to_array\n",
    "from keras.utils import np_utils\n",
    "from keras.preprocessing import image\n",
    "from keras.applications.nasnet import NASNetLarge,preprocess_input\n",
    "\n",
    "os.environ['CUDA_VISIBLE_DEVICES'] = '0'"
   ]
  },
  {
   "cell_type": "code",
   "execution_count": 2,
   "metadata": {
    "collapsed": true
   },
   "outputs": [],
   "source": [
    "imagedir = \"Datasets/Detection/Byteplots\""
   ]
  },
  {
   "cell_type": "code",
   "execution_count": 3,
   "metadata": {},
   "outputs": [
    {
     "name": "stdout",
     "output_type": "stream",
     "text": [
      "Label: 0\tFamily:          Banker\tNumber of images: 1986\n",
      "Label: 1\tFamily:          WinExe\tNumber of images: 1945\n",
      "Processing images ...\n"
     ]
    },
    {
     "name": "stderr",
     "output_type": "stream",
     "text": [
      "/usr/local/lib/python3.5/dist-packages/PIL/Image.py:2438: DecompressionBombWarning: Image size (103265280 pixels) exceeds limit of 89478485 pixels, could be decompression bomb DOS attack.\n",
      "  DecompressionBombWarning)\n",
      "/usr/local/lib/python3.5/dist-packages/PIL/Image.py:2438: DecompressionBombWarning: Image size (110601216 pixels) exceeds limit of 89478485 pixels, could be decompression bomb DOS attack.\n",
      "  DecompressionBombWarning)\n"
     ]
    },
    {
     "name": "stdout",
     "output_type": "stream",
     "text": [
      "Images processed: 3931\n"
     ]
    }
   ],
   "source": [
    "cur_dir = os.getcwd()\n",
    "os.chdir(imagedir)  # the parent folder with sub-folders\n",
    "\n",
    "# Get number of samples per family\n",
    "list_fams = sorted(os.listdir(os.getcwd()), key=str.lower)  # vector of strings with family names\n",
    "no_imgs = []  # No. of samples per family\n",
    "for i in range(len(list_fams)):\n",
    "    os.chdir(list_fams[i])\n",
    "    len1 = len(glob.glob('*.png'))  # assuming the images are stored as 'png'\n",
    "    no_imgs.append(len1)\n",
    "    os.chdir('..')\n",
    "num_samples = np.sum(no_imgs)  # total number of all samples\n",
    "\n",
    "# Compute the labels\n",
    "y = np.zeros(num_samples)\n",
    "pos = 0\n",
    "label = 0\n",
    "for i in no_imgs:\n",
    "    print (\"Label:%2d\\tFamily: %15s\\tNumber of images: %d\" % (label, list_fams[label], i))\n",
    "    for j in range(i):\n",
    "        y[pos] = label\n",
    "        pos += 1\n",
    "    label += 1\n",
    "num_classes = label\n",
    "\n",
    "# Compute the features\n",
    "width, height,channels = (331,331,3)\n",
    "X = np.zeros((num_samples, width, height, channels))\n",
    "cnt = 0\n",
    "list_paths = [] # List of image paths\n",
    "print(\"Processing images ...\")\n",
    "for i in range(len(list_fams)):\n",
    "    for img_file in glob.glob(list_fams[i]+'/*.png'):\n",
    "        #print(\"[%d] Processing image: %s\" % (cnt, img_file))\n",
    "        list_paths.append(os.path.join(os.getcwd(),img_file))\n",
    "        img = image.load_img(img_file, target_size=(331, 331))\n",
    "        x = image.img_to_array(img)\n",
    "        x = np.expand_dims(x, axis=0)\n",
    "        x = preprocess_input(x)\n",
    "        X[cnt] = x\n",
    "        cnt += 1\n",
    "print(\"Images processed: %d\" %(cnt))\n",
    "\n",
    "os.chdir(cur_dir)"
   ]
  },
  {
   "cell_type": "code",
   "execution_count": 4,
   "metadata": {},
   "outputs": [
    {
     "data": {
      "text/plain": [
       "(3931, 331, 331, 3)"
      ]
     },
     "execution_count": 4,
     "metadata": {},
     "output_type": "execute_result"
    }
   ],
   "source": [
    "X.shape"
   ]
  },
  {
   "cell_type": "code",
   "execution_count": 5,
   "metadata": {
    "collapsed": true
   },
   "outputs": [],
   "source": [
    "# Creating base_model\n",
    "image_shape = (331, 331, 3)                                                                                                                                                                                                                                                                                            \n",
    "base_model = NASNetLarge(weights='imagenet', input_shape=image_shape, include_top=False, pooling='avg')"
   ]
  },
  {
   "cell_type": "code",
   "execution_count": 6,
   "metadata": {},
   "outputs": [
    {
     "name": "stdout",
     "output_type": "stream",
     "text": [
      "Extracting bottleneck features from convolutional layers ...\n"
     ]
    }
   ],
   "source": [
    "print(\"Extracting bottleneck features from convolutional layers ...\")\n",
    "bnfeatures = base_model.predict(X)"
   ]
  },
  {
   "cell_type": "code",
   "execution_count": 7,
   "metadata": {},
   "outputs": [
    {
     "data": {
      "text/plain": [
       "(3931, 4032)"
      ]
     },
     "execution_count": 7,
     "metadata": {},
     "output_type": "execute_result"
    }
   ],
   "source": [
    "bnfeatures.shape"
   ]
  },
  {
   "cell_type": "code",
   "execution_count": 8,
   "metadata": {
    "collapsed": true
   },
   "outputs": [],
   "source": [
    "# Create stratified k-fold subsets                                                                                                                                        \n",
    "kfold = 5  # no. of folds                                                                 \n",
    "skf = StratifiedKFold(kfold, shuffle=True,random_state=1)"
   ]
  },
  {
   "cell_type": "code",
   "execution_count": 9,
   "metadata": {},
   "outputs": [
    {
     "name": "stdout",
     "output_type": "stream",
     "text": [
      "Fitting 5 folds for each of 13 candidates, totalling 65 fits\n",
      "[CV] C=0.01 ..........................................................\n",
      "[CV] C=0.01 ..........................................................\n",
      "[CV] C=0.01 ..........................................................\n",
      "[CV] C=0.01 ..........................................................\n",
      "[CV] C=0.01 ..........................................................\n",
      "[CV] C=0.1 ...........................................................\n",
      "[CV] C=0.1 ...........................................................\n",
      "[CV] C=0.1 ...........................................................\n",
      "[CV] C=0.1 ...........................................................\n",
      "[CV] ........................... C=0.01, score=0.933926, total=   1.3s\n",
      "[CV] C=0.1 ...........................................................\n",
      "[CV] ........................... C=0.01, score=0.940204, total=   1.3s\n",
      "[CV] C=1.0 ...........................................................\n"
     ]
    },
    {
     "name": "stderr",
     "output_type": "stream",
     "text": [
      "[Parallel(n_jobs=-1)]: Done   2 tasks      | elapsed:    1.7s\n"
     ]
    },
    {
     "name": "stdout",
     "output_type": "stream",
     "text": [
      "[CV] C=1.0 ...........................................................\n",
      "[CV] ........................... C=0.01, score=0.949109, total=   1.4s\n",
      "[CV] C=1.0 ...........................................................\n",
      "[CV] ........................... C=0.01, score=0.927481, total=   1.5s\n",
      "[CV] C=1.0 ...........................................................\n",
      "[CV] C=1.0 ...........................................................\n",
      "[CV] ........................... C=0.01, score=0.914758, total=   1.7s\n",
      "[CV] C=10.0 ..........................................................\n",
      "[CV] C=10.0 ..........................................................\n",
      "[CV] C=10.0 ..........................................................\n",
      "[CV] C=10.0 ..........................................................\n",
      "[CV] C=10.0 ..........................................................\n",
      "[CV] C=100.0 .........................................................\n",
      "[CV] C=100.0 .........................................................\n",
      "[CV] C=100.0 .........................................................\n",
      "[CV] C=100.0 .........................................................\n",
      "[CV] C=100.0 .........................................................\n",
      "[CV] C=1000.0 ........................................................\n",
      "[CV] C=1000.0 ........................................................\n",
      "[CV] C=1000.0 ........................................................\n",
      "[CV] C=1000.0 ........................................................\n",
      "[CV] ............................ C=0.1, score=0.954257, total=   8.6s\n",
      "[CV] C=1000.0 ........................................................\n",
      "[CV] ............................ C=0.1, score=0.959288, total=   9.7s\n",
      "[CV] C=10000.0 .......................................................\n",
      "[CV] ............................ C=0.1, score=0.930025, total=   9.8s\n",
      "[CV] C=10000.0 .......................................................\n",
      "[CV] ............................ C=0.1, score=0.944020, total=  11.9s\n",
      "[CV] C=10000.0 .......................................................\n",
      "[CV] ............................ C=0.1, score=0.949109, total=  15.9s\n",
      "[CV] C=10000.0 .......................................................\n",
      "[CV] ........................... C=10.0, score=0.942821, total=  18.7s\n",
      "[CV] C=10000.0 .......................................................\n",
      "[CV] ............................ C=1.0, score=0.944020, total=  19.3s\n",
      "[CV] C=100000.0 ......................................................\n",
      "[CV] ........................... C=10.0, score=0.933842, total=  18.2s\n",
      "[CV] C=100000.0 ......................................................\n"
     ]
    },
    {
     "name": "stderr",
     "output_type": "stream",
     "text": [
      "[Parallel(n_jobs=-1)]: Done  13 tasks      | elapsed:   21.7s\n"
     ]
    },
    {
     "name": "stdout",
     "output_type": "stream",
     "text": [
      "[CV] ........................... C=10.0, score=0.941476, total=  19.5s\n",
      "[CV] C=100000.0 ......................................................\n",
      "[CV] ............................ C=1.0, score=0.952926, total=  20.5s\n",
      "[CV] C=100000.0 ......................................................\n",
      "[CV] ........................... C=10.0, score=0.936387, total=  19.9s\n",
      "[CV] C=100000.0 ......................................................\n",
      "[CV] ......................... C=1000.0, score=0.942748, total=  18.9s\n",
      "[CV] C=1000000.0 .....................................................\n",
      "[CV] ......................... C=1000.0, score=0.944091, total=  21.2s\n",
      "[CV] C=1000000.0 .....................................................\n",
      "[CV] ........................... C=10.0, score=0.942748, total=  24.1s\n",
      "[CV] C=1000000.0 .....................................................\n",
      "[CV] ............................ C=1.0, score=0.942748, total=  24.8s\n",
      "[CV] C=1000000.0 .....................................................\n",
      "[CV] ............................ C=1.0, score=0.947903, total=  25.8s\n",
      "[CV] C=1000000.0 .....................................................\n",
      "[CV] ............................ C=1.0, score=0.940204, total=  25.7s\n",
      "[CV] C=10000000.0 ....................................................\n",
      "[CV] .......................... C=100.0, score=0.933842, total=  23.8s\n",
      "[CV] .......................... C=100.0, score=0.942748, total=  24.4s\n",
      "[CV] C=10000000.0 ....................................................\n",
      "[CV] C=10000000.0 ....................................................\n",
      "[CV] .......................... C=100.0, score=0.941550, total=  25.6s\n",
      "[CV] C=10000000.0 ....................................................\n"
     ]
    },
    {
     "name": "stderr",
     "output_type": "stream",
     "text": [
      "[Parallel(n_jobs=-1)]: Done  25 out of  65 | elapsed:   29.2s remaining:   46.7s\n"
     ]
    },
    {
     "name": "stdout",
     "output_type": "stream",
     "text": [
      "[CV] ......................... C=1000.0, score=0.935115, total=  19.8s\n",
      "[CV] C=10000000.0 ....................................................\n",
      "[CV] .......................... C=100.0, score=0.932570, total=  25.8s\n",
      "[CV] ......................... C=1000.0, score=0.932570, total=  24.9s\n",
      "[CV] C=100000000.0 ...................................................\n",
      "[CV] C=100000000.0 ...................................................\n",
      "[CV] .......................... C=100.0, score=0.941476, total=  26.5s\n",
      "[CV] ........................ C=10000.0, score=0.941476, total=  18.7s\n",
      "[CV] C=100000000.0 ...................................................\n",
      "[CV] C=100000000.0 ...................................................\n",
      "[CV] ......................... C=1000.0, score=0.938931, total=  25.9s\n",
      "[CV] C=100000000.0 ...................................................\n",
      "[CV] ........................ C=10000.0, score=0.940280, total=  20.6s\n",
      "[CV] C=1000000000.0 ..................................................\n"
     ]
    },
    {
     "name": "stderr",
     "output_type": "stream",
     "text": [
      "[Parallel(n_jobs=-1)]: Done  32 out of  65 | elapsed:   31.8s remaining:   32.8s\n"
     ]
    },
    {
     "name": "stdout",
     "output_type": "stream",
     "text": [
      "[CV] ........................ C=10000.0, score=0.941476, total=  26.3s\n",
      "[CV] C=1000000000.0 ..................................................\n",
      "[CV] ........................ C=10000.0, score=0.935115, total=  19.4s\n",
      "[CV] C=1000000000.0 ..................................................\n",
      "[CV] ....................... C=100000.0, score=0.941476, total=  19.3s\n",
      "[CV] C=1000000000.0 ..................................................\n",
      "[CV] ....................... C=100000.0, score=0.935115, total=  18.5s\n",
      "[CV] C=1000000000.0 ..................................................\n",
      "[CV] ........................ C=10000.0, score=0.932570, total=  24.8s\n",
      "[CV] C=10000000000.0 .................................................\n",
      "[CV] ....................... C=100000.0, score=0.940280, total=  20.6s\n",
      "[CV] C=10000000000.0 .................................................\n",
      "[CV] ....................... C=100000.0, score=0.941476, total=  20.4s\n",
      "[CV] C=10000000000.0 .................................................\n"
     ]
    },
    {
     "name": "stderr",
     "output_type": "stream",
     "text": [
      "[Parallel(n_jobs=-1)]: Done  39 out of  65 | elapsed:   43.3s remaining:   28.9s\n"
     ]
    },
    {
     "name": "stdout",
     "output_type": "stream",
     "text": [
      "[CV] ....................... C=100000.0, score=0.935115, total=  20.7s\n",
      "[CV] C=10000000000.0 .................................................\n",
      "[CV] ...................... C=1000000.0, score=0.942748, total=  19.2s\n",
      "[CV] C=10000000000.0 .................................................\n",
      "[CV] ...................... C=1000000.0, score=0.940280, total=  21.4s\n",
      "[CV] ..................... C=10000000.0, score=0.936387, total=  19.4s\n",
      "[CV] .................... C=100000000.0, score=0.933842, total=  18.8s\n",
      "[CV] ................... C=1000000000.0, score=0.940280, total=  19.4s\n",
      "[CV] ...................... C=1000000.0, score=0.935115, total=  23.8s\n"
     ]
    },
    {
     "name": "stderr",
     "output_type": "stream",
     "text": [
      "[Parallel(n_jobs=-1)]: Done  46 out of  65 | elapsed:   51.6s remaining:   21.3s\n"
     ]
    },
    {
     "name": "stdout",
     "output_type": "stream",
     "text": [
      "[CV] ..................... C=10000000.0, score=0.942748, total=  23.4s\n",
      "[CV] ...................... C=1000000.0, score=0.941476, total=  25.5s\n",
      "[CV] ...................... C=1000000.0, score=0.935115, total=  25.0s\n",
      "[CV] .................... C=100000000.0, score=0.942748, total=  23.4s\n",
      "[CV] ..................... C=10000000.0, score=0.935115, total=  24.5s\n",
      "[CV] ..................... C=10000000.0, score=0.940280, total=  25.6s\n",
      "[CV] ..................... C=10000000.0, score=0.941476, total=  25.7s\n"
     ]
    },
    {
     "name": "stderr",
     "output_type": "stream",
     "text": [
      "[Parallel(n_jobs=-1)]: Done  53 out of  65 | elapsed:   54.4s remaining:   12.3s\n"
     ]
    },
    {
     "name": "stdout",
     "output_type": "stream",
     "text": [
      "[CV] .................... C=100000000.0, score=0.936387, total=  23.5s\n",
      "[CV] .................... C=100000000.0, score=0.940280, total=  24.7s\n",
      "[CV] .................... C=100000000.0, score=0.941476, total=  24.5s\n",
      "[CV] ................... C=1000000000.0, score=0.933842, total=  16.0s\n",
      "[CV] ................... C=1000000000.0, score=0.941476, total=  16.6s\n",
      "[CV] .................. C=10000000000.0, score=0.942748, total=  15.4s\n",
      "[CV] ................... C=1000000000.0, score=0.942748, total=  18.0s\n",
      "[CV] ................... C=1000000000.0, score=0.936387, total=  16.6s\n"
     ]
    },
    {
     "name": "stderr",
     "output_type": "stream",
     "text": [
      "[Parallel(n_jobs=-1)]: Done  60 out of  65 | elapsed:   58.4s remaining:    4.9s\n"
     ]
    },
    {
     "name": "stdout",
     "output_type": "stream",
     "text": [
      "[CV] .................. C=10000000000.0, score=0.933842, total=  14.5s\n",
      "[CV] .................. C=10000000000.0, score=0.941476, total=  16.1s\n",
      "[CV] .................. C=10000000000.0, score=0.932570, total=  14.4s\n",
      "[CV] .................. C=10000000000.0, score=0.940280, total=  17.4s\n"
     ]
    },
    {
     "name": "stderr",
     "output_type": "stream",
     "text": [
      "[Parallel(n_jobs=-1)]: Done  65 out of  65 | elapsed:   59.9s finished\n"
     ]
    },
    {
     "data": {
      "text/plain": [
       "GridSearchCV(cv=StratifiedKFold(n_splits=5, random_state=1, shuffle=True),\n",
       "       error_score='raise',\n",
       "       estimator=LinearSVC(C=1.0, class_weight=None, dual=True, fit_intercept=True,\n",
       "     intercept_scaling=1, loss='squared_hinge', max_iter=1000,\n",
       "     multi_class='ovr', penalty='l2', random_state=None, tol=0.0001,\n",
       "     verbose=0),\n",
       "       fit_params={}, iid=True, n_jobs=-1,\n",
       "       param_grid={'C': array([1.e-02, 1.e-01, 1.e+00, 1.e+01, 1.e+02, 1.e+03, 1.e+04, 1.e+05,\n",
       "       1.e+06, 1.e+07, 1.e+08, 1.e+09, 1.e+10])},\n",
       "       pre_dispatch='2*n_jobs', refit=True, return_train_score=True,\n",
       "       scoring=None, verbose=10)"
      ]
     },
     "execution_count": 9,
     "metadata": {},
     "output_type": "execute_result"
    }
   ],
   "source": [
    "# Training top_model\n",
    "C_range = np.logspace(-2, 10, 13)\n",
    "param_grid = dict(C=C_range)\n",
    "\n",
    "top_model = GridSearchCV(svm.LinearSVC(), param_grid=param_grid, cv=skf, verbose=10, n_jobs=-1)\n",
    "top_model.fit(bnfeatures,y)  # Training "
   ]
  },
  {
   "cell_type": "code",
   "execution_count": 10,
   "metadata": {},
   "outputs": [
    {
     "data": {
      "text/plain": [
       "{'mean_fit_time': array([ 1.36975579, 11.08852572, 23.16150756, 20.03606768, 25.10354853,\n",
       "        22.06618133, 21.88596878, 19.85658188, 22.92552934, 23.67585301,\n",
       "        22.95639009, 17.28919611, 15.53213077]),\n",
       " 'mean_score_time': array([0.05247679, 0.09488249, 0.07989583, 0.05788269, 0.09817872,\n",
       "        0.07317896, 0.05329208, 0.06567254, 0.04733424, 0.05387931,\n",
       "        0.01812425, 0.03296547, 0.02446089]),\n",
       " 'mean_test_score': array([0.9330959 , 0.94734164, 0.94556093, 0.93945561, 0.93843806,\n",
       "        0.93869244, 0.93818367, 0.93869244, 0.93894683, 0.93920122,\n",
       "        0.93894683, 0.93894683, 0.93818367]),\n",
       " 'mean_train_score': array([0.94460697, 0.97468833, 0.99847365, 1.        , 0.99993641,\n",
       "        0.99993641, 0.99993641, 0.99993641, 0.99993641, 0.99993641,\n",
       "        0.99993641, 0.99993641, 0.99993641]),\n",
       " 'param_C': masked_array(data=[0.01, 0.1, 1.0, 10.0, 100.0, 1000.0, 10000.0, 100000.0,\n",
       "                    1000000.0, 10000000.0, 100000000.0, 1000000000.0,\n",
       "                    10000000000.0],\n",
       "              mask=[False, False, False, False, False, False, False, False,\n",
       "                    False, False, False, False, False],\n",
       "        fill_value='?',\n",
       "             dtype=object),\n",
       " 'params': ({'C': 0.01},\n",
       "  {'C': 0.1},\n",
       "  {'C': 1.0},\n",
       "  {'C': 10.0},\n",
       "  {'C': 100.0},\n",
       "  {'C': 1000.0},\n",
       "  {'C': 10000.0},\n",
       "  {'C': 100000.0},\n",
       "  {'C': 1000000.0},\n",
       "  {'C': 10000000.0},\n",
       "  {'C': 100000000.0},\n",
       "  {'C': 1000000000.0},\n",
       "  {'C': 10000000000.0}),\n",
       " 'rank_test_score': array([13,  1,  2,  3, 10,  8, 11,  8,  5,  4,  5,  5, 11], dtype=int32),\n",
       " 'split0_test_score': array([0.9339263 , 0.95425667, 0.94790343, 0.94282084, 0.94155019,\n",
       "        0.94409149, 0.94027954, 0.94027954, 0.94027954, 0.94027954,\n",
       "        0.94027954, 0.94027954, 0.94027954]),\n",
       " 'split0_train_score': array([0.94465649, 0.97391858, 0.9980916 , 1.        , 1.        ,\n",
       "        1.        , 1.        , 1.        , 1.        , 1.        ,\n",
       "        1.        , 1.        , 1.        ]),\n",
       " 'split1_test_score': array([0.94020356, 0.94910941, 0.94402036, 0.94274809, 0.94274809,\n",
       "        0.94274809, 0.94147583, 0.94147583, 0.94274809, 0.94274809,\n",
       "        0.94274809, 0.94274809, 0.94274809]),\n",
       " 'split1_train_score': array([0.94244833, 0.97615262, 0.99872814, 1.        , 1.        ,\n",
       "        1.        , 1.        , 1.        , 1.        , 1.        ,\n",
       "        1.        , 1.        , 1.        ]),\n",
       " 'split2_test_score': array([0.94910941, 0.95928753, 0.95292621, 0.94147583, 0.94147583,\n",
       "        0.9389313 , 0.94147583, 0.94147583, 0.94147583, 0.94147583,\n",
       "        0.94147583, 0.94147583, 0.94147583]),\n",
       " 'split2_train_score': array([0.94149444, 0.97329094, 0.99841017, 1.        , 1.        ,\n",
       "        1.        , 1.        , 1.        , 1.        , 1.        ,\n",
       "        1.        , 1.        , 1.        ]),\n",
       " 'split3_test_score': array([0.92748092, 0.94402036, 0.94274809, 0.93384224, 0.93256997,\n",
       "        0.93256997, 0.93256997, 0.9351145 , 0.9351145 , 0.9351145 ,\n",
       "        0.93384224, 0.93384224, 0.93384224]),\n",
       " 'split3_train_score': array([0.94499205, 0.97488076, 0.99872814, 1.        , 1.        ,\n",
       "        1.        , 1.        , 1.        , 1.        , 1.        ,\n",
       "        1.        , 1.        , 1.        ]),\n",
       " 'split4_test_score': array([0.91475827, 0.93002545, 0.94020356, 0.93638677, 0.93384224,\n",
       "        0.9351145 , 0.9351145 , 0.9351145 , 0.9351145 , 0.93638677,\n",
       "        0.93638677, 0.93638677, 0.93256997]),\n",
       " 'split4_train_score': array([0.94944356, 0.97519873, 0.99841017, 1.        , 0.99968203,\n",
       "        0.99968203, 0.99968203, 0.99968203, 0.99968203, 0.99968203,\n",
       "        0.99968203, 0.99968203, 0.99968203]),\n",
       " 'std_fit_time': array([0.15082425, 2.58254427, 2.75116966, 2.11367355, 0.97559059,\n",
       "        2.7948551 , 3.04131529, 0.87751717, 2.35801148, 2.29641098,\n",
       "        2.17280204, 1.23440492, 1.13717929]),\n",
       " 'std_score_time': array([0.02822147, 0.03271218, 0.02421952, 0.00397611, 0.0100657 ,\n",
       "        0.03297029, 0.0058053 , 0.03492002, 0.01470261, 0.03072121,\n",
       "        0.00530984, 0.0116371 , 0.01672606]),\n",
       " 'std_test_score': array([0.01162125, 0.01004451, 0.00444305, 0.00366528, 0.00431357,\n",
       "        0.00438073, 0.00366036, 0.00295326, 0.00322441, 0.00295058,\n",
       "        0.00332327, 0.00332327, 0.00415717]),\n",
       " 'std_train_score': array([0.00275285, 0.00099869, 0.00023814, 0.        , 0.00012719,\n",
       "        0.00012719, 0.00012719, 0.00012719, 0.00012719, 0.00012719,\n",
       "        0.00012719, 0.00012719, 0.00012719])}"
      ]
     },
     "execution_count": 10,
     "metadata": {},
     "output_type": "execute_result"
    }
   ],
   "source": [
    "top_model.cv_results_"
   ]
  },
  {
   "cell_type": "code",
   "execution_count": 11,
   "metadata": {},
   "outputs": [
    {
     "name": "stderr",
     "output_type": "stream",
     "text": [
      "/usr/local/lib/python3.5/dist-packages/sklearn/model_selection/_search.py:667: DeprecationWarning: The grid_scores_ attribute was deprecated in version 0.18 in favor of the more elaborate cv_results_ attribute. The grid_scores_ attribute will not be available from 0.20\n",
      "  DeprecationWarning)\n"
     ]
    },
    {
     "data": {
      "text/plain": [
       "[mean: 0.93310, std: 0.01162, params: {'C': 0.01},\n",
       " mean: 0.94734, std: 0.01005, params: {'C': 0.1},\n",
       " mean: 0.94556, std: 0.00444, params: {'C': 1.0},\n",
       " mean: 0.93946, std: 0.00367, params: {'C': 10.0},\n",
       " mean: 0.93844, std: 0.00431, params: {'C': 100.0},\n",
       " mean: 0.93869, std: 0.00438, params: {'C': 1000.0},\n",
       " mean: 0.93818, std: 0.00366, params: {'C': 10000.0},\n",
       " mean: 0.93869, std: 0.00295, params: {'C': 100000.0},\n",
       " mean: 0.93895, std: 0.00322, params: {'C': 1000000.0},\n",
       " mean: 0.93920, std: 0.00295, params: {'C': 10000000.0},\n",
       " mean: 0.93895, std: 0.00332, params: {'C': 100000000.0},\n",
       " mean: 0.93895, std: 0.00332, params: {'C': 1000000000.0},\n",
       " mean: 0.93818, std: 0.00416, params: {'C': 10000000000.0}]"
      ]
     },
     "execution_count": 11,
     "metadata": {},
     "output_type": "execute_result"
    }
   ],
   "source": [
    "top_model.grid_scores_"
   ]
  },
  {
   "cell_type": "code",
   "execution_count": 12,
   "metadata": {},
   "outputs": [
    {
     "name": "stdout",
     "output_type": "stream",
     "text": [
      "Best parameters: {'C': 0.1} - score: 0.9473\n"
     ]
    }
   ],
   "source": [
    "print(\"Best parameters: %s - score: %0.4f\" % (top_model.best_params_, top_model.best_score_))"
   ]
  }
 ],
 "metadata": {
  "kernelspec": {
   "display_name": "Python 3",
   "language": "python",
   "name": "python3"
  },
  "language_info": {
   "codemirror_mode": {
    "name": "ipython",
    "version": 3
   },
   "file_extension": ".py",
   "mimetype": "text/x-python",
   "name": "python",
   "nbconvert_exporter": "python",
   "pygments_lexer": "ipython3",
   "version": "3.5.2"
  }
 },
 "nbformat": 4,
 "nbformat_minor": 2
}
