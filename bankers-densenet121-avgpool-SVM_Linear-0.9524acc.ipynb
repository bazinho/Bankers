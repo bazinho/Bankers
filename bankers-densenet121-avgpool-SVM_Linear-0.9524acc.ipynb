{
 "cells": [
  {
   "cell_type": "code",
   "execution_count": 1,
   "metadata": {},
   "outputs": [
    {
     "name": "stderr",
     "output_type": "stream",
     "text": [
      "/usr/local/lib/python3.5/dist-packages/h5py/__init__.py:36: FutureWarning: Conversion of the second argument of issubdtype from `float` to `np.floating` is deprecated. In future, it will be treated as `np.float64 == np.dtype(float).type`.\n",
      "  from ._conv import register_converters as _register_converters\n",
      "Using TensorFlow backend.\n"
     ]
    }
   ],
   "source": [
    "import os\n",
    "import os.path\n",
    "import glob\n",
    "from sklearn.preprocessing import LabelEncoder\n",
    "from sklearn.model_selection import StratifiedKFold                                                                                                                       \n",
    "from sklearn.metrics import confusion_matrix,accuracy_score\n",
    "from sklearn import svm\n",
    "from sklearn.model_selection import GridSearchCV\n",
    "import sklearn_evaluation.plot as skplot\n",
    "from sklearn.model_selection import learning_curve\n",
    "\n",
    "import matplotlib.pyplot as plt\n",
    "\n",
    "import numpy as np\n",
    "np.random.seed(1)\n",
    "\n",
    "from keras.preprocessing.image import img_to_array\n",
    "from keras.utils import np_utils\n",
    "from keras.preprocessing import image\n",
    "from keras.applications.densenet import DenseNet121,preprocess_input\n",
    "\n",
    "os.environ['CUDA_VISIBLE_DEVICES'] = '1'"
   ]
  },
  {
   "cell_type": "code",
   "execution_count": 2,
   "metadata": {
    "collapsed": true
   },
   "outputs": [],
   "source": [
    "imagedir = \"Datasets/Detection/Byteplots\""
   ]
  },
  {
   "cell_type": "code",
   "execution_count": 3,
   "metadata": {},
   "outputs": [
    {
     "name": "stdout",
     "output_type": "stream",
     "text": [
      "Label: 0\tFamily:          Banker\tNumber of images: 1986\n",
      "Label: 1\tFamily:          WinExe\tNumber of images: 1945\n",
      "Processing images ...\n"
     ]
    },
    {
     "name": "stderr",
     "output_type": "stream",
     "text": [
      "/usr/local/lib/python3.5/dist-packages/PIL/Image.py:2438: DecompressionBombWarning: Image size (103265280 pixels) exceeds limit of 89478485 pixels, could be decompression bomb DOS attack.\n",
      "  DecompressionBombWarning)\n",
      "/usr/local/lib/python3.5/dist-packages/PIL/Image.py:2438: DecompressionBombWarning: Image size (110601216 pixels) exceeds limit of 89478485 pixels, could be decompression bomb DOS attack.\n",
      "  DecompressionBombWarning)\n"
     ]
    },
    {
     "name": "stdout",
     "output_type": "stream",
     "text": [
      "Images processed: 3931\n"
     ]
    }
   ],
   "source": [
    "cur_dir = os.getcwd()\n",
    "os.chdir(imagedir)  # the parent folder with sub-folders\n",
    "\n",
    "# Get number of samples per family\n",
    "list_fams = sorted(os.listdir(os.getcwd()), key=str.lower)  # vector of strings with family names\n",
    "no_imgs = []  # No. of samples per family\n",
    "for i in range(len(list_fams)):\n",
    "    os.chdir(list_fams[i])\n",
    "    len1 = len(glob.glob('*.png'))  # assuming the images are stored as 'png'\n",
    "    no_imgs.append(len1)\n",
    "    os.chdir('..')\n",
    "num_samples = np.sum(no_imgs)  # total number of all samples\n",
    "\n",
    "# Compute the labels\n",
    "y = np.zeros(num_samples)\n",
    "pos = 0\n",
    "label = 0\n",
    "for i in no_imgs:\n",
    "    print (\"Label:%2d\\tFamily: %15s\\tNumber of images: %d\" % (label, list_fams[label], i))\n",
    "    for j in range(i):\n",
    "        y[pos] = label\n",
    "        pos += 1\n",
    "    label += 1\n",
    "num_classes = label\n",
    "\n",
    "# Compute the features\n",
    "width, height,channels = (224,224,3)\n",
    "X = np.zeros((num_samples, width, height, channels))\n",
    "cnt = 0\n",
    "list_paths = [] # List of image paths\n",
    "print(\"Processing images ...\")\n",
    "for i in range(len(list_fams)):\n",
    "    for img_file in glob.glob(list_fams[i]+'/*.png'):\n",
    "        #print(\"[%d] Processing image: %s\" % (cnt, img_file))\n",
    "        list_paths.append(os.path.join(os.getcwd(),img_file))\n",
    "        img = image.load_img(img_file, target_size=(224, 224))\n",
    "        x = image.img_to_array(img)\n",
    "        x = np.expand_dims(x, axis=0)\n",
    "        x = preprocess_input(x)\n",
    "        X[cnt] = x\n",
    "        cnt += 1\n",
    "print(\"Images processed: %d\" %(cnt))\n",
    "\n",
    "os.chdir(cur_dir)"
   ]
  },
  {
   "cell_type": "code",
   "execution_count": 4,
   "metadata": {},
   "outputs": [
    {
     "data": {
      "text/plain": [
       "(3931, 224, 224, 3)"
      ]
     },
     "execution_count": 4,
     "metadata": {},
     "output_type": "execute_result"
    }
   ],
   "source": [
    "X.shape"
   ]
  },
  {
   "cell_type": "code",
   "execution_count": 5,
   "metadata": {
    "collapsed": true
   },
   "outputs": [],
   "source": [
    "# Creating base_model\n",
    "image_shape = (224, 224, 3)                                                                                                                                                                                                                                                                                            \n",
    "base_model = DenseNet121(weights='imagenet', input_shape=image_shape, include_top=False, pooling='avg')"
   ]
  },
  {
   "cell_type": "code",
   "execution_count": 6,
   "metadata": {},
   "outputs": [
    {
     "name": "stdout",
     "output_type": "stream",
     "text": [
      "Extracting bottleneck features from convolutional layers ...\n"
     ]
    }
   ],
   "source": [
    "print(\"Extracting bottleneck features from convolutional layers ...\")\n",
    "bnfeatures = base_model.predict(X)"
   ]
  },
  {
   "cell_type": "code",
   "execution_count": 7,
   "metadata": {},
   "outputs": [
    {
     "data": {
      "text/plain": [
       "(3931, 1, 1, 1024)"
      ]
     },
     "execution_count": 7,
     "metadata": {},
     "output_type": "execute_result"
    }
   ],
   "source": [
    "bnfeatures.shape"
   ]
  },
  {
   "cell_type": "code",
   "execution_count": 8,
   "metadata": {
    "collapsed": true
   },
   "outputs": [],
   "source": [
    "bnfeatures = np.reshape(bnfeatures,(bnfeatures.shape[0],-1))"
   ]
  },
  {
   "cell_type": "code",
   "execution_count": 9,
   "metadata": {},
   "outputs": [
    {
     "data": {
      "text/plain": [
       "(3931, 1024)"
      ]
     },
     "execution_count": 9,
     "metadata": {},
     "output_type": "execute_result"
    }
   ],
   "source": [
    "bnfeatures.shape"
   ]
  },
  {
   "cell_type": "code",
   "execution_count": 10,
   "metadata": {
    "collapsed": true
   },
   "outputs": [],
   "source": [
    "# Create stratified k-fold subsets                                                                                                                                        \n",
    "kfold = 5  # no. of folds                                                                 \n",
    "skf = StratifiedKFold(kfold, shuffle=True,random_state=1)"
   ]
  },
  {
   "cell_type": "code",
   "execution_count": 11,
   "metadata": {},
   "outputs": [
    {
     "name": "stdout",
     "output_type": "stream",
     "text": [
      "Fitting 5 folds for each of 13 candidates, totalling 65 fits\n",
      "[CV] C=0.01 ..........................................................\n",
      "[CV] C=0.01 ..........................................................\n",
      "[CV] C=0.01 ..........................................................\n",
      "[CV] C=0.01 ..........................................................\n",
      "[CV] C=0.01 ..........................................................\n",
      "[CV] C=0.1 ...........................................................\n",
      "[CV] C=0.1 ...........................................................\n",
      "[CV] C=0.1 ...........................................................\n",
      "[CV] C=0.1 ...........................................................\n",
      "[CV] C=0.1 ...........................................................\n",
      "[CV] C=1.0 ...........................................................\n",
      "[CV] C=1.0 ...........................................................\n",
      "[CV] C=1.0 ...........................................................\n",
      "[CV] C=1.0 ...........................................................\n",
      "[CV] C=1.0 ...........................................................\n",
      "[CV] C=10.0 ..........................................................\n",
      "[CV] C=10.0 ..........................................................\n",
      "[CV] C=10.0 ..........................................................\n",
      "[CV] C=10.0 ..........................................................\n",
      "[CV] C=10.0 ..........................................................\n",
      "[CV] C=100.0 .........................................................\n",
      "[CV] C=100.0 .........................................................\n",
      "[CV] C=100.0 .........................................................\n",
      "[CV] C=100.0 .........................................................\n",
      "[CV] ........................... C=0.01, score=0.949174, total=   1.7s\n",
      "[CV] C=100.0 .........................................................\n",
      "[CV] ........................... C=0.01, score=0.946565, total=   1.8s\n",
      "[CV] C=1000.0 ........................................................\n"
     ]
    },
    {
     "name": "stderr",
     "output_type": "stream",
     "text": [
      "[Parallel(n_jobs=-1)]: Done   2 tasks      | elapsed:    1.9s\n"
     ]
    },
    {
     "name": "stdout",
     "output_type": "stream",
     "text": [
      "[CV] ........................... C=0.01, score=0.974555, total=   2.3s\n",
      "[CV] C=1000.0 ........................................................\n",
      "[CV] ........................... C=0.01, score=0.947837, total=   2.3s\n",
      "[CV] ........................... C=0.01, score=0.944020, total=   2.3s\n",
      "[CV] C=1000.0 ........................................................\n",
      "[CV] C=1000.0 ........................................................\n",
      "[CV] ............................ C=0.1, score=0.941476, total=   7.0s\n",
      "[CV] C=1000.0 ........................................................\n",
      "[CV] ........................... C=10.0, score=0.930025, total=   6.7s\n",
      "[CV] C=10000.0 .......................................................\n",
      "[CV] ........................... C=10.0, score=0.963104, total=   6.7s\n",
      "[CV] C=10000.0 .......................................................\n",
      "[CV] ............................ C=1.0, score=0.932570, total=   7.1s\n",
      "[CV] C=10000.0 .......................................................\n",
      "[CV] .......................... C=100.0, score=0.927573, total=   6.7s\n",
      "[CV] C=10000.0 .......................................................\n",
      "[CV] ............................ C=1.0, score=0.927573, total=   7.3s\n",
      "[CV] C=10000.0 .......................................................\n",
      "[CV] ............................ C=1.0, score=0.936387, total=   7.4s\n",
      "[CV] C=100000.0 ......................................................\n",
      "[CV] ........................... C=10.0, score=0.926302, total=   7.5s\n",
      "[CV] .......................... C=100.0, score=0.926209, total=   7.0s\n",
      "[CV] C=100000.0 ......................................................\n",
      "[CV] C=100000.0 ......................................................\n",
      "[CV] ............................ C=1.0, score=0.961832, total=   7.8s\n",
      "[CV] C=100000.0 ......................................................\n"
     ]
    },
    {
     "name": "stderr",
     "output_type": "stream",
     "text": [
      "[Parallel(n_jobs=-1)]: Done  13 tasks      | elapsed:    8.3s\n"
     ]
    },
    {
     "name": "stdout",
     "output_type": "stream",
     "text": [
      "[CV] ........................... C=10.0, score=0.922392, total=   7.6s\n",
      "[CV] C=100000.0 ......................................................\n",
      "[CV] ............................ C=0.1, score=0.944091, total=   8.4s\n",
      "[CV] C=1000000.0 .....................................................\n",
      "[CV] .......................... C=100.0, score=0.956743, total=   7.5s\n",
      "[CV] C=1000000.0 .....................................................\n",
      "[CV] .......................... C=100.0, score=0.930025, total=   7.7s\n",
      "[CV] C=1000000.0 .....................................................\n",
      "[CV] ............................ C=0.1, score=0.941476, total=   8.5s\n",
      "[CV] ............................ C=1.0, score=0.926209, total=   8.3s\n",
      "[CV] C=1000000.0 .....................................................\n",
      "[CV] C=1000000.0 .....................................................\n",
      "[CV] ......................... C=1000.0, score=0.930025, total=   6.5s\n",
      "[CV] C=10000000.0 ....................................................\n",
      "[CV] .......................... C=100.0, score=0.919847, total=   7.4s\n",
      "[CV] C=10000000.0 ....................................................\n",
      "[CV] ......................... C=1000.0, score=0.926209, total=   6.9s\n",
      "[CV] C=10000000.0 ....................................................\n",
      "[CV] ......................... C=1000.0, score=0.927573, total=   7.7s\n",
      "[CV] C=10000000.0 ....................................................\n"
     ]
    },
    {
     "name": "stderr",
     "output_type": "stream",
     "text": [
      "[Parallel(n_jobs=-1)]: Done  25 out of  65 | elapsed:    9.8s remaining:   15.8s\n"
     ]
    },
    {
     "name": "stdout",
     "output_type": "stream",
     "text": [
      "[CV] ........................... C=10.0, score=0.923664, total=   9.0s\n",
      "[CV] C=10000000.0 ....................................................\n",
      "[CV] ............................ C=0.1, score=0.968193, total=   9.8s\n",
      "[CV] C=100000000.0 ...................................................\n",
      "[CV] ............................ C=0.1, score=0.937659, total=   9.6s\n",
      "[CV] C=100000000.0 ...................................................\n",
      "[CV] ......................... C=1000.0, score=0.959288, total=   9.0s\n",
      "[CV] C=100000000.0 ...................................................\n",
      "[CV] ........................ C=10000.0, score=0.923761, total=   6.2s\n",
      "[CV] ........................ C=10000.0, score=0.930025, total=   6.2s\n",
      "[CV] C=100000000.0 ...................................................\n",
      "[CV] C=100000000.0 ...................................................\n",
      "[CV] ...................... C=1000000.0, score=0.930025, total=   5.5s\n",
      "[CV] C=1000000000.0 ..................................................\n",
      "[CV] ........................ C=10000.0, score=0.959288, total=   6.7s\n",
      "[CV] C=1000000000.0 ..................................................\n"
     ]
    },
    {
     "name": "stderr",
     "output_type": "stream",
     "text": [
      "[Parallel(n_jobs=-1)]: Done  32 out of  65 | elapsed:   14.5s remaining:   14.9s\n"
     ]
    },
    {
     "name": "stdout",
     "output_type": "stream",
     "text": [
      "[CV] ........................ C=10000.0, score=0.926209, total=   6.8s\n",
      "[CV] C=1000000000.0 ..................................................\n",
      "[CV] ....................... C=100000.0, score=0.959288, total=   6.6s\n",
      "[CV] C=1000000000.0 ..................................................\n",
      "[CV] ......................... C=1000.0, score=0.922392, total=   7.5s\n",
      "[CV] C=1000000000.0 ..................................................\n",
      "[CV] ..................... C=10000000.0, score=0.935115, total=   6.3s\n",
      "[CV] C=10000000000.0 .................................................\n",
      "[CV] ..................... C=10000000.0, score=0.923761, total=   6.6s\n",
      "[CV] C=10000000000.0 .................................................\n",
      "[CV] ..................... C=10000000.0, score=0.963104, total=   6.4s\n",
      "[CV] C=10000000000.0 .................................................\n",
      "[CV] ........................ C=10000.0, score=0.924936, total=   8.3s\n",
      "[CV] C=10000000000.0 .................................................\n"
     ]
    },
    {
     "name": "stderr",
     "output_type": "stream",
     "text": [
      "[Parallel(n_jobs=-1)]: Done  39 out of  65 | elapsed:   16.2s remaining:   10.8s\n"
     ]
    },
    {
     "name": "stdout",
     "output_type": "stream",
     "text": [
      "[CV] ...................... C=1000000.0, score=0.924936, total=   7.3s\n",
      "[CV] C=10000000000.0 .................................................\n",
      "[CV] ....................... C=100000.0, score=0.930025, total=   8.3s\n",
      "[CV] ....................... C=100000.0, score=0.923761, total=   8.6s\n",
      "[CV] ....................... C=100000.0, score=0.926209, total=   8.4s\n",
      "[CV] ...................... C=1000000.0, score=0.923761, total=   8.3s\n",
      "[CV] ...................... C=1000000.0, score=0.959288, total=   8.5s\n",
      "[CV] ....................... C=100000.0, score=0.924936, total=   8.9s\n"
     ]
    },
    {
     "name": "stderr",
     "output_type": "stream",
     "text": [
      "[Parallel(n_jobs=-1)]: Done  46 out of  65 | elapsed:   17.5s remaining:    7.2s\n"
     ]
    },
    {
     "name": "stdout",
     "output_type": "stream",
     "text": [
      "[CV] ...................... C=1000000.0, score=0.926209, total=   8.5s\n",
      "[CV] ..................... C=10000000.0, score=0.924936, total=   7.8s\n",
      "[CV] .................... C=100000000.0, score=0.923761, total=   7.7s\n",
      "[CV] ..................... C=10000000.0, score=0.924936, total=   7.8s\n",
      "[CV] .................... C=100000000.0, score=0.930025, total=   7.6s\n",
      "[CV] .................... C=100000000.0, score=0.963104, total=   7.1s\n"
     ]
    },
    {
     "name": "stderr",
     "output_type": "stream",
     "text": [
      "[Parallel(n_jobs=-1)]: Done  53 out of  65 | elapsed:   18.9s remaining:    4.3s\n"
     ]
    },
    {
     "name": "stdout",
     "output_type": "stream",
     "text": [
      "[CV] .................. C=10000000000.0, score=0.924936, total=   4.0s\n",
      "[CV] .................... C=100000000.0, score=0.924936, total=   6.5s\n",
      "[CV] ................... C=1000000000.0, score=0.923761, total=   6.2s\n",
      "[CV] .................... C=100000000.0, score=0.924936, total=   6.8s\n",
      "[CV] ................... C=1000000000.0, score=0.935115, total=   6.3s\n",
      "[CV] ................... C=1000000000.0, score=0.924936, total=   6.1s\n",
      "[CV] ................... C=1000000000.0, score=0.963104, total=   6.2s\n",
      "[CV] ................... C=1000000000.0, score=0.924936, total=   6.2s\n"
     ]
    },
    {
     "name": "stderr",
     "output_type": "stream",
     "text": [
      "[Parallel(n_jobs=-1)]: Done  60 out of  65 | elapsed:   21.2s remaining:    1.8s\n"
     ]
    },
    {
     "name": "stdout",
     "output_type": "stream",
     "text": [
      "[CV] .................. C=10000000000.0, score=0.932570, total=   5.4s\n",
      "[CV] .................. C=10000000000.0, score=0.926302, total=   5.8s\n",
      "[CV] .................. C=10000000000.0, score=0.956743, total=   5.6s\n",
      "[CV] .................. C=10000000000.0, score=0.924936, total=   5.3s\n"
     ]
    },
    {
     "name": "stderr",
     "output_type": "stream",
     "text": [
      "[Parallel(n_jobs=-1)]: Done  65 out of  65 | elapsed:   21.9s finished\n"
     ]
    },
    {
     "data": {
      "text/plain": [
       "GridSearchCV(cv=StratifiedKFold(n_splits=5, random_state=1, shuffle=True),\n",
       "       error_score='raise',\n",
       "       estimator=LinearSVC(C=1.0, class_weight=None, dual=True, fit_intercept=True,\n",
       "     intercept_scaling=1, loss='squared_hinge', max_iter=1000,\n",
       "     multi_class='ovr', penalty='l2', random_state=None, tol=0.0001,\n",
       "     verbose=0),\n",
       "       fit_params={}, iid=True, n_jobs=-1,\n",
       "       param_grid={'C': array([1.e-02, 1.e-01, 1.e+00, 1.e+01, 1.e+02, 1.e+03, 1.e+04, 1.e+05,\n",
       "       1.e+06, 1.e+07, 1.e+08, 1.e+09, 1.e+10])},\n",
       "       pre_dispatch='2*n_jobs', refit=True, return_train_score=True,\n",
       "       scoring=None, verbose=10)"
      ]
     },
     "execution_count": 11,
     "metadata": {},
     "output_type": "execute_result"
    }
   ],
   "source": [
    "# Training top_model\n",
    "C_range = np.logspace(-2, 10, 13)\n",
    "param_grid = dict(C=C_range)\n",
    "\n",
    "top_model = GridSearchCV(svm.LinearSVC(), param_grid=param_grid, cv=skf, verbose=10, n_jobs=-1)\n",
    "top_model.fit(bnfeatures,y)  # Training "
   ]
  },
  {
   "cell_type": "code",
   "execution_count": 12,
   "metadata": {},
   "outputs": [
    {
     "data": {
      "text/plain": [
       "{'mean_fit_time': array([2.02469354, 8.59994922, 7.53208761, 7.45145907, 7.19395123,\n",
       "        7.43699002, 6.78945718, 8.08289371, 7.58439422, 6.9259726 ,\n",
       "        7.11361618, 6.1637599 , 5.21577601]),\n",
       " 'mean_score_time': array([0.05251884, 0.07270083, 0.06709633, 0.04003949, 0.06354055,\n",
       "        0.07291417, 0.06325269, 0.07840571, 0.03386812, 0.05525904,\n",
       "        0.03268576, 0.0307847 , 0.00622711]),\n",
       " 'mean_test_score': array([0.95242941, 0.94657848, 0.93691173, 0.9330959 , 0.93207835,\n",
       "        0.9330959 , 0.93284152, 0.93284152, 0.93284152, 0.93436785,\n",
       "        0.93335029, 0.93436785, 0.9330959 ]),\n",
       " 'mean_train_score': array([0.9793309 , 0.99287716, 0.99955483, 0.99968201, 0.99974563,\n",
       "        0.99923684, 0.99930044, 0.99930044, 0.99930044, 0.99961842,\n",
       "        0.99949122, 0.99968201, 0.99974563]),\n",
       " 'param_C': masked_array(data=[0.01, 0.1, 1.0, 10.0, 100.0, 1000.0, 10000.0, 100000.0,\n",
       "                    1000000.0, 10000000.0, 100000000.0, 1000000000.0,\n",
       "                    10000000000.0],\n",
       "              mask=[False, False, False, False, False, False, False, False,\n",
       "                    False, False, False, False, False],\n",
       "        fill_value='?',\n",
       "             dtype=object),\n",
       " 'params': ({'C': 0.01},\n",
       "  {'C': 0.1},\n",
       "  {'C': 1.0},\n",
       "  {'C': 10.0},\n",
       "  {'C': 100.0},\n",
       "  {'C': 1000.0},\n",
       "  {'C': 10000.0},\n",
       "  {'C': 100000.0},\n",
       "  {'C': 1000000.0},\n",
       "  {'C': 10000000.0},\n",
       "  {'C': 100000000.0},\n",
       "  {'C': 1000000000.0},\n",
       "  {'C': 10000000000.0}),\n",
       " 'rank_test_score': array([ 1,  2,  3,  7, 13,  7, 10, 10, 10,  4,  6,  4,  7], dtype=int32),\n",
       " 'split0_test_score': array([0.94917408, 0.94409149, 0.92757306, 0.92630241, 0.92757306,\n",
       "        0.92757306, 0.92376112, 0.92376112, 0.92376112, 0.92376112,\n",
       "        0.92376112, 0.92376112, 0.92630241]),\n",
       " 'split0_train_score': array([0.9783715 , 0.99332061, 0.99968193, 0.99968193, 1.        ,\n",
       "        0.99936387, 0.99936387, 0.99936387, 0.99936387, 0.99968193,\n",
       "        0.99936387, 0.99968193, 1.        ]),\n",
       " 'split1_test_score': array([0.94656489, 0.94147583, 0.93638677, 0.93002545, 0.93002545,\n",
       "        0.93002545, 0.93002545, 0.93002545, 0.93002545, 0.9351145 ,\n",
       "        0.93002545, 0.9351145 , 0.93256997]),\n",
       " 'split1_train_score': array([0.97742448, 0.9936407 , 0.99968203, 1.        , 1.        ,\n",
       "        0.9990461 , 0.99936407, 0.99936407, 0.99936407, 1.        ,\n",
       "        0.99936407, 1.        , 1.        ]),\n",
       " 'split2_test_score': array([0.97455471, 0.96819338, 0.96183206, 0.96310433, 0.956743  ,\n",
       "        0.95928753, 0.95928753, 0.95928753, 0.95928753, 0.96310433,\n",
       "        0.96310433, 0.96310433, 0.956743  ]),\n",
       " 'split2_train_score': array([0.97837838, 0.99141494, 0.99968203, 0.99936407, 0.99936407,\n",
       "        0.99872814, 0.99872814, 0.99872814, 0.99872814, 0.99936407,\n",
       "        0.99936407, 0.99936407, 0.99936407]),\n",
       " 'split3_test_score': array([0.94783715, 0.94147583, 0.93256997, 0.92239186, 0.92620865,\n",
       "        0.92620865, 0.92620865, 0.92620865, 0.92620865, 0.92493639,\n",
       "        0.92493639, 0.92493639, 0.92493639]),\n",
       " 'split3_train_score': array([0.98282989, 0.99300477, 0.99968203, 0.99968203, 1.        ,\n",
       "        1.        , 1.        , 1.        , 1.        , 1.        ,\n",
       "        1.        , 1.        , 1.        ]),\n",
       " 'split4_test_score': array([0.94402036, 0.93765903, 0.92620865, 0.92366412, 0.91984733,\n",
       "        0.92239186, 0.92493639, 0.92493639, 0.92493639, 0.92493639,\n",
       "        0.92493639, 0.92493639, 0.92493639]),\n",
       " 'split4_train_score': array([0.97965024, 0.99300477, 0.9990461 , 0.99968203, 0.99936407,\n",
       "        0.9990461 , 0.9990461 , 0.9990461 , 0.9990461 , 0.9990461 ,\n",
       "        0.99936407, 0.99936407, 0.99936407]),\n",
       " 'std_fit_time': array([0.27541043, 0.97009126, 0.44492989, 0.82727192, 0.38701976,\n",
       "        0.88762318, 0.78483018, 0.80497157, 1.13757656, 0.67663933,\n",
       "        0.45706275, 0.04404434, 0.6536426 ]),\n",
       " 'std_score_time': array([0.00878851, 0.03085434, 0.0196814 , 0.00578313, 0.01932902,\n",
       "        0.05008186, 0.05520861, 0.05403402, 0.01654553, 0.0259708 ,\n",
       "        0.02102678, 0.02235007, 0.00294337]),\n",
       " 'std_test_score': array([0.01119083, 0.01099885, 0.01297546, 0.0152275 , 0.01278066,\n",
       "        0.01332482, 0.01338759, 0.01338759, 0.01338759, 0.01494396,\n",
       "        0.01503148, 0.01494396, 0.01215434]),\n",
       " 'std_train_score': array([0.00188717, 0.00076815, 0.00025436, 0.0002011 , 0.00031154,\n",
       "        0.0004313 , 0.00042182, 0.00042182, 0.00042182, 0.0003708 ,\n",
       "        0.00025439, 0.0002844 , 0.00031154])}"
      ]
     },
     "execution_count": 12,
     "metadata": {},
     "output_type": "execute_result"
    }
   ],
   "source": [
    "top_model.cv_results_"
   ]
  },
  {
   "cell_type": "code",
   "execution_count": 13,
   "metadata": {},
   "outputs": [
    {
     "name": "stderr",
     "output_type": "stream",
     "text": [
      "/usr/local/lib/python3.5/dist-packages/sklearn/model_selection/_search.py:667: DeprecationWarning: The grid_scores_ attribute was deprecated in version 0.18 in favor of the more elaborate cv_results_ attribute. The grid_scores_ attribute will not be available from 0.20\n",
      "  DeprecationWarning)\n"
     ]
    },
    {
     "data": {
      "text/plain": [
       "[mean: 0.95243, std: 0.01119, params: {'C': 0.01},\n",
       " mean: 0.94658, std: 0.01100, params: {'C': 0.1},\n",
       " mean: 0.93691, std: 0.01298, params: {'C': 1.0},\n",
       " mean: 0.93310, std: 0.01523, params: {'C': 10.0},\n",
       " mean: 0.93208, std: 0.01278, params: {'C': 100.0},\n",
       " mean: 0.93310, std: 0.01333, params: {'C': 1000.0},\n",
       " mean: 0.93284, std: 0.01339, params: {'C': 10000.0},\n",
       " mean: 0.93284, std: 0.01339, params: {'C': 100000.0},\n",
       " mean: 0.93284, std: 0.01339, params: {'C': 1000000.0},\n",
       " mean: 0.93437, std: 0.01494, params: {'C': 10000000.0},\n",
       " mean: 0.93335, std: 0.01503, params: {'C': 100000000.0},\n",
       " mean: 0.93437, std: 0.01494, params: {'C': 1000000000.0},\n",
       " mean: 0.93310, std: 0.01216, params: {'C': 10000000000.0}]"
      ]
     },
     "execution_count": 13,
     "metadata": {},
     "output_type": "execute_result"
    }
   ],
   "source": [
    "top_model.grid_scores_"
   ]
  },
  {
   "cell_type": "code",
   "execution_count": 14,
   "metadata": {},
   "outputs": [
    {
     "name": "stdout",
     "output_type": "stream",
     "text": [
      "Best parameters: {'C': 0.01} - score: 0.9524\n"
     ]
    }
   ],
   "source": [
    "print(\"Best parameters: %s - score: %0.4f\" % (top_model.best_params_, top_model.best_score_))"
   ]
  }
 ],
 "metadata": {
  "kernelspec": {
   "display_name": "Python 3",
   "language": "python",
   "name": "python3"
  },
  "language_info": {
   "codemirror_mode": {
    "name": "ipython",
    "version": 3
   },
   "file_extension": ".py",
   "mimetype": "text/x-python",
   "name": "python",
   "nbconvert_exporter": "python",
   "pygments_lexer": "ipython3",
   "version": "3.5.2"
  }
 },
 "nbformat": 4,
 "nbformat_minor": 2
}
