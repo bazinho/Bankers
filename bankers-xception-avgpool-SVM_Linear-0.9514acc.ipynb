{
 "cells": [
  {
   "cell_type": "code",
   "execution_count": 1,
   "metadata": {},
   "outputs": [
    {
     "name": "stderr",
     "output_type": "stream",
     "text": [
      "Using TensorFlow backend.\n"
     ]
    }
   ],
   "source": [
    "import os\n",
    "import os.path\n",
    "import glob\n",
    "from sklearn.preprocessing import LabelEncoder\n",
    "from sklearn.model_selection import StratifiedKFold                                                                                                                       \n",
    "from sklearn.metrics import confusion_matrix,accuracy_score\n",
    "from sklearn import svm\n",
    "from sklearn.model_selection import GridSearchCV\n",
    "import sklearn_evaluation.plot as skplot\n",
    "from sklearn.model_selection import learning_curve\n",
    "\n",
    "import matplotlib.pyplot as plt\n",
    "\n",
    "import numpy as np\n",
    "np.random.seed(1)\n",
    "\n",
    "from keras.preprocessing.image import img_to_array\n",
    "from keras.utils import np_utils\n",
    "from keras.preprocessing import image\n",
    "from keras.applications.xception import Xception,preprocess_input\n",
    "\n",
    "os.environ['CUDA_VISIBLE_DEVICES'] = '1'"
   ]
  },
  {
   "cell_type": "code",
   "execution_count": 2,
   "metadata": {
    "collapsed": true
   },
   "outputs": [],
   "source": [
    "imagedir = \"Datasets/Detection/Byteplots\""
   ]
  },
  {
   "cell_type": "code",
   "execution_count": 3,
   "metadata": {},
   "outputs": [
    {
     "name": "stdout",
     "output_type": "stream",
     "text": [
      "Label: 0\tFamily:          Banker\tNumber of images: 1986\n",
      "Label: 1\tFamily:          WinExe\tNumber of images: 1945\n",
      "Processing images ...\n"
     ]
    },
    {
     "name": "stderr",
     "output_type": "stream",
     "text": [
      "/usr/local/lib/python2.7/dist-packages/PIL/Image.py:2371: DecompressionBombWarning: Image size (103265280 pixels) exceeds limit of 89478485 pixels, could be decompression bomb DOS attack.\n",
      "  DecompressionBombWarning)\n",
      "/usr/local/lib/python2.7/dist-packages/PIL/Image.py:2371: DecompressionBombWarning: Image size (110601216 pixels) exceeds limit of 89478485 pixels, could be decompression bomb DOS attack.\n",
      "  DecompressionBombWarning)\n"
     ]
    },
    {
     "name": "stdout",
     "output_type": "stream",
     "text": [
      "Images processed: 3931\n"
     ]
    }
   ],
   "source": [
    "cur_dir = os.getcwd()\n",
    "os.chdir(imagedir)  # the parent folder with sub-folders\n",
    "\n",
    "# Get number of samples per family\n",
    "list_fams = sorted(os.listdir(os.getcwd()), key=str.lower)  # vector of strings with family names\n",
    "no_imgs = []  # No. of samples per family\n",
    "for i in range(len(list_fams)):\n",
    "    os.chdir(list_fams[i])\n",
    "    len1 = len(glob.glob('*.png'))  # assuming the images are stored as 'png'\n",
    "    no_imgs.append(len1)\n",
    "    os.chdir('..')\n",
    "num_samples = np.sum(no_imgs)  # total number of all samples\n",
    "\n",
    "# Compute the labels\n",
    "y = np.zeros(num_samples)\n",
    "pos = 0\n",
    "label = 0\n",
    "for i in no_imgs:\n",
    "    print (\"Label:%2d\\tFamily: %15s\\tNumber of images: %d\" % (label, list_fams[label], i))\n",
    "    for j in range(i):\n",
    "        y[pos] = label\n",
    "        pos += 1\n",
    "    label += 1\n",
    "num_classes = label\n",
    "\n",
    "# Compute the features\n",
    "width, height,channels = (224,224,3)\n",
    "X = np.zeros((num_samples, width, height, channels))\n",
    "cnt = 0\n",
    "list_paths = [] # List of image paths\n",
    "print(\"Processing images ...\")\n",
    "for i in range(len(list_fams)):\n",
    "    for img_file in glob.glob(list_fams[i]+'/*.png'):\n",
    "        #print(\"[%d] Processing image: %s\" % (cnt, img_file))\n",
    "        list_paths.append(os.path.join(os.getcwd(),img_file))\n",
    "        img = image.load_img(img_file, target_size=(224, 224))\n",
    "        x = image.img_to_array(img)\n",
    "        x = np.expand_dims(x, axis=0)\n",
    "        x = preprocess_input(x)\n",
    "        X[cnt] = x\n",
    "        cnt += 1\n",
    "print(\"Images processed: %d\" %(cnt))\n",
    "\n",
    "os.chdir(cur_dir)"
   ]
  },
  {
   "cell_type": "code",
   "execution_count": 4,
   "metadata": {},
   "outputs": [
    {
     "data": {
      "text/plain": [
       "(3931, 224, 224, 3)"
      ]
     },
     "execution_count": 4,
     "metadata": {},
     "output_type": "execute_result"
    }
   ],
   "source": [
    "X.shape"
   ]
  },
  {
   "cell_type": "code",
   "execution_count": 5,
   "metadata": {
    "collapsed": true
   },
   "outputs": [],
   "source": [
    "# Creating base_model\n",
    "image_shape = (224, 224, 3)                                                                                                                                                                                                                                                                                            \n",
    "base_model = Xception(weights='imagenet', input_shape=image_shape, include_top=False, pooling='avg')"
   ]
  },
  {
   "cell_type": "code",
   "execution_count": 6,
   "metadata": {},
   "outputs": [
    {
     "name": "stdout",
     "output_type": "stream",
     "text": [
      "Extracting bottleneck features from convolutional layers ...\n"
     ]
    }
   ],
   "source": [
    "print(\"Extracting bottleneck features from convolutional layers ...\")\n",
    "bnfeatures = base_model.predict(X)"
   ]
  },
  {
   "cell_type": "code",
   "execution_count": 7,
   "metadata": {},
   "outputs": [
    {
     "data": {
      "text/plain": [
       "(3931, 2048)"
      ]
     },
     "execution_count": 7,
     "metadata": {},
     "output_type": "execute_result"
    }
   ],
   "source": [
    "bnfeatures.shape"
   ]
  },
  {
   "cell_type": "code",
   "execution_count": 8,
   "metadata": {
    "collapsed": true
   },
   "outputs": [],
   "source": [
    "# Create stratified k-fold subsets                                                                                                                                        \n",
    "kfold = 5  # no. of folds                                                                 \n",
    "skf = StratifiedKFold(kfold, shuffle=True,random_state=1)"
   ]
  },
  {
   "cell_type": "code",
   "execution_count": 9,
   "metadata": {},
   "outputs": [
    {
     "name": "stdout",
     "output_type": "stream",
     "text": [
      "Fitting 5 folds for each of 13 candidates, totalling 65 fits\n",
      "[CV] C=0.01 ..........................................................\n",
      "[CV] C=0.01 ..........................................................\n",
      "[CV] C=0.01 ..........................................................\n",
      "[CV] C=0.01 ..........................................................\n",
      "[CV] C=0.01 ..........................................................\n",
      "[CV] C=0.1 ...........................................................\n",
      "[CV] C=0.1 ...........................................................\n",
      "[CV] C=0.1 ...........................................................\n",
      "[CV] C=0.1 ...........................................................\n",
      "[CV] C=0.1 ...........................................................\n",
      "[CV] C=1.0 ...........................................................\n",
      "[CV] C=1.0 ...........................................................\n",
      "[CV] C=1.0 ...........................................................\n",
      "[CV] C=1.0 ...........................................................\n",
      "[CV] C=1.0 ...........................................................\n",
      "[CV] C=10.0 ..........................................................\n",
      "[CV] C=10.0 ..........................................................\n",
      "[CV] C=10.0 ..........................................................\n",
      "[CV] C=10.0 ..........................................................\n",
      "[CV] C=10.0 ..........................................................\n",
      "[CV] ........................... C=0.01, score=0.942748, total=   3.2s\n",
      "[CV] C=100.0 .........................................................\n",
      "[CV] C=100.0 .........................................................\n",
      "[CV] ........................... C=0.01, score=0.964377, total=   3.8s\n",
      "[CV] C=100.0 .........................................................\n"
     ]
    },
    {
     "name": "stderr",
     "output_type": "stream",
     "text": [
      "[Parallel(n_jobs=-1)]: Done   2 tasks      | elapsed:    4.7s\n"
     ]
    },
    {
     "name": "stdout",
     "output_type": "stream",
     "text": [
      "[CV] ........................... C=0.01, score=0.940204, total=   4.3s\n",
      "[CV] C=100.0 .........................................................\n",
      "[CV] C=100.0 .........................................................\n",
      "[CV] C=1000.0 ........................................................\n",
      "[CV] ........................... C=0.01, score=0.945362, total=   5.1s\n",
      "[CV] C=1000.0 ........................................................\n",
      "[CV] C=1000.0 ........................................................\n",
      "[CV] ........................... C=0.01, score=0.933842, total=   5.1s\n",
      "[CV] C=1000.0 ........................................................\n",
      "[CV] ............................ C=0.1, score=0.966921, total=  15.1s\n",
      "[CV] C=1000.0 ........................................................\n",
      "[CV] ............................ C=1.0, score=0.937659, total=  14.7s\n",
      "[CV] C=10000.0 .......................................................\n",
      "[CV] ........................... C=10.0, score=0.949174, total=  15.3s\n",
      "[CV] C=10000.0 .......................................................\n",
      "[CV] .......................... C=100.0, score=0.942748, total=  14.4s\n",
      "[CV] C=10000.0 .......................................................\n",
      "[CV] .......................... C=100.0, score=0.930025, total=  16.1s\n",
      "[CV] C=10000.0 .......................................................\n",
      "[CV] ............................ C=0.1, score=0.961881, total=  22.6s\n",
      "[CV] C=10000.0 .......................................................\n",
      "[CV] ............................ C=0.1, score=0.941476, total=  22.2s\n",
      "[CV] C=100000.0 ......................................................\n",
      "[CV] ............................ C=0.1, score=0.946565, total=  22.9s\n",
      "[CV] C=100000.0 ......................................................\n"
     ]
    },
    {
     "name": "stderr",
     "output_type": "stream",
     "text": [
      "[Parallel(n_jobs=-1)]: Done  13 tasks      | elapsed:   24.9s\n"
     ]
    },
    {
     "name": "stdout",
     "output_type": "stream",
     "text": [
      "[CV] ......................... C=1000.0, score=0.927481, total=  18.9s\n",
      "[CV] C=100000.0 ......................................................\n",
      "[CV] ............................ C=0.1, score=0.940204, total=  23.8s\n",
      "[CV] C=100000.0 ......................................................\n",
      "[CV] ......................... C=1000.0, score=0.942748, total=  10.0s\n",
      "[CV] C=100000.0 ......................................................\n",
      "[CV] ........................ C=10000.0, score=0.927481, total=   8.7s\n",
      "[CV] C=1000000.0 .....................................................\n",
      "[CV] ........................ C=10000.0, score=0.947903, total=  10.3s\n",
      "[CV] C=1000000.0 .....................................................\n",
      "[CV] ........................ C=10000.0, score=0.952926, total=   8.7s\n",
      "[CV] C=1000000.0 .....................................................\n",
      "[CV] ........................... C=10.0, score=0.926209, total=  25.9s\n",
      "[CV] C=1000000.0 .....................................................\n",
      "[CV] ......................... C=1000.0, score=0.928753, total=  23.0s\n",
      "[CV] C=1000000.0 .....................................................\n",
      "[CV] ........................ C=10000.0, score=0.928753, total=   8.5s\n",
      "[CV] ............................ C=1.0, score=0.932570, total=  27.6s\n",
      "[CV] C=10000000.0 ....................................................\n",
      "[CV] ........................... C=10.0, score=0.930025, total=  26.1s\n",
      "[CV] C=10000000.0 ....................................................\n",
      "[CV] ........................... C=10.0, score=0.944020, total=  25.9s\n",
      "[CV] C=10000000.0 ....................................................\n"
     ]
    },
    {
     "name": "stderr",
     "output_type": "stream",
     "text": [
      "[Parallel(n_jobs=-1)]: Done  25 out of  65 | elapsed:   30.2s remaining:   48.2s\n"
     ]
    },
    {
     "name": "stdout",
     "output_type": "stream",
     "text": [
      "[CV] C=10000000.0 ....................................................\n",
      "[CV] .......................... C=100.0, score=0.926209, total=  26.1s\n",
      "[CV] C=10000000.0 ....................................................\n",
      "[CV] ............................ C=1.0, score=0.941476, total=  27.9s\n",
      "[CV] C=100000000.0 ...................................................\n",
      "[CV] ............................ C=1.0, score=0.959288, total=  28.8s\n",
      "[CV] C=100000000.0 ...................................................\n",
      "[CV] ........................... C=10.0, score=0.954198, total=  28.0s\n",
      "[CV] C=100000000.0 ...................................................\n",
      "[CV] ............................ C=1.0, score=0.952986, total=  29.6s\n",
      "[CV] C=100000000.0 ...................................................\n",
      "[CV] ......................... C=1000.0, score=0.952926, total=  25.7s\n",
      "[CV] C=100000000.0 ...................................................\n",
      "[CV] .......................... C=100.0, score=0.947903, total=  27.8s\n",
      "[CV] C=1000000000.0 ..................................................\n"
     ]
    },
    {
     "name": "stderr",
     "output_type": "stream",
     "text": [
      "[Parallel(n_jobs=-1)]: Done  32 out of  65 | elapsed:   32.4s remaining:   33.4s\n"
     ]
    },
    {
     "name": "stdout",
     "output_type": "stream",
     "text": [
      "[CV] ......................... C=1000.0, score=0.947903, total=  26.9s\n",
      "[CV] C=1000000000.0 ..................................................\n",
      "[CV] .......................... C=100.0, score=0.952926, total=  28.4s\n",
      "[CV] C=1000000000.0 ..................................................\n",
      "[CV] ....................... C=100000.0, score=0.942748, total=   9.1s\n",
      "[CV] C=1000000000.0 ..................................................\n",
      "[CV] ...................... C=1000000.0, score=0.949174, total=   8.9s\n",
      "[CV] C=1000000000.0 ..................................................\n",
      "[CV] ...................... C=1000000.0, score=0.924936, total=   9.0s\n",
      "[CV] C=10000000000.0 .................................................\n",
      "[CV] ...................... C=1000000.0, score=0.952926, total=   9.4s\n",
      "[CV] C=10000000000.0 .................................................\n",
      "[CV] ..................... C=10000000.0, score=0.949174, total=   9.9s\n",
      "[CV] C=10000000000.0 .................................................\n"
     ]
    },
    {
     "name": "stderr",
     "output_type": "stream",
     "text": [
      "[Parallel(n_jobs=-1)]: Done  39 out of  65 | elapsed:   40.1s remaining:   26.8s\n"
     ]
    },
    {
     "name": "stdout",
     "output_type": "stream",
     "text": [
      "[CV] ....................... C=100000.0, score=0.927481, total=  15.5s\n",
      "[CV] C=10000000000.0 .................................................\n",
      "[CV] ....................... C=100000.0, score=0.947903, total=  16.8s\n",
      "[CV] C=10000000000.0 .................................................\n",
      "[CV] ....................... C=100000.0, score=0.952926, total=  16.1s\n",
      "[CV] ....................... C=100000.0, score=0.928753, total=  16.9s\n",
      "[CV] ........................ C=10000.0, score=0.942748, total=  19.2s\n",
      "[CV] ................... C=1000000000.0, score=0.947903, total=  11.6s\n",
      "[CV] .................... C=100000000.0, score=0.942748, total=  11.9s\n"
     ]
    },
    {
     "name": "stderr",
     "output_type": "stream",
     "text": [
      "[Parallel(n_jobs=-1)]: Done  46 out of  65 | elapsed:   44.2s remaining:   18.3s\n"
     ]
    },
    {
     "name": "stdout",
     "output_type": "stream",
     "text": [
      "[CV] ...................... C=1000000.0, score=0.928753, total=  15.9s\n",
      "[CV] ................... C=1000000000.0, score=0.927481, total=   9.3s\n",
      "[CV] ................... C=1000000000.0, score=0.942748, total=   9.3s\n",
      "[CV] ..................... C=10000000.0, score=0.927481, total=  16.0s\n",
      "[CV] ...................... C=1000000.0, score=0.942748, total=  16.4s\n",
      "[CV] .................... C=100000000.0, score=0.928753, total=  14.2s\n",
      "[CV] ..................... C=10000000.0, score=0.928753, total=  15.8s\n",
      "[CV] ..................... C=10000000.0, score=0.942748, total=  15.7s\n"
     ]
    },
    {
     "name": "stderr",
     "output_type": "stream",
     "text": [
      "[Parallel(n_jobs=-1)]: Done  53 out of  65 | elapsed:   46.5s remaining:   10.5s\n"
     ]
    },
    {
     "name": "stdout",
     "output_type": "stream",
     "text": [
      "[CV] .................... C=100000000.0, score=0.927481, total=  15.3s\n",
      "[CV] .................. C=10000000000.0, score=0.926209, total=   8.8s\n",
      "[CV] ..................... C=10000000.0, score=0.952926, total=  17.1s\n",
      "[CV] .................. C=10000000000.0, score=0.946633, total=   9.9s\n",
      "[CV] ................... C=1000000000.0, score=0.924936, total=  14.7s\n",
      "[CV] .................... C=100000000.0, score=0.947903, total=  16.4s\n",
      "[CV] .................... C=100000000.0, score=0.952926, total=  15.8s\n"
     ]
    },
    {
     "name": "stderr",
     "output_type": "stream",
     "text": [
      "[Parallel(n_jobs=-1)]: Done  60 out of  65 | elapsed:   47.8s remaining:    4.0s\n"
     ]
    },
    {
     "name": "stdout",
     "output_type": "stream",
     "text": [
      "[CV] ................... C=1000000000.0, score=0.952926, total=  14.4s\n",
      "[CV] .................. C=10000000000.0, score=0.952926, total=   8.3s\n",
      "[CV] .................. C=10000000000.0, score=0.928753, total=   8.7s\n",
      "[CV] .................. C=10000000000.0, score=0.942748, total=   8.4s\n"
     ]
    },
    {
     "name": "stderr",
     "output_type": "stream",
     "text": [
      "[Parallel(n_jobs=-1)]: Done  65 out of  65 | elapsed:   49.8s finished\n"
     ]
    },
    {
     "data": {
      "text/plain": [
       "GridSearchCV(cv=StratifiedKFold(n_splits=5, random_state=1, shuffle=True),\n",
       "       error_score='raise',\n",
       "       estimator=LinearSVC(C=1.0, class_weight=None, dual=True, fit_intercept=True,\n",
       "     intercept_scaling=1, loss='squared_hinge', max_iter=1000,\n",
       "     multi_class='ovr', penalty='l2', random_state=None, tol=0.0001,\n",
       "     verbose=0),\n",
       "       fit_params={}, iid=True, n_jobs=-1,\n",
       "       param_grid={'C': array([  1.00000e-02,   1.00000e-01,   1.00000e+00,   1.00000e+01,\n",
       "         1.00000e+02,   1.00000e+03,   1.00000e+04,   1.00000e+05,\n",
       "         1.00000e+06,   1.00000e+07,   1.00000e+08,   1.00000e+09,\n",
       "         1.00000e+10])},\n",
       "       pre_dispatch='2*n_jobs', refit=True, return_train_score=True,\n",
       "       scoring=None, verbose=10)"
      ]
     },
     "execution_count": 9,
     "metadata": {},
     "output_type": "execute_result"
    }
   ],
   "source": [
    "# Training top_model\n",
    "C_range = np.logspace(-2, 10, 13)\n",
    "param_grid = dict(C=C_range)\n",
    "\n",
    "top_model = GridSearchCV(svm.LinearSVC(), param_grid=param_grid, cv=skf, verbose=10, n_jobs=-1)\n",
    "top_model.fit(bnfeatures,y)  # Training "
   ]
  },
  {
   "cell_type": "code",
   "execution_count": 10,
   "metadata": {},
   "outputs": [
    {
     "data": {
      "text/plain": [
       "{'mean_fit_time': array([  4.19867325,  21.18969688,  25.6548193 ,  24.14653616,\n",
       "         22.43516884,  20.80662475,  10.96411905,  14.85016942,\n",
       "         11.89426675,  14.83085141,  14.67785382,  11.8375062 ,   8.81231699]),\n",
       " 'mean_score_time': array([ 0.0938262 ,  0.10314813,  0.07468834,  0.07859397,  0.10499978,\n",
       "         0.06364498,  0.07921801,  0.03368697,  0.03297119,  0.06931686,\n",
       "         0.03924241,  0.03837314,  0.00568819]),\n",
       " 'mean_test_score': array([ 0.94530654,  0.95141185,  0.94479776,  0.94072755,  0.93996439,\n",
       "         0.93996439,  0.93996439,  0.93996439,  0.93971   ,  0.94021877,\n",
       "         0.93996439,  0.93920122,  0.93945561]),\n",
       " 'mean_train_score': array([ 0.97201724,  0.99274995,  1.        ,  1.        ,  1.        ,\n",
       "         1.        ,  1.        ,  1.        ,  0.99993639,  0.99993639,\n",
       "         1.        ,  0.99993641,  1.        ]),\n",
       " 'param_C': masked_array(data = [0.01 0.10000000000000001 1.0 10.0 100.0 1000.0 10000.0 100000.0 1000000.0\n",
       "  10000000.0 100000000.0 1000000000.0 10000000000.0],\n",
       "              mask = [False False False False False False False False False False False False\n",
       "  False],\n",
       "        fill_value = ?),\n",
       " 'params': ({'C': 0.01},\n",
       "  {'C': 0.10000000000000001},\n",
       "  {'C': 1.0},\n",
       "  {'C': 10.0},\n",
       "  {'C': 100.0},\n",
       "  {'C': 1000.0},\n",
       "  {'C': 10000.0},\n",
       "  {'C': 100000.0},\n",
       "  {'C': 1000000.0},\n",
       "  {'C': 10000000.0},\n",
       "  {'C': 100000000.0},\n",
       "  {'C': 1000000000.0},\n",
       "  {'C': 10000000000.0}),\n",
       " 'rank_test_score': array([ 2,  1,  3,  4,  6,  6,  6,  6, 11,  5,  6, 13, 12], dtype=int32),\n",
       " 'split0_test_score': array([ 0.94536213,  0.96188056,  0.95298602,  0.94917408,  0.94790343,\n",
       "         0.94790343,  0.94790343,  0.94790343,  0.94917408,  0.94917408,\n",
       "         0.94790343,  0.94790343,  0.94663278]),\n",
       " 'split0_train_score': array([ 0.97105598,  0.99300254,  1.        ,  1.        ,  1.        ,\n",
       "         1.        ,  1.        ,  1.        ,  0.99968193,  0.99968193,\n",
       "         1.        ,  1.        ,  1.        ]),\n",
       " 'split1_test_score': array([ 0.94020356,  0.94020356,  0.93256997,  0.92620865,  0.92620865,\n",
       "         0.92748092,  0.92748092,  0.92748092,  0.92493639,  0.92748092,\n",
       "         0.92748092,  0.92493639,  0.92620865]),\n",
       " 'split1_train_score': array([ 0.97424483,  0.99332273,  1.        ,  1.        ,  1.        ,\n",
       "         1.        ,  1.        ,  1.        ,  1.        ,  1.        ,\n",
       "         1.        ,  1.        ,  1.        ]),\n",
       " 'split2_test_score': array([ 0.96437659,  0.96692112,  0.95928753,  0.95419847,  0.95292621,\n",
       "         0.95292621,  0.95292621,  0.95292621,  0.95292621,  0.95292621,\n",
       "         0.95292621,  0.95292621,  0.95292621]),\n",
       " 'split2_train_score': array([ 0.96883943,  0.99109698,  1.        ,  1.        ,  1.        ,\n",
       "         1.        ,  1.        ,  1.        ,  1.        ,  1.        ,\n",
       "         1.        ,  1.        ,  1.        ]),\n",
       " 'split3_test_score': array([ 0.94274809,  0.94656489,  0.93765903,  0.93002545,  0.93002545,\n",
       "         0.92875318,  0.92875318,  0.92875318,  0.92875318,  0.92875318,\n",
       "         0.92875318,  0.92748092,  0.92875318]),\n",
       " 'split3_train_score': array([ 0.97201908,  0.99332273,  1.        ,  1.        ,  1.        ,\n",
       "         1.        ,  1.        ,  1.        ,  1.        ,  1.        ,\n",
       "         1.        ,  0.99968203,  1.        ]),\n",
       " 'split4_test_score': array([ 0.93384224,  0.94147583,  0.94147583,  0.94402036,  0.94274809,\n",
       "         0.94274809,  0.94274809,  0.94274809,  0.94274809,  0.94274809,\n",
       "         0.94274809,  0.94274809,  0.94274809]),\n",
       " 'split4_train_score': array([ 0.97392687,  0.99300477,  1.        ,  1.        ,  1.        ,\n",
       "         1.        ,  1.        ,  1.        ,  1.        ,  1.        ,\n",
       "         1.        ,  1.        ,  1.        ]),\n",
       " 'std_fit_time': array([ 0.72463418,  3.18200785,  5.56642075,  4.50652213,  6.04119678,\n",
       "         6.06921584,  4.06086249,  2.92883828,  3.45954855,  2.56090195,\n",
       "         1.62277047,  2.34755964,  0.5625954 ]),\n",
       " 'std_score_time': array([ 0.00964897,  0.02145023,  0.00998132,  0.01593317,  0.03990556,\n",
       "         0.03988306,  0.06877262,  0.01660087,  0.01436985,  0.0312729 ,\n",
       "         0.01922044,  0.02783115,  0.00086603]),\n",
       " 'std_test_score': array([ 0.01027182,  0.01093583,  0.0098841 ,  0.01085289,  0.01026387,\n",
       "         0.01020061,  0.01020061,  0.01020061,  0.01106107,  0.01040914,\n",
       "         0.01020061,  0.01111282,  0.01033211]),\n",
       " 'std_train_score': array([ 0.00198148,  0.00083871,  0.        ,  0.        ,  0.        ,\n",
       "         0.        ,  0.        ,  0.        ,  0.00012723,  0.00012723,\n",
       "         0.        ,  0.00012719,  0.        ])}"
      ]
     },
     "execution_count": 10,
     "metadata": {},
     "output_type": "execute_result"
    }
   ],
   "source": [
    "top_model.cv_results_"
   ]
  },
  {
   "cell_type": "code",
   "execution_count": 11,
   "metadata": {},
   "outputs": [
    {
     "name": "stderr",
     "output_type": "stream",
     "text": [
      "/usr/local/lib/python2.7/dist-packages/sklearn/model_selection/_search.py:667: DeprecationWarning: The grid_scores_ attribute was deprecated in version 0.18 in favor of the more elaborate cv_results_ attribute. The grid_scores_ attribute will not be available from 0.20\n",
      "  DeprecationWarning)\n"
     ]
    },
    {
     "data": {
      "text/plain": [
       "[mean: 0.94531, std: 0.01027, params: {'C': 0.01},\n",
       " mean: 0.95141, std: 0.01094, params: {'C': 0.10000000000000001},\n",
       " mean: 0.94480, std: 0.00988, params: {'C': 1.0},\n",
       " mean: 0.94073, std: 0.01085, params: {'C': 10.0},\n",
       " mean: 0.93996, std: 0.01026, params: {'C': 100.0},\n",
       " mean: 0.93996, std: 0.01020, params: {'C': 1000.0},\n",
       " mean: 0.93996, std: 0.01020, params: {'C': 10000.0},\n",
       " mean: 0.93996, std: 0.01020, params: {'C': 100000.0},\n",
       " mean: 0.93971, std: 0.01106, params: {'C': 1000000.0},\n",
       " mean: 0.94022, std: 0.01041, params: {'C': 10000000.0},\n",
       " mean: 0.93996, std: 0.01020, params: {'C': 100000000.0},\n",
       " mean: 0.93920, std: 0.01111, params: {'C': 1000000000.0},\n",
       " mean: 0.93946, std: 0.01033, params: {'C': 10000000000.0}]"
      ]
     },
     "execution_count": 11,
     "metadata": {},
     "output_type": "execute_result"
    }
   ],
   "source": [
    "top_model.grid_scores_"
   ]
  },
  {
   "cell_type": "code",
   "execution_count": 12,
   "metadata": {},
   "outputs": [
    {
     "name": "stdout",
     "output_type": "stream",
     "text": [
      "Best parameters: {'C': 0.10000000000000001} - score: 0.9514\n"
     ]
    }
   ],
   "source": [
    "print(\"Best parameters: %s - score: %0.4f\" % (top_model.best_params_, top_model.best_score_))"
   ]
  }
 ],
 "metadata": {
  "kernelspec": {
   "display_name": "Python 2",
   "language": "python",
   "name": "python2"
  },
  "language_info": {
   "codemirror_mode": {
    "name": "ipython",
    "version": 2
   },
   "file_extension": ".py",
   "mimetype": "text/x-python",
   "name": "python",
   "nbconvert_exporter": "python",
   "pygments_lexer": "ipython2",
   "version": "2.7.12"
  }
 },
 "nbformat": 4,
 "nbformat_minor": 2
}
