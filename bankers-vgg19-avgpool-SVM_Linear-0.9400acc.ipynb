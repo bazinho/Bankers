{
 "cells": [
  {
   "cell_type": "code",
   "execution_count": 1,
   "metadata": {},
   "outputs": [
    {
     "name": "stderr",
     "output_type": "stream",
     "text": [
      "Using TensorFlow backend.\n"
     ]
    }
   ],
   "source": [
    "import os\n",
    "import os.path\n",
    "import glob\n",
    "from sklearn.preprocessing import LabelEncoder\n",
    "from sklearn.model_selection import StratifiedKFold                                                                                                                       \n",
    "from sklearn.metrics import confusion_matrix,accuracy_score\n",
    "from sklearn import svm\n",
    "from sklearn.model_selection import GridSearchCV\n",
    "import sklearn_evaluation.plot as skplot\n",
    "from sklearn.model_selection import learning_curve\n",
    "\n",
    "import matplotlib.pyplot as plt\n",
    "\n",
    "import numpy as np\n",
    "np.random.seed(1)\n",
    "\n",
    "from keras.preprocessing.image import img_to_array\n",
    "from keras.utils import np_utils\n",
    "from keras.preprocessing import image\n",
    "from keras.applications.vgg19 import VGG19\n",
    "from keras.applications.imagenet_utils import preprocess_input\n",
    "\n",
    "os.environ['CUDA_VISIBLE_DEVICES'] = '1'"
   ]
  },
  {
   "cell_type": "code",
   "execution_count": 2,
   "metadata": {
    "collapsed": true
   },
   "outputs": [],
   "source": [
    "imagedir = \"Datasets/Detection/Byteplots\""
   ]
  },
  {
   "cell_type": "code",
   "execution_count": 3,
   "metadata": {},
   "outputs": [
    {
     "name": "stdout",
     "output_type": "stream",
     "text": [
      "Label: 0\tFamily:          Banker\tNumber of images: 1986\n",
      "Label: 1\tFamily:          WinExe\tNumber of images: 1945\n",
      "Processing images ...\n"
     ]
    },
    {
     "name": "stderr",
     "output_type": "stream",
     "text": [
      "/usr/local/lib/python2.7/dist-packages/PIL/Image.py:2371: DecompressionBombWarning: Image size (103265280 pixels) exceeds limit of 89478485 pixels, could be decompression bomb DOS attack.\n",
      "  DecompressionBombWarning)\n",
      "/usr/local/lib/python2.7/dist-packages/PIL/Image.py:2371: DecompressionBombWarning: Image size (110601216 pixels) exceeds limit of 89478485 pixels, could be decompression bomb DOS attack.\n",
      "  DecompressionBombWarning)\n"
     ]
    },
    {
     "name": "stdout",
     "output_type": "stream",
     "text": [
      "Images processed: 3931\n"
     ]
    }
   ],
   "source": [
    "cur_dir = os.getcwd()\n",
    "os.chdir(imagedir)  # the parent folder with sub-folders\n",
    "\n",
    "# Get number of samples per family\n",
    "list_fams = sorted(os.listdir(os.getcwd()), key=str.lower)  # vector of strings with family names\n",
    "no_imgs = []  # No. of samples per family\n",
    "for i in range(len(list_fams)):\n",
    "    os.chdir(list_fams[i])\n",
    "    len1 = len(glob.glob('*.png'))  # assuming the images are stored as 'png'\n",
    "    no_imgs.append(len1)\n",
    "    os.chdir('..')\n",
    "num_samples = np.sum(no_imgs)  # total number of all samples\n",
    "\n",
    "# Compute the labels\n",
    "y = np.zeros(num_samples)\n",
    "pos = 0\n",
    "label = 0\n",
    "for i in no_imgs:\n",
    "    print (\"Label:%2d\\tFamily: %15s\\tNumber of images: %d\" % (label, list_fams[label], i))\n",
    "    for j in range(i):\n",
    "        y[pos] = label\n",
    "        pos += 1\n",
    "    label += 1\n",
    "num_classes = label\n",
    "\n",
    "# Compute the features\n",
    "width, height,channels = (224,224,3)\n",
    "X = np.zeros((num_samples, width, height, channels))\n",
    "cnt = 0\n",
    "list_paths = [] # List of image paths\n",
    "print(\"Processing images ...\")\n",
    "for i in range(len(list_fams)):\n",
    "    for img_file in glob.glob(list_fams[i]+'/*.png'):\n",
    "        #print(\"[%d] Processing image: %s\" % (cnt, img_file))\n",
    "        list_paths.append(os.path.join(os.getcwd(),img_file))\n",
    "        img = image.load_img(img_file, target_size=(224, 224))\n",
    "        x = image.img_to_array(img)\n",
    "        x = np.expand_dims(x, axis=0)\n",
    "        x = preprocess_input(x)\n",
    "        X[cnt] = x\n",
    "        cnt += 1\n",
    "print(\"Images processed: %d\" %(cnt))\n",
    "\n",
    "os.chdir(cur_dir)"
   ]
  },
  {
   "cell_type": "code",
   "execution_count": 4,
   "metadata": {},
   "outputs": [
    {
     "data": {
      "text/plain": [
       "(3931, 224, 224, 3)"
      ]
     },
     "execution_count": 4,
     "metadata": {},
     "output_type": "execute_result"
    }
   ],
   "source": [
    "X.shape"
   ]
  },
  {
   "cell_type": "code",
   "execution_count": 5,
   "metadata": {
    "collapsed": true
   },
   "outputs": [],
   "source": [
    "# Creating base_model\n",
    "image_shape = (224, 224, 3)                                                                                                                                                                                                                                                                                            \n",
    "base_model = VGG19(weights='imagenet', input_shape=image_shape, include_top=False, pooling='avg')"
   ]
  },
  {
   "cell_type": "code",
   "execution_count": 6,
   "metadata": {},
   "outputs": [
    {
     "name": "stdout",
     "output_type": "stream",
     "text": [
      "Extracting bottleneck features from convolutional layers ...\n"
     ]
    }
   ],
   "source": [
    "print(\"Extracting bottleneck features from convolutional layers ...\")\n",
    "bnfeatures = base_model.predict(X)"
   ]
  },
  {
   "cell_type": "code",
   "execution_count": 7,
   "metadata": {},
   "outputs": [
    {
     "data": {
      "text/plain": [
       "(3931, 512)"
      ]
     },
     "execution_count": 7,
     "metadata": {},
     "output_type": "execute_result"
    }
   ],
   "source": [
    "bnfeatures.shape"
   ]
  },
  {
   "cell_type": "code",
   "execution_count": 8,
   "metadata": {
    "collapsed": true
   },
   "outputs": [],
   "source": [
    "# Create stratified k-fold subsets                                                                                                                                        \n",
    "kfold = 5  # no. of folds                                                                 \n",
    "skf = StratifiedKFold(kfold, shuffle=True,random_state=1)"
   ]
  },
  {
   "cell_type": "code",
   "execution_count": 9,
   "metadata": {},
   "outputs": [
    {
     "name": "stdout",
     "output_type": "stream",
     "text": [
      "Fitting 5 folds for each of 13 candidates, totalling 65 fits\n",
      "[CV] C=0.01 ..........................................................\n",
      "[CV] C=0.01 ..........................................................\n",
      "[CV] C=0.01 ..........................................................\n",
      "[CV] C=0.01 ..........................................................\n",
      "[CV] C=0.01 ..........................................................\n",
      "[CV] C=0.1 ...........................................................\n",
      "[CV] C=0.1 ...........................................................\n",
      "[CV] C=0.1 ...........................................................\n",
      "[CV] C=0.1 ...........................................................\n",
      "[CV] C=0.1 ...........................................................\n",
      "[CV] C=1.0 ...........................................................\n",
      "[CV] C=1.0 ...........................................................\n",
      "[CV] C=1.0 ...........................................................\n",
      "[CV] C=1.0 ...........................................................\n",
      "[CV] C=1.0 ...........................................................\n",
      "[CV] C=10.0 ..........................................................\n",
      "[CV] C=10.0 ..........................................................\n",
      "[CV] C=10.0 ..........................................................\n",
      "[CV] C=10.0 ..........................................................\n",
      "[CV] C=10.0 ..........................................................\n",
      "[CV] C=100.0 .........................................................\n",
      "[CV] C=100.0 .........................................................\n",
      "[CV] C=100.0 .........................................................\n",
      "[CV] C=100.0 .........................................................\n",
      "[CV] ........................... C=0.01, score=0.932570, total=   2.6s\n",
      "[CV] C=100.0 .........................................................\n",
      "[CV] ........................... C=0.01, score=0.939009, total=   2.8s\n",
      "[CV] C=1000.0 ........................................................\n",
      "[CV] ........................... C=0.01, score=0.930025, total=   2.8s\n",
      "[CV] C=1000.0 ........................................................\n",
      "[CV] ............................ C=0.1, score=0.935115, total=   2.9s\n",
      "[CV] ............................ C=0.1, score=0.930025, total=   2.9s\n"
     ]
    },
    {
     "name": "stderr",
     "output_type": "stream",
     "text": [
      "[Parallel(n_jobs=-1)]: Done   2 tasks      | elapsed:    3.0s\n"
     ]
    },
    {
     "name": "stdout",
     "output_type": "stream",
     "text": [
      "[CV] C=1000.0 ........................................................\n",
      "[CV] C=1000.0 ........................................................\n",
      "[CV] ............................ C=1.0, score=0.927573, total=   2.9s\n",
      "[CV] ............................ C=1.0, score=0.912214, total=   2.9s\n",
      "[CV] C=1000.0 ........................................................\n",
      "[CV] ............................ C=0.1, score=0.922392, total=   3.0s\n",
      "[CV] ............................ C=1.0, score=0.916031, total=   2.9s\n",
      "[CV] ........................... C=0.01, score=0.956743, total=   3.1s\n",
      "[CV] C=10000.0 .......................................................\n",
      "[CV] .......................... C=100.0, score=0.931298, total=   2.8s\n",
      "[CV] ........................... C=0.01, score=0.941476, total=   3.3s\n",
      "[CV] ............................ C=0.1, score=0.930114, total=   3.1s\n",
      "[CV] C=10000.0 .......................................................\n",
      "[CV] ............................ C=1.0, score=0.938931, total=   3.2s\n",
      "[CV] C=10000.0 .......................................................\n",
      "[CV] C=10000.0 .......................................................\n",
      "[CV] C=10000.0 .......................................................\n",
      "[CV] .......................... C=100.0, score=0.911055, total=   3.0s\n",
      "[CV] ............................ C=0.1, score=0.937659, total=   3.4s\n",
      "[CV] C=100000.0 ......................................................\n",
      "[CV] ............................ C=1.0, score=0.931298, total=   3.2s\n"
     ]
    },
    {
     "name": "stderr",
     "output_type": "stream",
     "text": [
      "[Parallel(n_jobs=-1)]: Done  13 tasks      | elapsed:    3.5s\n"
     ]
    },
    {
     "name": "stdout",
     "output_type": "stream",
     "text": [
      "[CV] C=100000.0 ......................................................\n",
      "[CV] C=100000.0 ......................................................\n",
      "[CV] C=100000.0 ......................................................\n",
      "[CV] C=100000.0 ......................................................\n",
      "[CV] ........................... C=10.0, score=0.917303, total=   3.1s\n",
      "[CV] C=1000000.0 .....................................................\n",
      "[CV] ........................... C=10.0, score=0.940204, total=   3.4s\n",
      "[CV] ........................... C=10.0, score=0.798982, total=   3.4s\n",
      "[CV] ........................... C=10.0, score=0.914758, total=   3.3s\n",
      "[CV] .......................... C=100.0, score=0.922392, total=   3.3s\n",
      "[CV] C=1000000.0 .....................................................\n",
      "[CV] C=1000000.0 .....................................................\n",
      "[CV] C=1000000.0 .....................................................\n",
      "[CV] C=1000000.0 .....................................................\n",
      "[CV] C=10000000.0 ....................................................\n",
      "[CV] ........................... C=10.0, score=0.922490, total=   3.7s\n",
      "[CV] C=10000000.0 ....................................................\n",
      "[CV] .......................... C=100.0, score=0.834606, total=   3.8s\n",
      "[CV] C=10000000.0 ....................................................\n",
      "[CV] ........................ C=10000.0, score=0.937659, total=   2.9s\n",
      "[CV] ......................... C=1000.0, score=0.927481, total=   3.2s\n",
      "[CV] C=10000000.0 ....................................................\n",
      "[CV] C=10000000.0 ....................................................\n"
     ]
    },
    {
     "name": "stderr",
     "output_type": "stream",
     "text": [
      "[Parallel(n_jobs=-1)]: Done  25 out of  65 | elapsed:    6.4s remaining:   10.3s\n"
     ]
    },
    {
     "name": "stdout",
     "output_type": "stream",
     "text": [
      "[CV] ......................... C=1000.0, score=0.936387, total=   3.4s\n",
      "[CV] C=100000000.0 ...................................................\n",
      "[CV] ......................... C=1000.0, score=0.933926, total=   3.5s\n",
      "[CV] C=100000000.0 ...................................................\n",
      "[CV] ......................... C=1000.0, score=0.937659, total=   3.5s\n",
      "[CV] ....................... C=100000.0, score=0.921120, total=   3.0s\n",
      "[CV] ........................ C=10000.0, score=0.918575, total=   3.1s\n",
      "[CV] ...................... C=1000000.0, score=0.933926, total=   2.9s\n",
      "[CV] C=100000000.0 ...................................................\n",
      "[CV] C=100000000.0 ...................................................\n",
      "[CV] .......................... C=100.0, score=0.921120, total=   3.9s\n",
      "[CV] C=100000000.0 ...................................................\n",
      "[CV] ....................... C=100000.0, score=0.933926, total=   3.2s\n",
      "[CV] ........................ C=10000.0, score=0.933926, total=   3.5s\n"
     ]
    },
    {
     "name": "stderr",
     "output_type": "stream",
     "text": [
      "[Parallel(n_jobs=-1)]: Done  32 out of  65 | elapsed:    6.8s remaining:    7.1s\n"
     ]
    },
    {
     "name": "stdout",
     "output_type": "stream",
     "text": [
      "[CV] ....................... C=100000.0, score=0.936387, total=   3.3s\n",
      "[CV] C=1000000000.0 ..................................................\n",
      "[CV] ......................... C=1000.0, score=0.921120, total=   3.9s\n",
      "[CV] C=1000000000.0 ..................................................\n",
      "[CV] ....................... C=100000.0, score=0.918575, total=   3.4s\n",
      "[CV] ........................ C=10000.0, score=0.936387, total=   3.6s\n",
      "[CV] ....................... C=100000.0, score=0.937659, total=   3.5s\n",
      "[CV] ........................ C=10000.0, score=0.921120, total=   3.7s\n",
      "[CV] C=1000000000.0 ..................................................\n",
      "[CV] ..................... C=10000000.0, score=0.933926, total=   3.3s\n",
      "[CV] ...................... C=1000000.0, score=0.921120, total=   3.4s\n"
     ]
    },
    {
     "name": "stderr",
     "output_type": "stream",
     "text": [
      "[Parallel(n_jobs=-1)]: Done  39 out of  65 | elapsed:    7.3s remaining:    4.9s\n"
     ]
    },
    {
     "name": "stdout",
     "output_type": "stream",
     "text": [
      "[CV] ...................... C=1000000.0, score=0.918575, total=   3.5s\n",
      "[CV] C=1000000000.0 ..................................................\n",
      "[CV] ..................... C=10000000.0, score=0.937659, total=   3.3s\n",
      "[CV] C=1000000000.0 ..................................................\n",
      "[CV] ...................... C=1000000.0, score=0.936387, total=   3.6s\n",
      "[CV] C=10000000000.0 .................................................\n",
      "[CV] C=10000000000.0 .................................................\n",
      "[CV] C=10000000000.0 .................................................\n",
      "[CV] C=10000000000.0 .................................................\n",
      "[CV] C=10000000000.0 .................................................\n",
      "[CV] ..................... C=10000000.0, score=0.936387, total=   3.3s\n"
     ]
    },
    {
     "name": "stderr",
     "output_type": "stream",
     "text": [
      "[Parallel(n_jobs=-1)]: Done  46 out of  65 | elapsed:    7.7s remaining:    3.2s\n"
     ]
    },
    {
     "name": "stdout",
     "output_type": "stream",
     "text": [
      "[CV] ...................... C=1000000.0, score=0.937659, total=   4.0s\n",
      "[CV] .................... C=100000000.0, score=0.928753, total=   1.9s\n",
      "[CV] .................... C=100000000.0, score=0.932570, total=   2.3s\n",
      "[CV] ..................... C=10000000.0, score=0.923664, total=   2.7s\n",
      "[CV] ..................... C=10000000.0, score=0.928753, total=   2.8s\n",
      "[CV] ................... C=1000000000.0, score=0.917408, total=   2.2s\n",
      "[CV] .................... C=100000000.0, score=0.917408, total=   2.6s\n",
      "[CV] ................... C=1000000000.0, score=0.932570, total=   2.1s\n"
     ]
    },
    {
     "name": "stderr",
     "output_type": "stream",
     "text": [
      "[Parallel(n_jobs=-1)]: Done  53 out of  65 | elapsed:    9.4s remaining:    2.1s\n"
     ]
    },
    {
     "name": "stdout",
     "output_type": "stream",
     "text": [
      "[CV] .................. C=10000000000.0, score=0.932570, total=   1.8s\n",
      "[CV] .................... C=100000000.0, score=0.923664, total=   2.8s\n",
      "[CV] .................. C=10000000000.0, score=0.932570, total=   1.9s\n",
      "[CV] .................... C=100000000.0, score=0.932570, total=   3.0s\n",
      "[CV] ................... C=1000000000.0, score=0.932570, total=   2.6s\n",
      "[CV] ................... C=1000000000.0, score=0.923664, total=   2.3s\n",
      "[CV] .................. C=10000000000.0, score=0.928753, total=   2.2s\n",
      "[CV] ................... C=1000000000.0, score=0.928753, total=   2.5s\n"
     ]
    },
    {
     "name": "stderr",
     "output_type": "stream",
     "text": [
      "[Parallel(n_jobs=-1)]: Done  60 out of  65 | elapsed:   10.0s remaining:    0.8s\n"
     ]
    },
    {
     "name": "stdout",
     "output_type": "stream",
     "text": [
      "[CV] .................. C=10000000000.0, score=0.917408, total=   2.5s\n",
      "[CV] .................. C=10000000000.0, score=0.923664, total=   2.5s\n"
     ]
    },
    {
     "name": "stderr",
     "output_type": "stream",
     "text": [
      "[Parallel(n_jobs=-1)]: Done  65 out of  65 | elapsed:   10.4s finished\n"
     ]
    },
    {
     "data": {
      "text/plain": [
       "GridSearchCV(cv=StratifiedKFold(n_splits=5, random_state=1, shuffle=True),\n",
       "       error_score='raise',\n",
       "       estimator=LinearSVC(C=1.0, class_weight=None, dual=True, fit_intercept=True,\n",
       "     intercept_scaling=1, loss='squared_hinge', max_iter=1000,\n",
       "     multi_class='ovr', penalty='l2', random_state=None, tol=0.0001,\n",
       "     verbose=0),\n",
       "       fit_params={}, iid=True, n_jobs=-1,\n",
       "       param_grid={'C': array([  1.00000e-02,   1.00000e-01,   1.00000e+00,   1.00000e+01,\n",
       "         1.00000e+02,   1.00000e+03,   1.00000e+04,   1.00000e+05,\n",
       "         1.00000e+06,   1.00000e+07,   1.00000e+08,   1.00000e+09,\n",
       "         1.00000e+10])},\n",
       "       pre_dispatch='2*n_jobs', refit=True, return_train_score=True,\n",
       "       scoring=None, verbose=10)"
      ]
     },
     "execution_count": 9,
     "metadata": {},
     "output_type": "execute_result"
    }
   ],
   "source": [
    "# Training top_model\n",
    "C_range = np.logspace(-2, 10, 13)\n",
    "param_grid = dict(C=C_range)\n",
    "\n",
    "top_model = GridSearchCV(svm.LinearSVC(), param_grid=param_grid, cv=skf, verbose=10, n_jobs=-1)\n",
    "top_model.fit(bnfeatures,y)  # Training "
   ]
  },
  {
   "cell_type": "code",
   "execution_count": 10,
   "metadata": {},
   "outputs": [
    {
     "data": {
      "text/plain": [
       "{'mean_fit_time': array([ 2.8306251 ,  3.00461392,  2.9839396 ,  3.28615441,  3.32809863,\n",
       "         3.41422892,  3.29678631,  3.18043003,  3.36499734,  3.01619878,\n",
       "         2.51745625,  2.32610641,  2.18813534]),\n",
       " 'mean_score_time': array([ 0.07410393,  0.05322781,  0.05244479,  0.07722478,  0.04666018,\n",
       "         0.06705761,  0.05619869,  0.0682344 ,  0.09737577,  0.04509621,\n",
       "         0.01902442,  0.02341318,  0.00535145]),\n",
       " 'mean_test_score': array([ 0.93996439,  0.9310608 ,  0.92520987,  0.8987535 ,  0.90409565,\n",
       "         0.93131519,  0.92953447,  0.92953447,  0.92953447,  0.93207835,\n",
       "         0.92699059,  0.92699059,  0.92699059]),\n",
       " 'mean_train_score': array([ 0.98142971,  0.98702626,  0.97602463,  0.94785283,  0.94479775,\n",
       "         0.9866446 ,  0.98225668,  0.98225668,  0.98225668,  0.98658101,\n",
       "         0.98422772,  0.98422772,  0.98422772]),\n",
       " 'param_C': masked_array(data = [0.01 0.10000000000000001 1.0 10.0 100.0 1000.0 10000.0 100000.0 1000000.0\n",
       "  10000000.0 100000000.0 1000000000.0 10000000000.0],\n",
       "              mask = [False False False False False False False False False False False False\n",
       "  False],\n",
       "        fill_value = ?),\n",
       " 'params': ({'C': 0.01},\n",
       "  {'C': 0.10000000000000001},\n",
       "  {'C': 1.0},\n",
       "  {'C': 10.0},\n",
       "  {'C': 100.0},\n",
       "  {'C': 1000.0},\n",
       "  {'C': 10000.0},\n",
       "  {'C': 100000.0},\n",
       "  {'C': 1000000.0},\n",
       "  {'C': 10000000.0},\n",
       "  {'C': 100000000.0},\n",
       "  {'C': 1000000000.0},\n",
       "  {'C': 10000000000.0}),\n",
       " 'rank_test_score': array([ 1,  4, 11, 13, 12,  3,  5,  5,  5,  2,  8,  8,  8], dtype=int32),\n",
       " 'split0_test_score': array([ 0.93900889,  0.93011436,  0.92757306,  0.92249047,  0.91105464,\n",
       "         0.9339263 ,  0.9339263 ,  0.9339263 ,  0.9339263 ,  0.9339263 ,\n",
       "         0.91740788,  0.91740788,  0.91740788]),\n",
       " 'split0_train_score': array([ 0.9821883 ,  0.98791349,  0.98727735,  0.98568702,  0.94465649,\n",
       "         0.98632316,  0.98632316,  0.98632316,  0.98632316,  0.98632316,\n",
       "         0.98091603,  0.98091603,  0.98091603]),\n",
       " 'split1_test_score': array([ 0.94147583,  0.9351145 ,  0.93129771,  0.79898219,  0.8346056 ,\n",
       "         0.93765903,  0.93765903,  0.93765903,  0.93765903,  0.93765903,\n",
       "         0.93256997,  0.93256997,  0.93256997]),\n",
       " 'split1_train_score': array([ 0.97901431,  0.9863275 ,  0.97965024,  0.80922099,  0.84101749,\n",
       "         0.98505564,  0.98505564,  0.98505564,  0.98505564,  0.98505564,\n",
       "         0.97901431,  0.97901431,  0.97901431]),\n",
       " 'split2_test_score': array([ 0.956743  ,  0.93765903,  0.9389313 ,  0.94020356,  0.92239186,\n",
       "         0.93638677,  0.93638677,  0.93638677,  0.93638677,  0.93638677,\n",
       "         0.93256997,  0.93256997,  0.93256997]),\n",
       " 'split2_train_score': array([ 0.97901431,  0.98346582,  0.98569157,  0.98028617,  0.96152623,\n",
       "         0.98219396,  0.98219396,  0.98219396,  0.98219396,  0.98219396,\n",
       "         0.98187599,  0.98187599,  0.98187599]),\n",
       " 'split3_test_score': array([ 0.93256997,  0.93002545,  0.91221374,  0.9173028 ,  0.93129771,\n",
       "         0.92748092,  0.91857506,  0.91857506,  0.91857506,  0.92875318,\n",
       "         0.92875318,  0.92875318,  0.92875318]),\n",
       " 'split3_train_score': array([ 0.98282989,  0.99077901,  0.9427663 ,  0.98314785,  0.98918919,\n",
       "         0.99205087,  0.97011129,  0.97011129,  0.97011129,  0.99141494,\n",
       "         0.99141494,  0.99141494,  0.99141494]),\n",
       " 'split4_test_score': array([ 0.93002545,  0.92239186,  0.91603053,  0.91475827,  0.92111959,\n",
       "         0.92111959,  0.92111959,  0.92111959,  0.92111959,  0.92366412,\n",
       "         0.92366412,  0.92366412,  0.92366412]),\n",
       " 'split4_train_score': array([ 0.98410175,  0.98664547,  0.98473768,  0.9809221 ,  0.98759936,\n",
       "         0.98759936,  0.98759936,  0.98759936,  0.98759936,  0.98791733,\n",
       "         0.98791733,  0.98791733,  0.98791733]),\n",
       " 'std_fit_time': array([ 0.24700082,  0.21111296,  0.14681181,  0.20282213,  0.43564411,\n",
       "         0.19821115,  0.33711665,  0.19886624,  0.33634775,  0.23939854,\n",
       "         0.37870385,  0.17403329,  0.27843723]),\n",
       " 'std_score_time': array([ 0.02316664,  0.03243981,  0.01831581,  0.03928523,  0.02345774,\n",
       "         0.03118517,  0.05255064,  0.05172611,  0.05778389,  0.03962257,\n",
       "         0.01351414,  0.0330769 ,  0.00301902]),\n",
       " 'std_test_score': array([ 0.00936022,  0.00523553,  0.00983837,  0.0506627 ,  0.03532785,\n",
       "         0.006187  ,  0.0080388 ,  0.0080388 ,  0.0080388 ,  0.00519514,\n",
       "         0.0058023 ,  0.0058023 ,  0.0058023 ]),\n",
       " 'std_train_score': array([ 0.00206611,  0.00237404,  0.01682411,  0.06934184,  0.05450281,\n",
       "         0.00324271,  0.00633134,  0.00633134,  0.00633134,  0.00305915,\n",
       "         0.00466791,  0.00466791,  0.00466791])}"
      ]
     },
     "execution_count": 10,
     "metadata": {},
     "output_type": "execute_result"
    }
   ],
   "source": [
    "top_model.cv_results_"
   ]
  },
  {
   "cell_type": "code",
   "execution_count": 11,
   "metadata": {},
   "outputs": [
    {
     "name": "stderr",
     "output_type": "stream",
     "text": [
      "/usr/local/lib/python2.7/dist-packages/sklearn/model_selection/_search.py:667: DeprecationWarning: The grid_scores_ attribute was deprecated in version 0.18 in favor of the more elaborate cv_results_ attribute. The grid_scores_ attribute will not be available from 0.20\n",
      "  DeprecationWarning)\n"
     ]
    },
    {
     "data": {
      "text/plain": [
       "[mean: 0.93996, std: 0.00936, params: {'C': 0.01},\n",
       " mean: 0.93106, std: 0.00524, params: {'C': 0.10000000000000001},\n",
       " mean: 0.92521, std: 0.00984, params: {'C': 1.0},\n",
       " mean: 0.89875, std: 0.05067, params: {'C': 10.0},\n",
       " mean: 0.90410, std: 0.03533, params: {'C': 100.0},\n",
       " mean: 0.93132, std: 0.00619, params: {'C': 1000.0},\n",
       " mean: 0.92953, std: 0.00804, params: {'C': 10000.0},\n",
       " mean: 0.92953, std: 0.00804, params: {'C': 100000.0},\n",
       " mean: 0.92953, std: 0.00804, params: {'C': 1000000.0},\n",
       " mean: 0.93208, std: 0.00520, params: {'C': 10000000.0},\n",
       " mean: 0.92699, std: 0.00580, params: {'C': 100000000.0},\n",
       " mean: 0.92699, std: 0.00580, params: {'C': 1000000000.0},\n",
       " mean: 0.92699, std: 0.00580, params: {'C': 10000000000.0}]"
      ]
     },
     "execution_count": 11,
     "metadata": {},
     "output_type": "execute_result"
    }
   ],
   "source": [
    "top_model.grid_scores_"
   ]
  },
  {
   "cell_type": "code",
   "execution_count": 12,
   "metadata": {},
   "outputs": [
    {
     "name": "stdout",
     "output_type": "stream",
     "text": [
      "Best parameters: {'C': 0.01} - score: 0.9400\n"
     ]
    }
   ],
   "source": [
    "print(\"Best parameters: %s - score: %0.4f\" % (top_model.best_params_, top_model.best_score_))"
   ]
  }
 ],
 "metadata": {
  "kernelspec": {
   "display_name": "Python 2",
   "language": "python",
   "name": "python2"
  },
  "language_info": {
   "codemirror_mode": {
    "name": "ipython",
    "version": 2
   },
   "file_extension": ".py",
   "mimetype": "text/x-python",
   "name": "python",
   "nbconvert_exporter": "python",
   "pygments_lexer": "ipython2",
   "version": "2.7.12"
  }
 },
 "nbformat": 4,
 "nbformat_minor": 2
}
