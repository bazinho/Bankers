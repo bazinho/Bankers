{
 "cells": [
  {
   "cell_type": "code",
   "execution_count": 1,
   "metadata": {},
   "outputs": [
    {
     "name": "stderr",
     "output_type": "stream",
     "text": [
      "Using TensorFlow backend.\n"
     ]
    }
   ],
   "source": [
    "import os\n",
    "import os.path\n",
    "import glob\n",
    "from sklearn.preprocessing import LabelEncoder\n",
    "from sklearn.model_selection import StratifiedKFold                                                                                                                       \n",
    "from sklearn.metrics import confusion_matrix,accuracy_score\n",
    "from sklearn import svm\n",
    "from sklearn.model_selection import GridSearchCV\n",
    "import sklearn_evaluation.plot as skplot\n",
    "from sklearn.model_selection import learning_curve\n",
    "\n",
    "import matplotlib.pyplot as plt\n",
    "\n",
    "import numpy as np\n",
    "np.random.seed(1)\n",
    "\n",
    "from keras.preprocessing.image import img_to_array\n",
    "from keras.utils import np_utils\n",
    "from keras.preprocessing import image\n",
    "from keras.applications.inception_v3 import InceptionV3,preprocess_input\n",
    "\n",
    "os.environ['CUDA_VISIBLE_DEVICES'] = '0'"
   ]
  },
  {
   "cell_type": "code",
   "execution_count": 2,
   "metadata": {
    "collapsed": true
   },
   "outputs": [],
   "source": [
    "imagedir = \"Datasets/Detection/Byteplots\""
   ]
  },
  {
   "cell_type": "code",
   "execution_count": 3,
   "metadata": {},
   "outputs": [
    {
     "name": "stdout",
     "output_type": "stream",
     "text": [
      "Label: 0\tFamily:          Banker\tNumber of images: 1986\n",
      "Label: 1\tFamily:          WinExe\tNumber of images: 1945\n",
      "Processing images ...\n"
     ]
    },
    {
     "name": "stderr",
     "output_type": "stream",
     "text": [
      "/usr/local/lib/python2.7/dist-packages/PIL/Image.py:2371: DecompressionBombWarning: Image size (103265280 pixels) exceeds limit of 89478485 pixels, could be decompression bomb DOS attack.\n",
      "  DecompressionBombWarning)\n",
      "/usr/local/lib/python2.7/dist-packages/PIL/Image.py:2371: DecompressionBombWarning: Image size (110601216 pixels) exceeds limit of 89478485 pixels, could be decompression bomb DOS attack.\n",
      "  DecompressionBombWarning)\n"
     ]
    },
    {
     "name": "stdout",
     "output_type": "stream",
     "text": [
      "Images processed: 3931\n"
     ]
    }
   ],
   "source": [
    "cur_dir = os.getcwd()\n",
    "os.chdir(imagedir)  # the parent folder with sub-folders\n",
    "\n",
    "# Get number of samples per family\n",
    "list_fams = sorted(os.listdir(os.getcwd()), key=str.lower)  # vector of strings with family names\n",
    "no_imgs = []  # No. of samples per family\n",
    "for i in range(len(list_fams)):\n",
    "    os.chdir(list_fams[i])\n",
    "    len1 = len(glob.glob('*.png'))  # assuming the images are stored as 'png'\n",
    "    no_imgs.append(len1)\n",
    "    os.chdir('..')\n",
    "num_samples = np.sum(no_imgs)  # total number of all samples\n",
    "\n",
    "# Compute the labels\n",
    "y = np.zeros(num_samples)\n",
    "pos = 0\n",
    "label = 0\n",
    "for i in no_imgs:\n",
    "    print (\"Label:%2d\\tFamily: %15s\\tNumber of images: %d\" % (label, list_fams[label], i))\n",
    "    for j in range(i):\n",
    "        y[pos] = label\n",
    "        pos += 1\n",
    "    label += 1\n",
    "num_classes = label\n",
    "\n",
    "# Compute the features\n",
    "width, height,channels = (224,224,3)\n",
    "X = np.zeros((num_samples, width, height, channels))\n",
    "cnt = 0\n",
    "list_paths = [] # List of image paths\n",
    "print(\"Processing images ...\")\n",
    "for i in range(len(list_fams)):\n",
    "    for img_file in glob.glob(list_fams[i]+'/*.png'):\n",
    "        #print(\"[%d] Processing image: %s\" % (cnt, img_file))\n",
    "        list_paths.append(os.path.join(os.getcwd(),img_file))\n",
    "        img = image.load_img(img_file, target_size=(224, 224))\n",
    "        x = image.img_to_array(img)\n",
    "        x = np.expand_dims(x, axis=0)\n",
    "        x = preprocess_input(x)\n",
    "        X[cnt] = x\n",
    "        cnt += 1\n",
    "print(\"Images processed: %d\" %(cnt))\n",
    "\n",
    "os.chdir(cur_dir)"
   ]
  },
  {
   "cell_type": "code",
   "execution_count": 4,
   "metadata": {},
   "outputs": [
    {
     "data": {
      "text/plain": [
       "(3931, 224, 224, 3)"
      ]
     },
     "execution_count": 4,
     "metadata": {},
     "output_type": "execute_result"
    }
   ],
   "source": [
    "X.shape"
   ]
  },
  {
   "cell_type": "code",
   "execution_count": 5,
   "metadata": {
    "collapsed": true
   },
   "outputs": [],
   "source": [
    "# Creating base_model\n",
    "image_shape = (224, 224, 3)                                                                                                                                                                                                                                                                                            \n",
    "base_model = InceptionV3(weights='imagenet', input_shape=image_shape, include_top=False, pooling='avg')"
   ]
  },
  {
   "cell_type": "code",
   "execution_count": 6,
   "metadata": {},
   "outputs": [
    {
     "name": "stdout",
     "output_type": "stream",
     "text": [
      "Extracting bottleneck features from convolutional layers ...\n"
     ]
    }
   ],
   "source": [
    "print(\"Extracting bottleneck features from convolutional layers ...\")\n",
    "bnfeatures = base_model.predict(X)"
   ]
  },
  {
   "cell_type": "code",
   "execution_count": 7,
   "metadata": {},
   "outputs": [
    {
     "data": {
      "text/plain": [
       "(3931, 2048)"
      ]
     },
     "execution_count": 7,
     "metadata": {},
     "output_type": "execute_result"
    }
   ],
   "source": [
    "bnfeatures.shape"
   ]
  },
  {
   "cell_type": "code",
   "execution_count": 8,
   "metadata": {
    "collapsed": true
   },
   "outputs": [],
   "source": [
    "# Create stratified k-fold subsets                                                                                                                                        \n",
    "kfold = 5  # no. of folds                                                                 \n",
    "skf = StratifiedKFold(kfold, shuffle=True,random_state=1)"
   ]
  },
  {
   "cell_type": "code",
   "execution_count": 9,
   "metadata": {},
   "outputs": [
    {
     "name": "stdout",
     "output_type": "stream",
     "text": [
      "Fitting 5 folds for each of 13 candidates, totalling 65 fits\n",
      "[CV] C=0.01 ..........................................................\n",
      "[CV] C=0.01 ..........................................................\n",
      "[CV] C=0.01 ..........................................................\n",
      "[CV] C=0.01 ..........................................................\n",
      "[CV] C=0.01 ..........................................................\n",
      "[CV] C=0.1 ...........................................................\n",
      "[CV] C=0.1 ...........................................................\n",
      "[CV] C=0.1 ...........................................................\n",
      "[CV] C=0.1 ...........................................................\n",
      "[CV] C=0.1 ...........................................................\n",
      "[CV] C=1.0 ...........................................................\n",
      "[CV] C=1.0 ...........................................................\n",
      "[CV] C=1.0 ...........................................................\n",
      "[CV] C=1.0 ...........................................................\n",
      "[CV] C=1.0 ...........................................................\n",
      "[CV] C=10.0 ..........................................................\n",
      "[CV] C=10.0 ..........................................................\n",
      "[CV] C=10.0 ..........................................................\n",
      "[CV] C=10.0 ..........................................................\n",
      "[CV] C=10.0 ..........................................................\n",
      "[CV] C=100.0 .........................................................\n",
      "[CV] C=100.0 .........................................................\n",
      "[CV] C=100.0 .........................................................\n",
      "[CV] C=100.0 .........................................................\n",
      "[CV] ........................... C=0.01, score=0.954257, total=   3.4s\n",
      "[CV] C=100.0 .........................................................\n",
      "[CV] ........................... C=0.01, score=0.942748, total=   4.8s\n",
      "[CV] C=1000.0 ........................................................\n",
      "[CV] ........................... C=0.01, score=0.955471, total=   5.0s\n"
     ]
    },
    {
     "name": "stderr",
     "output_type": "stream",
     "text": [
      "[Parallel(n_jobs=-1)]: Done   2 tasks      | elapsed:    5.3s\n"
     ]
    },
    {
     "name": "stdout",
     "output_type": "stream",
     "text": [
      "[CV] C=1000.0 ........................................................\n",
      "[CV] ........................... C=0.01, score=0.917303, total=   5.6s\n",
      "[CV] C=1000.0 ........................................................\n",
      "[CV] ........................... C=0.01, score=0.942748, total=   5.8s\n",
      "[CV] C=1000.0 ........................................................\n",
      "[CV] ............................ C=1.0, score=0.923761, total=  12.9s\n",
      "[CV] ............................ C=0.1, score=0.935197, total=  13.3s\n",
      "[CV] C=1000.0 ........................................................\n",
      "[CV] C=10000.0 .......................................................\n",
      "[CV] ........................... C=10.0, score=0.905852, total=  12.2s\n",
      "[CV] C=10000.0 .......................................................\n",
      "[CV] ........................... C=10.0, score=0.933842, total=  13.1s\n",
      "[CV] ........................... C=10.0, score=0.923761, total=  13.4s\n",
      "[CV] C=10000.0 .......................................................\n",
      "[CV] C=10000.0 .......................................................\n",
      "[CV] ............................ C=1.0, score=0.931298, total=  13.9s\n",
      "[CV] C=10000.0 .......................................................\n",
      "[CV] ............................ C=0.1, score=0.941476, total=  14.7s\n",
      "[CV] C=100000.0 ......................................................\n",
      "[CV] .......................... C=100.0, score=0.907125, total=  12.4s\n",
      "[CV] C=100000.0 ......................................................\n"
     ]
    },
    {
     "name": "stderr",
     "output_type": "stream",
     "text": [
      "[Parallel(n_jobs=-1)]: Done  13 tasks      | elapsed:   16.3s\n"
     ]
    },
    {
     "name": "stdout",
     "output_type": "stream",
     "text": [
      "[CV] ......................... C=1000.0, score=0.926209, total=  13.3s\n",
      "[CV] C=100000.0 ......................................................\n",
      "[CV] ......................... C=1000.0, score=0.932570, total=  13.8s\n",
      "[CV] ........................... C=10.0, score=0.924936, total=  18.5s\n",
      "[CV] C=100000.0 ......................................................\n",
      "[CV] C=100000.0 ......................................................\n",
      "[CV] ............................ C=0.1, score=0.909669, total=  19.4s\n",
      "[CV] C=1000000.0 .....................................................\n",
      "[CV] ............................ C=1.0, score=0.928753, total=  19.1s\n",
      "[CV] C=1000000.0 .....................................................\n",
      "[CV] ............................ C=1.0, score=0.905852, total=  19.2s\n",
      "[CV] C=1000000.0 .....................................................\n",
      "[CV] ............................ C=0.1, score=0.933842, total=  20.2s\n",
      "[CV] .......................... C=100.0, score=0.923761, total=  18.9s\n",
      "[CV] C=1000000.0 .....................................................\n",
      "[CV] C=1000000.0 .....................................................\n",
      "[CV] ........................... C=10.0, score=0.940204, total=  19.6s\n",
      "[CV] C=10000000.0 ....................................................\n",
      "[CV] ............................ C=1.0, score=0.941476, total=  20.4s\n",
      "[CV] C=10000000.0 ....................................................\n",
      "[CV] .......................... C=100.0, score=0.924936, total=  19.9s\n",
      "[CV] C=10000000.0 ....................................................\n",
      "[CV] ............................ C=0.1, score=0.944020, total=  21.9s\n",
      "[CV] C=10000000.0 ....................................................\n"
     ]
    },
    {
     "name": "stderr",
     "output_type": "stream",
     "text": [
      "[Parallel(n_jobs=-1)]: Done  25 out of  65 | elapsed:   22.8s remaining:   36.5s\n"
     ]
    },
    {
     "name": "stdout",
     "output_type": "stream",
     "text": [
      "[CV] .......................... C=100.0, score=0.931298, total=  21.4s\n",
      "[CV] .......................... C=100.0, score=0.941476, total=  21.4s\n",
      "[CV] C=10000000.0 ....................................................\n",
      "[CV] C=100000000.0 ...................................................\n",
      "[CV] ......................... C=1000.0, score=0.921220, total=  19.7s\n",
      "[CV] C=100000000.0 ...................................................\n",
      "[CV] ......................... C=1000.0, score=0.941476, total=  19.5s\n",
      "[CV] C=100000000.0 ...................................................\n",
      "[CV] ........................ C=10000.0, score=0.907125, total=  12.4s\n",
      "[CV] C=100000000.0 ...................................................\n",
      "[CV] ........................ C=10000.0, score=0.921220, total=  13.7s\n",
      "[CV] C=100000000.0 ...................................................\n",
      "[CV] ........................ C=10000.0, score=0.926209, total=  13.6s\n",
      "[CV] C=1000000000.0 ..................................................\n"
     ]
    },
    {
     "name": "stderr",
     "output_type": "stream",
     "text": [
      "[Parallel(n_jobs=-1)]: Done  32 out of  65 | elapsed:   28.0s remaining:   28.9s\n"
     ]
    },
    {
     "name": "stdout",
     "output_type": "stream",
     "text": [
      "[CV] ......................... C=1000.0, score=0.907125, total=  14.3s\n",
      "[CV] C=1000000000.0 ..................................................\n",
      "[CV] ........................ C=10000.0, score=0.932570, total=  13.6s\n",
      "[CV] C=1000000000.0 ..................................................\n",
      "[CV] ....................... C=100000.0, score=0.921220, total=  13.6s\n",
      "[CV] C=1000000000.0 ..................................................\n",
      "[CV] ........................ C=10000.0, score=0.941476, total=  15.0s\n",
      "[CV] C=1000000000.0 ..................................................\n",
      "[CV] ....................... C=100000.0, score=0.926209, total=  14.1s\n",
      "[CV] C=10000000000.0 .................................................\n",
      "[CV] ....................... C=100000.0, score=0.935115, total=  14.1s\n",
      "[CV] C=10000000000.0 .................................................\n",
      "[CV] ....................... C=100000.0, score=0.941476, total=  13.9s\n",
      "[CV] C=10000000000.0 .................................................\n"
     ]
    },
    {
     "name": "stderr",
     "output_type": "stream",
     "text": [
      "[Parallel(n_jobs=-1)]: Done  39 out of  65 | elapsed:   34.2s remaining:   22.8s\n"
     ]
    },
    {
     "name": "stdout",
     "output_type": "stream",
     "text": [
      "[CV] ...................... C=1000000.0, score=0.921220, total=  20.5s\n",
      "[CV] C=10000000000.0 .................................................\n",
      "[CV] ................... C=1000000000.0, score=0.921220, total=  14.9s\n",
      "[CV] C=10000000000.0 .................................................\n",
      "[CV] .................... C=100000000.0, score=0.907125, total=  16.5s\n",
      "[CV] ...................... C=1000000.0, score=0.941476, total=  23.7s\n",
      "[CV] .................... C=100000000.0, score=0.941476, total=  17.3s\n",
      "[CV] ................... C=1000000000.0, score=0.935115, total=  16.5s\n",
      "[CV] ................... C=1000000000.0, score=0.926209, total=  17.1s\n"
     ]
    },
    {
     "name": "stderr",
     "output_type": "stream",
     "text": [
      "[Parallel(n_jobs=-1)]: Done  46 out of  65 | elapsed:   45.7s remaining:   18.9s\n"
     ]
    },
    {
     "name": "stdout",
     "output_type": "stream",
     "text": [
      "[CV] .................... C=100000000.0, score=0.935115, total=  19.8s\n",
      "[CV] ....................... C=100000.0, score=0.907125, total=  25.7s\n",
      "[CV] ...................... C=1000000.0, score=0.907125, total=  25.2s\n",
      "[CV] ................... C=1000000000.0, score=0.941476, total=  17.9s\n",
      "[CV] ................... C=1000000000.0, score=0.907125, total=  17.9s\n",
      "[CV] .................. C=10000000000.0, score=0.922490, total=  17.5s\n",
      "[CV] ..................... C=10000000.0, score=0.921220, total=  28.2s\n"
     ]
    },
    {
     "name": "stderr",
     "output_type": "stream",
     "text": [
      "[Parallel(n_jobs=-1)]: Done  53 out of  65 | elapsed:   50.1s remaining:   11.3s\n"
     ]
    },
    {
     "name": "stdout",
     "output_type": "stream",
     "text": [
      "[CV] ...................... C=1000000.0, score=0.926209, total=  30.0s\n",
      "[CV] ..................... C=10000000.0, score=0.907125, total=  27.3s\n",
      "[CV] ...................... C=1000000.0, score=0.932570, total=  30.5s\n",
      "[CV] .................. C=10000000000.0, score=0.935115, total=  17.1s\n",
      "[CV] .................. C=10000000000.0, score=0.924936, total=  18.3s\n",
      "[CV] ..................... C=10000000.0, score=0.932570, total=  29.5s\n",
      "[CV] ..................... C=10000000.0, score=0.926209, total=  30.6s\n"
     ]
    },
    {
     "name": "stderr",
     "output_type": "stream",
     "text": [
      "[Parallel(n_jobs=-1)]: Done  60 out of  65 | elapsed:   52.7s remaining:    4.4s\n"
     ]
    },
    {
     "name": "stdout",
     "output_type": "stream",
     "text": [
      "[CV] .................... C=100000000.0, score=0.921220, total=  29.8s\n",
      "[CV] ..................... C=10000000.0, score=0.941476, total=  31.4s\n",
      "[CV] .................... C=100000000.0, score=0.926209, total=  31.0s\n",
      "[CV] .................. C=10000000000.0, score=0.905852, total=  13.7s\n",
      "[CV] .................. C=10000000000.0, score=0.941476, total=  30.1s\n"
     ]
    },
    {
     "name": "stderr",
     "output_type": "stream",
     "text": [
      "[Parallel(n_jobs=-1)]: Done  65 out of  65 | elapsed:  1.2min finished\n"
     ]
    },
    {
     "data": {
      "text/plain": [
       "GridSearchCV(cv=StratifiedKFold(n_splits=5, random_state=1, shuffle=True),\n",
       "       error_score='raise',\n",
       "       estimator=LinearSVC(C=1.0, class_weight=None, dual=True, fit_intercept=True,\n",
       "     intercept_scaling=1, loss='squared_hinge', max_iter=1000,\n",
       "     multi_class='ovr', penalty='l2', random_state=None, tol=0.0001,\n",
       "     verbose=0),\n",
       "       fit_params={}, iid=True, n_jobs=-1,\n",
       "       param_grid={'C': array([  1.00000e-02,   1.00000e-01,   1.00000e+00,   1.00000e+01,\n",
       "         1.00000e+02,   1.00000e+03,   1.00000e+04,   1.00000e+05,\n",
       "         1.00000e+06,   1.00000e+07,   1.00000e+08,   1.00000e+09,\n",
       "         1.00000e+10])},\n",
       "       pre_dispatch='2*n_jobs', refit=True, return_train_score=True,\n",
       "       scoring=None, verbose=10)"
      ]
     },
     "execution_count": 9,
     "metadata": {},
     "output_type": "execute_result"
    }
   ],
   "source": [
    "# Training top_model\n",
    "C_range = np.logspace(-2, 10, 13)\n",
    "param_grid = dict(C=C_range)\n",
    "\n",
    "top_model = GridSearchCV(svm.LinearSVC(), param_grid=param_grid, cv=skf, verbose=10, n_jobs=-1)\n",
    "top_model.fit(bnfeatures,y)  # Training "
   ]
  },
  {
   "cell_type": "code",
   "execution_count": 10,
   "metadata": {},
   "outputs": [
    {
     "data": {
      "text/plain": [
       "{'mean_fit_time': array([  4.82212038,  17.81856217,  17.04645524,  15.27233896,\n",
       "         18.73820214,  16.10239902,  13.55059361,  16.24071274,\n",
       "         25.89710684,  29.32637939,  22.82463861,  16.7822896 ,  19.31347322]),\n",
       " 'mean_score_time': array([ 0.07772279,  0.07785358,  0.06096859,  0.07615004,  0.06456203,\n",
       "         0.02995377,  0.09645638,  0.04070663,  0.08427105,  0.09045439,\n",
       "         0.06276498,  0.06675601,  0.03318415]),\n",
       " 'mean_test_score': array([ 0.94250827,  0.93284152,  0.92622742,  0.92571865,  0.92571865,\n",
       "         0.92571865,  0.92571865,  0.92622742,  0.92571865,  0.92571865,\n",
       "         0.92622742,  0.92622742,  0.92597303]),\n",
       " 'mean_train_score': array([ 0.98778948,  0.99904606,  1.        ,  1.        ,  1.        ,\n",
       "         1.        ,  1.        ,  1.        ,  1.        ,  1.        ,\n",
       "         0.99993641,  0.99993641,  1.        ]),\n",
       " 'param_C': masked_array(data = [0.01 0.10000000000000001 1.0 10.0 100.0 1000.0 10000.0 100000.0 1000000.0\n",
       "  10000000.0 100000000.0 1000000000.0 10000000000.0],\n",
       "              mask = [False False False False False False False False False False False False\n",
       "  False],\n",
       "        fill_value = ?),\n",
       " 'params': ({'C': 0.01},\n",
       "  {'C': 0.10000000000000001},\n",
       "  {'C': 1.0},\n",
       "  {'C': 10.0},\n",
       "  {'C': 100.0},\n",
       "  {'C': 1000.0},\n",
       "  {'C': 10000.0},\n",
       "  {'C': 100000.0},\n",
       "  {'C': 1000000.0},\n",
       "  {'C': 10000000.0},\n",
       "  {'C': 100000000.0},\n",
       "  {'C': 1000000000.0},\n",
       "  {'C': 10000000000.0}),\n",
       " 'rank_test_score': array([1, 2, 3, 8, 8, 8, 8, 3, 8, 8, 3, 3, 7], dtype=int32),\n",
       " 'split0_test_score': array([ 0.95425667,  0.93519695,  0.92376112,  0.92376112,  0.92376112,\n",
       "         0.92121982,  0.92121982,  0.92121982,  0.92121982,  0.92121982,\n",
       "         0.92121982,  0.92121982,  0.92249047]),\n",
       " 'split0_train_score': array([ 0.98950382,  0.99936387,  1.        ,  1.        ,  1.        ,\n",
       "         1.        ,  1.        ,  1.        ,  1.        ,  1.        ,\n",
       "         1.        ,  1.        ,  1.        ]),\n",
       " 'split1_test_score': array([ 0.94274809,  0.93384224,  0.92875318,  0.92493639,  0.92493639,\n",
       "         0.92620865,  0.92620865,  0.92620865,  0.92620865,  0.92620865,\n",
       "         0.92620865,  0.92620865,  0.92493639]),\n",
       " 'split1_train_score': array([ 0.9872814 ,  0.99872814,  1.        ,  1.        ,  1.        ,\n",
       "         1.        ,  1.        ,  1.        ,  1.        ,  1.        ,\n",
       "         1.        ,  1.        ,  1.        ]),\n",
       " 'split2_test_score': array([ 0.95547074,  0.94402036,  0.93129771,  0.93384224,  0.93129771,\n",
       "         0.93256997,  0.93256997,  0.9351145 ,  0.93256997,  0.93256997,\n",
       "         0.9351145 ,  0.9351145 ,  0.9351145 ]),\n",
       " 'split2_train_score': array([ 0.98759936,  0.9990461 ,  1.        ,  1.        ,  1.        ,\n",
       "         1.        ,  1.        ,  1.        ,  1.        ,  1.        ,\n",
       "         1.        ,  1.        ,  1.        ]),\n",
       " 'split3_test_score': array([ 0.94274809,  0.94147583,  0.94147583,  0.94020356,  0.94147583,\n",
       "         0.94147583,  0.94147583,  0.94147583,  0.94147583,  0.94147583,\n",
       "         0.94147583,  0.94147583,  0.94147583]),\n",
       " 'split3_train_score': array([ 0.98664547,  0.99872814,  1.        ,  1.        ,  1.        ,\n",
       "         1.        ,  1.        ,  1.        ,  1.        ,  1.        ,\n",
       "         1.        ,  1.        ,  1.        ]),\n",
       " 'split4_test_score': array([ 0.9173028 ,  0.90966921,  0.90585242,  0.90585242,  0.90712468,\n",
       "         0.90712468,  0.90712468,  0.90712468,  0.90712468,  0.90712468,\n",
       "         0.90712468,  0.90712468,  0.90585242]),\n",
       " 'split4_train_score': array([ 0.98791733,  0.99936407,  1.        ,  1.        ,  1.        ,\n",
       "         1.        ,  1.        ,  1.        ,  1.        ,  1.        ,\n",
       "         0.99968203,  0.99968203,  1.        ]),\n",
       " 'std_fit_time': array([ 0.83658247,  3.3281347 ,  3.07483558,  3.04907556,  3.29955597,\n",
       "         2.8555574 ,  0.85260319,  4.69684911,  3.79296548,  1.48503799,\n",
       "         6.24179832,  1.1058038 ,  5.61814389]),\n",
       " 'std_score_time': array([ 0.03859681,  0.02002489,  0.02065328,  0.02300289,  0.02966207,\n",
       "         0.00636505,  0.04445473,  0.02815967,  0.02221808,  0.03438213,\n",
       "         0.03320394,  0.02090714,  0.02052933]),\n",
       " 'std_test_score': array([ 0.01372164,  0.01218886,  0.01171032,  0.0116168 ,  0.01121997,\n",
       "         0.01150045,  0.01150045,  0.01184347,  0.01150045,  0.01150045,\n",
       "         0.01184347,  0.01184347,  0.01218008]),\n",
       " 'std_train_score': array([ 0.00095481,  0.00028435,  0.        ,  0.        ,  0.        ,\n",
       "         0.        ,  0.        ,  0.        ,  0.        ,  0.        ,\n",
       "         0.00012719,  0.00012719,  0.        ])}"
      ]
     },
     "execution_count": 10,
     "metadata": {},
     "output_type": "execute_result"
    }
   ],
   "source": [
    "top_model.cv_results_"
   ]
  },
  {
   "cell_type": "code",
   "execution_count": 11,
   "metadata": {},
   "outputs": [
    {
     "name": "stderr",
     "output_type": "stream",
     "text": [
      "/usr/local/lib/python2.7/dist-packages/sklearn/model_selection/_search.py:667: DeprecationWarning: The grid_scores_ attribute was deprecated in version 0.18 in favor of the more elaborate cv_results_ attribute. The grid_scores_ attribute will not be available from 0.20\n",
      "  DeprecationWarning)\n"
     ]
    },
    {
     "data": {
      "text/plain": [
       "[mean: 0.94251, std: 0.01372, params: {'C': 0.01},\n",
       " mean: 0.93284, std: 0.01219, params: {'C': 0.10000000000000001},\n",
       " mean: 0.92623, std: 0.01171, params: {'C': 1.0},\n",
       " mean: 0.92572, std: 0.01162, params: {'C': 10.0},\n",
       " mean: 0.92572, std: 0.01122, params: {'C': 100.0},\n",
       " mean: 0.92572, std: 0.01150, params: {'C': 1000.0},\n",
       " mean: 0.92572, std: 0.01150, params: {'C': 10000.0},\n",
       " mean: 0.92623, std: 0.01184, params: {'C': 100000.0},\n",
       " mean: 0.92572, std: 0.01150, params: {'C': 1000000.0},\n",
       " mean: 0.92572, std: 0.01150, params: {'C': 10000000.0},\n",
       " mean: 0.92623, std: 0.01184, params: {'C': 100000000.0},\n",
       " mean: 0.92623, std: 0.01184, params: {'C': 1000000000.0},\n",
       " mean: 0.92597, std: 0.01218, params: {'C': 10000000000.0}]"
      ]
     },
     "execution_count": 11,
     "metadata": {},
     "output_type": "execute_result"
    }
   ],
   "source": [
    "top_model.grid_scores_"
   ]
  },
  {
   "cell_type": "code",
   "execution_count": 12,
   "metadata": {},
   "outputs": [
    {
     "name": "stdout",
     "output_type": "stream",
     "text": [
      "Best parameters: {'C': 0.01} - score: 0.9425\n"
     ]
    }
   ],
   "source": [
    "print(\"Best parameters: %s - score: %0.4f\" % (top_model.best_params_, top_model.best_score_))"
   ]
  }
 ],
 "metadata": {
  "kernelspec": {
   "display_name": "Python 2",
   "language": "python",
   "name": "python2"
  },
  "language_info": {
   "codemirror_mode": {
    "name": "ipython",
    "version": 2
   },
   "file_extension": ".py",
   "mimetype": "text/x-python",
   "name": "python",
   "nbconvert_exporter": "python",
   "pygments_lexer": "ipython2",
   "version": "2.7.12"
  }
 },
 "nbformat": 4,
 "nbformat_minor": 2
}
