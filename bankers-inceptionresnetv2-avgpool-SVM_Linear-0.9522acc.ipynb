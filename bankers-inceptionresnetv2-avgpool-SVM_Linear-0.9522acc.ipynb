{
 "cells": [
  {
   "cell_type": "code",
   "execution_count": 1,
   "metadata": {},
   "outputs": [
    {
     "name": "stderr",
     "output_type": "stream",
     "text": [
      "/usr/local/lib/python3.5/dist-packages/h5py/__init__.py:36: FutureWarning: Conversion of the second argument of issubdtype from `float` to `np.floating` is deprecated. In future, it will be treated as `np.float64 == np.dtype(float).type`.\n",
      "  from ._conv import register_converters as _register_converters\n",
      "Using TensorFlow backend.\n"
     ]
    }
   ],
   "source": [
    "import os\n",
    "import os.path\n",
    "import glob\n",
    "from sklearn.preprocessing import LabelEncoder\n",
    "from sklearn.model_selection import StratifiedKFold                                                                                                                       \n",
    "from sklearn.metrics import confusion_matrix,accuracy_score\n",
    "from sklearn import svm\n",
    "from sklearn.model_selection import GridSearchCV\n",
    "import sklearn_evaluation.plot as skplot\n",
    "from sklearn.model_selection import learning_curve\n",
    "\n",
    "import matplotlib.pyplot as plt\n",
    "\n",
    "import numpy as np\n",
    "np.random.seed(1)\n",
    "\n",
    "from keras.preprocessing.image import img_to_array\n",
    "from keras.utils import np_utils\n",
    "from keras.preprocessing import image\n",
    "from keras.applications.inception_resnet_v2 import InceptionResNetV2,preprocess_input\n",
    "\n",
    "os.environ['CUDA_VISIBLE_DEVICES'] = '0'"
   ]
  },
  {
   "cell_type": "code",
   "execution_count": 2,
   "metadata": {
    "collapsed": true
   },
   "outputs": [],
   "source": [
    "imagedir = \"Datasets/Detection/Byteplots\""
   ]
  },
  {
   "cell_type": "code",
   "execution_count": 3,
   "metadata": {},
   "outputs": [
    {
     "name": "stdout",
     "output_type": "stream",
     "text": [
      "Label: 0\tFamily:          Banker\tNumber of images: 1986\n",
      "Label: 1\tFamily:          WinExe\tNumber of images: 1945\n",
      "Processing images ...\n"
     ]
    },
    {
     "name": "stderr",
     "output_type": "stream",
     "text": [
      "/usr/local/lib/python3.5/dist-packages/PIL/Image.py:2438: DecompressionBombWarning: Image size (103265280 pixels) exceeds limit of 89478485 pixels, could be decompression bomb DOS attack.\n",
      "  DecompressionBombWarning)\n",
      "/usr/local/lib/python3.5/dist-packages/PIL/Image.py:2438: DecompressionBombWarning: Image size (110601216 pixels) exceeds limit of 89478485 pixels, could be decompression bomb DOS attack.\n",
      "  DecompressionBombWarning)\n"
     ]
    },
    {
     "name": "stdout",
     "output_type": "stream",
     "text": [
      "Images processed: 3931\n"
     ]
    }
   ],
   "source": [
    "cur_dir = os.getcwd()\n",
    "os.chdir(imagedir)  # the parent folder with sub-folders\n",
    "\n",
    "# Get number of samples per family\n",
    "list_fams = sorted(os.listdir(os.getcwd()), key=str.lower)  # vector of strings with family names\n",
    "no_imgs = []  # No. of samples per family\n",
    "for i in range(len(list_fams)):\n",
    "    os.chdir(list_fams[i])\n",
    "    len1 = len(glob.glob('*.png'))  # assuming the images are stored as 'png'\n",
    "    no_imgs.append(len1)\n",
    "    os.chdir('..')\n",
    "num_samples = np.sum(no_imgs)  # total number of all samples\n",
    "\n",
    "# Compute the labels\n",
    "y = np.zeros(num_samples)\n",
    "pos = 0\n",
    "label = 0\n",
    "for i in no_imgs:\n",
    "    print (\"Label:%2d\\tFamily: %15s\\tNumber of images: %d\" % (label, list_fams[label], i))\n",
    "    for j in range(i):\n",
    "        y[pos] = label\n",
    "        pos += 1\n",
    "    label += 1\n",
    "num_classes = label\n",
    "\n",
    "# Compute the features\n",
    "width, height,channels = (224,224,3)\n",
    "X = np.zeros((num_samples, width, height, channels))\n",
    "cnt = 0\n",
    "list_paths = [] # List of image paths\n",
    "print(\"Processing images ...\")\n",
    "for i in range(len(list_fams)):\n",
    "    for img_file in glob.glob(list_fams[i]+'/*.png'):\n",
    "        #print(\"[%d] Processing image: %s\" % (cnt, img_file))\n",
    "        list_paths.append(os.path.join(os.getcwd(),img_file))\n",
    "        img = image.load_img(img_file, target_size=(224, 224))\n",
    "        x = image.img_to_array(img)\n",
    "        x = np.expand_dims(x, axis=0)\n",
    "        x = preprocess_input(x)\n",
    "        X[cnt] = x\n",
    "        cnt += 1\n",
    "print(\"Images processed: %d\" %(cnt))\n",
    "\n",
    "os.chdir(cur_dir)"
   ]
  },
  {
   "cell_type": "code",
   "execution_count": 4,
   "metadata": {},
   "outputs": [
    {
     "data": {
      "text/plain": [
       "(3931, 224, 224, 3)"
      ]
     },
     "execution_count": 4,
     "metadata": {},
     "output_type": "execute_result"
    }
   ],
   "source": [
    "X.shape"
   ]
  },
  {
   "cell_type": "code",
   "execution_count": 5,
   "metadata": {
    "collapsed": true
   },
   "outputs": [],
   "source": [
    "# Creating base_model\n",
    "image_shape = (224, 224, 3)                                                                                                                                                                                                                                                                                            \n",
    "base_model = InceptionResNetV2(weights='imagenet', input_shape=image_shape, include_top=False, pooling='avg')"
   ]
  },
  {
   "cell_type": "code",
   "execution_count": 6,
   "metadata": {},
   "outputs": [
    {
     "name": "stdout",
     "output_type": "stream",
     "text": [
      "Extracting bottleneck features from convolutional layers ...\n"
     ]
    }
   ],
   "source": [
    "print(\"Extracting bottleneck features from convolutional layers ...\")\n",
    "bnfeatures = base_model.predict(X)"
   ]
  },
  {
   "cell_type": "code",
   "execution_count": 7,
   "metadata": {},
   "outputs": [
    {
     "data": {
      "text/plain": [
       "(3931, 1536)"
      ]
     },
     "execution_count": 7,
     "metadata": {},
     "output_type": "execute_result"
    }
   ],
   "source": [
    "bnfeatures.shape"
   ]
  },
  {
   "cell_type": "code",
   "execution_count": 8,
   "metadata": {
    "collapsed": true
   },
   "outputs": [],
   "source": [
    "# Create stratified k-fold subsets                                                                                                                                        \n",
    "kfold = 5  # no. of folds                                                                 \n",
    "skf = StratifiedKFold(kfold, shuffle=True,random_state=1)"
   ]
  },
  {
   "cell_type": "code",
   "execution_count": 9,
   "metadata": {},
   "outputs": [
    {
     "name": "stdout",
     "output_type": "stream",
     "text": [
      "Fitting 5 folds for each of 13 candidates, totalling 65 fits\n",
      "[CV] C=0.01 ..........................................................\n",
      "[CV] C=0.01 ..........................................................\n",
      "[CV] C=0.01 ..........................................................\n",
      "[CV] C=0.01 ..........................................................\n",
      "[CV] C=0.01 ..........................................................\n",
      "[CV] C=0.1 ...........................................................\n",
      "[CV] C=0.1 ...........................................................\n",
      "[CV] C=0.1 ...........................................................\n",
      "[CV] C=0.1 ...........................................................\n",
      "[CV] C=0.1 ...........................................................\n",
      "[CV] C=1.0 ...........................................................\n",
      "[CV] C=1.0 ...........................................................\n",
      "[CV] C=1.0 ...........................................................\n",
      "[CV] C=1.0 ...........................................................\n",
      "[CV] C=1.0 ...........................................................\n",
      "[CV] C=10.0 ..........................................................\n",
      "[CV] C=10.0 ..........................................................\n",
      "[CV] C=10.0 ..........................................................\n",
      "[CV] C=10.0 ..........................................................\n",
      "[CV] C=10.0 ..........................................................\n",
      "[CV] C=100.0 .........................................................\n",
      "[CV] C=100.0 .........................................................\n",
      "[CV] C=100.0 .........................................................\n",
      "[CV] C=100.0 .........................................................\n",
      "[CV] ........................... C=0.01, score=0.949174, total=   5.1s\n",
      "[CV] C=100.0 .........................................................\n",
      "[CV] ........................... C=0.01, score=0.951654, total=   5.5s\n",
      "[CV] ........................... C=0.01, score=0.945293, total=   5.6s\n",
      "[CV] C=1000.0 ........................................................\n",
      "[CV] ........................... C=0.01, score=0.961832, total=   5.6s\n",
      "[CV] C=1000.0 ........................................................\n"
     ]
    },
    {
     "name": "stderr",
     "output_type": "stream",
     "text": [
      "[Parallel(n_jobs=-1)]: Done   2 tasks      | elapsed:    6.0s\n"
     ]
    },
    {
     "name": "stdout",
     "output_type": "stream",
     "text": [
      "[CV] C=1000.0 ........................................................\n",
      "[CV] ........................... C=0.01, score=0.935115, total=   6.0s\n",
      "[CV] C=1000.0 ........................................................\n",
      "[CV] ............................ C=1.0, score=0.938931, total=  13.1s\n",
      "[CV] C=1000.0 ........................................................\n",
      "[CV] ........................... C=10.0, score=0.939009, total=  13.3s\n",
      "[CV] C=10000.0 .......................................................\n",
      "[CV] .......................... C=100.0, score=0.935197, total=  13.1s\n",
      "[CV] C=10000.0 .......................................................\n",
      "[CV] ............................ C=1.0, score=0.942821, total=  13.8s\n",
      "[CV] C=10000.0 .......................................................\n",
      "[CV] ........................... C=10.0, score=0.937659, total=  13.6s\n",
      "[CV] C=10000.0 .......................................................\n",
      "[CV] ........................... C=10.0, score=0.932570, total=  13.6s\n",
      "[CV] .......................... C=100.0, score=0.936387, total=  13.5s\n",
      "[CV] C=10000.0 .......................................................\n",
      "[CV] C=100000.0 ......................................................\n",
      "[CV] ............................ C=0.1, score=0.940204, total=  15.1s\n",
      "[CV] C=100000.0 ......................................................\n"
     ]
    },
    {
     "name": "stderr",
     "output_type": "stream",
     "text": [
      "[Parallel(n_jobs=-1)]: Done  13 tasks      | elapsed:   15.9s\n"
     ]
    },
    {
     "name": "stdout",
     "output_type": "stream",
     "text": [
      "[CV] ............................ C=1.0, score=0.966921, total=  15.5s\n",
      "[CV] C=100000.0 ......................................................\n",
      "[CV] .......................... C=100.0, score=0.937659, total=  14.8s\n",
      "[CV] C=100000.0 ......................................................\n",
      "[CV] ........................... C=10.0, score=0.965649, total=  15.5s\n",
      "[CV] C=100000.0 ......................................................\n",
      "[CV] ............................ C=1.0, score=0.944020, total=  16.4s\n",
      "[CV] C=1000000.0 .....................................................\n",
      "[CV] ............................ C=0.1, score=0.947837, total=  17.0s\n",
      "[CV] C=1000000.0 .....................................................\n",
      "[CV] ............................ C=1.0, score=0.931298, total=  16.6s\n",
      "[CV] C=1000000.0 .....................................................\n",
      "[CV] ............................ C=0.1, score=0.951715, total=  17.5s\n",
      "[CV] C=1000000.0 .....................................................\n",
      "[CV] ........................... C=10.0, score=0.938931, total=  17.1s\n",
      "[CV] C=1000000.0 .....................................................\n",
      "[CV] ............................ C=0.1, score=0.954198, total=  18.2s\n",
      "[CV] C=10000000.0 ....................................................\n",
      "[CV] .......................... C=100.0, score=0.961832, total=  18.0s\n",
      "[CV] C=10000000.0 ....................................................\n",
      "[CV] ............................ C=0.1, score=0.966921, total=  19.4s\n",
      "[CV] C=10000000.0 ....................................................\n",
      "[CV] ......................... C=1000.0, score=0.938931, total=  15.5s\n",
      "[CV] C=10000000.0 ....................................................\n"
     ]
    },
    {
     "name": "stderr",
     "output_type": "stream",
     "text": [
      "[Parallel(n_jobs=-1)]: Done  25 out of  65 | elapsed:   21.7s remaining:   34.8s\n"
     ]
    },
    {
     "name": "stdout",
     "output_type": "stream",
     "text": [
      "[CV] ......................... C=1000.0, score=0.936468, total=  16.8s\n",
      "[CV] C=10000000.0 ....................................................\n",
      "[CV] .......................... C=100.0, score=0.936387, total=  17.8s\n",
      "[CV] C=100000000.0 ...................................................\n",
      "[CV] ......................... C=1000.0, score=0.936387, total=  16.8s\n",
      "[CV] C=100000000.0 ...................................................\n",
      "[CV] ......................... C=1000.0, score=0.961832, total=  17.8s\n",
      "[CV] C=100000000.0 ...................................................\n",
      "[CV] ........................ C=10000.0, score=0.936387, total=  13.3s\n",
      "[CV] C=100000000.0 ...................................................\n",
      "[CV] ........................ C=10000.0, score=0.937659, total=  14.0s\n",
      "[CV] C=100000000.0 ...................................................\n",
      "[CV] ......................... C=1000.0, score=0.935115, total=  14.6s\n",
      "[CV] C=1000000000.0 ..................................................\n"
     ]
    },
    {
     "name": "stderr",
     "output_type": "stream",
     "text": [
      "[Parallel(n_jobs=-1)]: Done  32 out of  65 | elapsed:   28.9s remaining:   29.8s\n"
     ]
    },
    {
     "name": "stdout",
     "output_type": "stream",
     "text": [
      "[CV] ....................... C=100000.0, score=0.936468, total=  13.7s\n",
      "[CV] C=1000000000.0 ..................................................\n",
      "[CV] ........................ C=10000.0, score=0.936468, total=  14.6s\n",
      "[CV] C=1000000000.0 ..................................................\n",
      "[CV] ........................ C=10000.0, score=0.963104, total=  14.8s\n",
      "[CV] C=1000000000.0 ..................................................\n",
      "[CV] ....................... C=100000.0, score=0.937659, total=  14.3s\n",
      "[CV] C=1000000000.0 ..................................................\n",
      "[CV] ........................ C=10000.0, score=0.933842, total=  15.6s\n",
      "[CV] C=10000000000.0 .................................................\n",
      "[CV] ....................... C=100000.0, score=0.933842, total=  14.5s\n",
      "[CV] C=10000000000.0 .................................................\n",
      "[CV] ....................... C=100000.0, score=0.936387, total=  14.4s\n",
      "[CV] C=10000000000.0 .................................................\n"
     ]
    },
    {
     "name": "stderr",
     "output_type": "stream",
     "text": [
      "[Parallel(n_jobs=-1)]: Done  39 out of  65 | elapsed:   31.6s remaining:   21.1s\n"
     ]
    },
    {
     "name": "stdout",
     "output_type": "stream",
     "text": [
      "[CV] ....................... C=100000.0, score=0.963104, total=  15.3s\n",
      "[CV] C=10000000000.0 .................................................\n",
      "[CV] ...................... C=1000000.0, score=0.936468, total=  14.9s\n",
      "[CV] C=10000000000.0 .................................................\n",
      "[CV] ...................... C=1000000.0, score=0.937659, total=  16.0s\n",
      "[CV] ...................... C=1000000.0, score=0.963104, total=  16.4s\n",
      "[CV] ..................... C=10000000.0, score=0.936468, total=  16.4s\n",
      "[CV] ...................... C=1000000.0, score=0.933842, total=  17.4s\n",
      "[CV] ...................... C=1000000.0, score=0.936387, total=  17.0s\n"
     ]
    },
    {
     "name": "stderr",
     "output_type": "stream",
     "text": [
      "[Parallel(n_jobs=-1)]: Done  46 out of  65 | elapsed:   35.8s remaining:   14.8s\n"
     ]
    },
    {
     "name": "stdout",
     "output_type": "stream",
     "text": [
      "[CV] ..................... C=10000000.0, score=0.937659, total=  16.1s\n",
      "[CV] ..................... C=10000000.0, score=0.963104, total=  16.7s\n",
      "[CV] ..................... C=10000000.0, score=0.935115, total=  16.0s\n",
      "[CV] ..................... C=10000000.0, score=0.935115, total=  15.0s\n",
      "[CV] .................... C=100000000.0, score=0.936468, total=  14.8s\n",
      "[CV] .................... C=100000000.0, score=0.938931, total=  14.8s\n",
      "[CV] .................... C=100000000.0, score=0.963104, total=  14.8s\n"
     ]
    },
    {
     "name": "stderr",
     "output_type": "stream",
     "text": [
      "[Parallel(n_jobs=-1)]: Done  53 out of  65 | elapsed:   38.9s remaining:    8.8s\n"
     ]
    },
    {
     "name": "stdout",
     "output_type": "stream",
     "text": [
      "[CV] .................... C=100000000.0, score=0.935115, total=  13.0s\n",
      "[CV] ................... C=1000000000.0, score=0.938931, total=  13.0s\n",
      "[CV] ................... C=1000000000.0, score=0.963104, total=  13.4s\n",
      "[CV] ................... C=1000000000.0, score=0.936468, total=  13.9s\n",
      "[CV] .................... C=100000000.0, score=0.935115, total=  14.4s\n",
      "[CV] ................... C=1000000000.0, score=0.935115, total=  14.2s\n",
      "[CV] .................. C=10000000000.0, score=0.935115, total=  11.5s\n",
      "[CV] ................... C=1000000000.0, score=0.935115, total=  13.7s\n",
      "[CV] .................. C=10000000000.0, score=0.936468, total=  13.4s\n"
     ]
    },
    {
     "name": "stderr",
     "output_type": "stream",
     "text": [
      "[Parallel(n_jobs=-1)]: Done  60 out of  65 | elapsed:   44.1s remaining:    3.7s\n"
     ]
    },
    {
     "name": "stdout",
     "output_type": "stream",
     "text": [
      "[CV] .................. C=10000000000.0, score=0.935115, total=  12.3s\n",
      "[CV] .................. C=10000000000.0, score=0.938931, total=  13.0s\n",
      "[CV] .................. C=10000000000.0, score=0.963104, total=  12.9s\n"
     ]
    },
    {
     "name": "stderr",
     "output_type": "stream",
     "text": [
      "[Parallel(n_jobs=-1)]: Done  65 out of  65 | elapsed:   44.6s finished\n"
     ]
    },
    {
     "data": {
      "text/plain": [
       "GridSearchCV(cv=StratifiedKFold(n_splits=5, random_state=1, shuffle=True),\n",
       "       error_score='raise',\n",
       "       estimator=LinearSVC(C=1.0, class_weight=None, dual=True, fit_intercept=True,\n",
       "     intercept_scaling=1, loss='squared_hinge', max_iter=1000,\n",
       "     multi_class='ovr', penalty='l2', random_state=None, tol=0.0001,\n",
       "     verbose=0),\n",
       "       fit_params={}, iid=True, n_jobs=-1,\n",
       "       param_grid={'C': array([1.e-02, 1.e-01, 1.e+00, 1.e+01, 1.e+02, 1.e+03, 1.e+04, 1.e+05,\n",
       "       1.e+06, 1.e+07, 1.e+08, 1.e+09, 1.e+10])},\n",
       "       pre_dispatch='2*n_jobs', refit=True, return_train_score=True,\n",
       "       scoring=None, verbose=10)"
      ]
     },
     "execution_count": 9,
     "metadata": {},
     "output_type": "execute_result"
    }
   ],
   "source": [
    "# Training top_model\n",
    "C_range = np.logspace(-2, 10, 13)\n",
    "param_grid = dict(C=C_range)\n",
    "\n",
    "top_model = GridSearchCV(svm.LinearSVC(), param_grid=param_grid, cv=skf, verbose=10, n_jobs=-1)\n",
    "top_model.fit(bnfeatures,y)  # Training "
   ]
  },
  {
   "cell_type": "code",
   "execution_count": 10,
   "metadata": {},
   "outputs": [
    {
     "data": {
      "text/plain": [
       "{'mean_fit_time': array([ 5.4952785 , 17.34952345, 15.02842441, 14.53035092, 15.3860301 ,\n",
       "        16.26140308, 14.39292331, 14.39095469, 16.27745481, 16.02084589,\n",
       "        14.31699696, 13.60858684, 12.56404567]),\n",
       " 'mean_score_time': array([0.07844238, 0.07568007, 0.06898584, 0.08671055, 0.05359144,\n",
       "        0.0389441 , 0.05509963, 0.06305976, 0.05742774, 0.01831007,\n",
       "        0.037146  , 0.03922672, 0.04649949]),\n",
       " 'mean_test_score': array([0.94861358, 0.95217502, 0.94479776, 0.94276266, 0.94149071,\n",
       "        0.9417451 , 0.94149071, 0.94149071, 0.94149071, 0.94149071,\n",
       "        0.9417451 , 0.9417451 , 0.9417451 ]),\n",
       " 'mean_train_score': array([0.97233534, 0.9932587 , 0.99955483, 0.99993641, 0.99993641,\n",
       "        0.99993641, 0.99993641, 0.99993641, 0.99993641, 0.99993641,\n",
       "        1.        , 1.        , 1.        ]),\n",
       " 'param_C': masked_array(data=[0.01, 0.1, 1.0, 10.0, 100.0, 1000.0, 10000.0, 100000.0,\n",
       "                    1000000.0, 10000000.0, 100000000.0, 1000000000.0,\n",
       "                    10000000000.0],\n",
       "              mask=[False, False, False, False, False, False, False, False,\n",
       "                    False, False, False, False, False],\n",
       "        fill_value='?',\n",
       "             dtype=object),\n",
       " 'params': ({'C': 0.01},\n",
       "  {'C': 0.1},\n",
       "  {'C': 1.0},\n",
       "  {'C': 10.0},\n",
       "  {'C': 100.0},\n",
       "  {'C': 1000.0},\n",
       "  {'C': 10000.0},\n",
       "  {'C': 100000.0},\n",
       "  {'C': 1000000.0},\n",
       "  {'C': 10000000.0},\n",
       "  {'C': 100000000.0},\n",
       "  {'C': 1000000000.0},\n",
       "  {'C': 10000000000.0}),\n",
       " 'rank_test_score': array([2, 1, 3, 4, 9, 5, 9, 9, 9, 9, 5, 5, 5], dtype=int32),\n",
       " 'split0_test_score': array([0.94917408, 0.95171537, 0.94282084, 0.93900889, 0.93519695,\n",
       "        0.9364676 , 0.9364676 , 0.9364676 , 0.9364676 , 0.9364676 ,\n",
       "        0.9364676 , 0.9364676 , 0.9364676 ]),\n",
       " 'split0_train_score': array([0.97328244, 0.99300254, 0.99968193, 1.        , 1.        ,\n",
       "        1.        , 1.        , 1.        , 1.        , 1.        ,\n",
       "        1.        , 1.        , 1.        ]),\n",
       " 'split1_test_score': array([0.94529262, 0.94783715, 0.9389313 , 0.93765903, 0.93638677,\n",
       "        0.9389313 , 0.93765903, 0.93765903, 0.93765903, 0.93765903,\n",
       "        0.9389313 , 0.9389313 , 0.9389313 ]),\n",
       " 'split1_train_score': array([0.97233704, 0.99332273, 0.99968203, 1.        , 1.        ,\n",
       "        1.        , 1.        , 1.        , 1.        , 1.        ,\n",
       "        1.        , 1.        , 1.        ]),\n",
       " 'split2_test_score': array([0.96183206, 0.96692112, 0.96692112, 0.96564885, 0.96183206,\n",
       "        0.96183206, 0.96310433, 0.96310433, 0.96310433, 0.96310433,\n",
       "        0.96310433, 0.96310433, 0.96310433]),\n",
       " 'split2_train_score': array([0.97074722, 0.99236884, 0.9990461 , 0.99968203, 1.        ,\n",
       "        0.99968203, 0.99968203, 0.99968203, 0.99968203, 0.99968203,\n",
       "        1.        , 1.        , 1.        ]),\n",
       " 'split3_test_score': array([0.95165394, 0.95419847, 0.94402036, 0.9389313 , 0.93765903,\n",
       "        0.93638677, 0.93384224, 0.93384224, 0.93384224, 0.9351145 ,\n",
       "        0.9351145 , 0.9351145 , 0.9351145 ]),\n",
       " 'split3_train_score': array([0.97201908, 0.99427663, 0.99968203, 1.        , 0.99968203,\n",
       "        1.        , 1.        , 1.        , 1.        , 1.        ,\n",
       "        1.        , 1.        , 1.        ]),\n",
       " 'split4_test_score': array([0.9351145 , 0.94020356, 0.93129771, 0.93256997, 0.93638677,\n",
       "        0.9351145 , 0.93638677, 0.93638677, 0.93638677, 0.9351145 ,\n",
       "        0.9351145 , 0.9351145 , 0.9351145 ]),\n",
       " 'split4_train_score': array([0.97329094, 0.99332273, 0.99968203, 1.        , 1.        ,\n",
       "        1.        , 1.        , 1.        , 1.        , 1.        ,\n",
       "        1.        , 1.        , 1.        ]),\n",
       " 'std_fit_time': array([0.26735515, 1.44021201, 1.37017763, 1.46946383, 2.0841537 ,\n",
       "        1.13584916, 0.78516413, 0.52336478, 0.87294792, 0.57243212,\n",
       "        0.70629833, 0.39909455, 0.63926474]),\n",
       " 'std_score_time': array([0.01530144, 0.01410683, 0.01791343, 0.04415959, 0.01029979,\n",
       "        0.01497782, 0.0649522 , 0.03589622, 0.03050171, 0.0154296 ,\n",
       "        0.03118025, 0.02810898, 0.02148761]),\n",
       " 'std_test_score': array([0.00868843, 0.00876115, 0.01192012, 0.01168187, 0.01019885,\n",
       "        0.01011768, 0.01087651, 0.01087651, 0.01087651, 0.01084672,\n",
       "        0.01076851, 0.01076851, 0.01076851]),\n",
       " 'std_train_score': array([0.00094152, 0.00061674, 0.00025436, 0.00012719, 0.00012719,\n",
       "        0.00012719, 0.00012719, 0.00012719, 0.00012719, 0.00012719,\n",
       "        0.        , 0.        , 0.        ])}"
      ]
     },
     "execution_count": 10,
     "metadata": {},
     "output_type": "execute_result"
    }
   ],
   "source": [
    "top_model.cv_results_"
   ]
  },
  {
   "cell_type": "code",
   "execution_count": 11,
   "metadata": {},
   "outputs": [
    {
     "name": "stderr",
     "output_type": "stream",
     "text": [
      "/usr/local/lib/python3.5/dist-packages/sklearn/model_selection/_search.py:667: DeprecationWarning: The grid_scores_ attribute was deprecated in version 0.18 in favor of the more elaborate cv_results_ attribute. The grid_scores_ attribute will not be available from 0.20\n",
      "  DeprecationWarning)\n"
     ]
    },
    {
     "data": {
      "text/plain": [
       "[mean: 0.94861, std: 0.00869, params: {'C': 0.01},\n",
       " mean: 0.95218, std: 0.00876, params: {'C': 0.1},\n",
       " mean: 0.94480, std: 0.01192, params: {'C': 1.0},\n",
       " mean: 0.94276, std: 0.01168, params: {'C': 10.0},\n",
       " mean: 0.94149, std: 0.01020, params: {'C': 100.0},\n",
       " mean: 0.94175, std: 0.01012, params: {'C': 1000.0},\n",
       " mean: 0.94149, std: 0.01088, params: {'C': 10000.0},\n",
       " mean: 0.94149, std: 0.01088, params: {'C': 100000.0},\n",
       " mean: 0.94149, std: 0.01088, params: {'C': 1000000.0},\n",
       " mean: 0.94149, std: 0.01085, params: {'C': 10000000.0},\n",
       " mean: 0.94175, std: 0.01077, params: {'C': 100000000.0},\n",
       " mean: 0.94175, std: 0.01077, params: {'C': 1000000000.0},\n",
       " mean: 0.94175, std: 0.01077, params: {'C': 10000000000.0}]"
      ]
     },
     "execution_count": 11,
     "metadata": {},
     "output_type": "execute_result"
    }
   ],
   "source": [
    "top_model.grid_scores_"
   ]
  },
  {
   "cell_type": "code",
   "execution_count": 12,
   "metadata": {},
   "outputs": [
    {
     "name": "stdout",
     "output_type": "stream",
     "text": [
      "Best parameters: {'C': 0.1} - score: 0.9522\n"
     ]
    }
   ],
   "source": [
    "print(\"Best parameters: %s - score: %0.4f\" % (top_model.best_params_, top_model.best_score_))"
   ]
  }
 ],
 "metadata": {
  "kernelspec": {
   "display_name": "Python 3",
   "language": "python",
   "name": "python3"
  },
  "language_info": {
   "codemirror_mode": {
    "name": "ipython",
    "version": 3
   },
   "file_extension": ".py",
   "mimetype": "text/x-python",
   "name": "python",
   "nbconvert_exporter": "python",
   "pygments_lexer": "ipython3",
   "version": "3.5.2"
  }
 },
 "nbformat": 4,
 "nbformat_minor": 2
}
