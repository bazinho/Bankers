{
 "cells": [
  {
   "cell_type": "code",
   "execution_count": 1,
   "metadata": {},
   "outputs": [
    {
     "name": "stderr",
     "output_type": "stream",
     "text": [
      "/usr/local/lib/python3.5/dist-packages/h5py/__init__.py:36: FutureWarning: Conversion of the second argument of issubdtype from `float` to `np.floating` is deprecated. In future, it will be treated as `np.float64 == np.dtype(float).type`.\n",
      "  from ._conv import register_converters as _register_converters\n",
      "Using TensorFlow backend.\n"
     ]
    }
   ],
   "source": [
    "import os\n",
    "import os.path\n",
    "import glob\n",
    "from sklearn.preprocessing import LabelEncoder\n",
    "from sklearn.model_selection import StratifiedKFold                                                                                                                       \n",
    "from sklearn.metrics import confusion_matrix,accuracy_score\n",
    "from sklearn import svm\n",
    "from sklearn.model_selection import GridSearchCV\n",
    "import sklearn_evaluation.plot as skplot\n",
    "from sklearn.model_selection import learning_curve\n",
    "\n",
    "import matplotlib.pyplot as plt\n",
    "\n",
    "import numpy as np\n",
    "np.random.seed(1)\n",
    "\n",
    "from keras.preprocessing.image import img_to_array\n",
    "from keras.utils import np_utils\n",
    "from keras.preprocessing import image\n",
    "from keras.applications.nasnet import NASNetMobile,preprocess_input\n",
    "\n",
    "os.environ['CUDA_VISIBLE_DEVICES'] = '1'"
   ]
  },
  {
   "cell_type": "code",
   "execution_count": 2,
   "metadata": {
    "collapsed": true
   },
   "outputs": [],
   "source": [
    "imagedir = \"Datasets/Detection/Byteplots\""
   ]
  },
  {
   "cell_type": "code",
   "execution_count": 3,
   "metadata": {},
   "outputs": [
    {
     "name": "stdout",
     "output_type": "stream",
     "text": [
      "Label: 0\tFamily:          Banker\tNumber of images: 1986\n",
      "Label: 1\tFamily:          WinExe\tNumber of images: 1945\n",
      "Processing images ...\n"
     ]
    },
    {
     "name": "stderr",
     "output_type": "stream",
     "text": [
      "/usr/local/lib/python3.5/dist-packages/PIL/Image.py:2438: DecompressionBombWarning: Image size (103265280 pixels) exceeds limit of 89478485 pixels, could be decompression bomb DOS attack.\n",
      "  DecompressionBombWarning)\n",
      "/usr/local/lib/python3.5/dist-packages/PIL/Image.py:2438: DecompressionBombWarning: Image size (110601216 pixels) exceeds limit of 89478485 pixels, could be decompression bomb DOS attack.\n",
      "  DecompressionBombWarning)\n"
     ]
    },
    {
     "name": "stdout",
     "output_type": "stream",
     "text": [
      "Images processed: 3931\n"
     ]
    }
   ],
   "source": [
    "cur_dir = os.getcwd()\n",
    "os.chdir(imagedir)  # the parent folder with sub-folders\n",
    "\n",
    "# Get number of samples per family\n",
    "list_fams = sorted(os.listdir(os.getcwd()), key=str.lower)  # vector of strings with family names\n",
    "no_imgs = []  # No. of samples per family\n",
    "for i in range(len(list_fams)):\n",
    "    os.chdir(list_fams[i])\n",
    "    len1 = len(glob.glob('*.png'))  # assuming the images are stored as 'png'\n",
    "    no_imgs.append(len1)\n",
    "    os.chdir('..')\n",
    "num_samples = np.sum(no_imgs)  # total number of all samples\n",
    "\n",
    "# Compute the labels\n",
    "y = np.zeros(num_samples)\n",
    "pos = 0\n",
    "label = 0\n",
    "for i in no_imgs:\n",
    "    print (\"Label:%2d\\tFamily: %15s\\tNumber of images: %d\" % (label, list_fams[label], i))\n",
    "    for j in range(i):\n",
    "        y[pos] = label\n",
    "        pos += 1\n",
    "    label += 1\n",
    "num_classes = label\n",
    "\n",
    "# Compute the features\n",
    "width, height,channels = (224,224,3)\n",
    "X = np.zeros((num_samples, width, height, channels))\n",
    "cnt = 0\n",
    "list_paths = [] # List of image paths\n",
    "print(\"Processing images ...\")\n",
    "for i in range(len(list_fams)):\n",
    "    for img_file in glob.glob(list_fams[i]+'/*.png'):\n",
    "        #print(\"[%d] Processing image: %s\" % (cnt, img_file))\n",
    "        list_paths.append(os.path.join(os.getcwd(),img_file))\n",
    "        img = image.load_img(img_file, target_size=(224, 224))\n",
    "        x = image.img_to_array(img)\n",
    "        x = np.expand_dims(x, axis=0)\n",
    "        x = preprocess_input(x)\n",
    "        X[cnt] = x\n",
    "        cnt += 1\n",
    "print(\"Images processed: %d\" %(cnt))\n",
    "\n",
    "os.chdir(cur_dir)"
   ]
  },
  {
   "cell_type": "code",
   "execution_count": 4,
   "metadata": {},
   "outputs": [
    {
     "data": {
      "text/plain": [
       "(3931, 224, 224, 3)"
      ]
     },
     "execution_count": 4,
     "metadata": {},
     "output_type": "execute_result"
    }
   ],
   "source": [
    "X.shape"
   ]
  },
  {
   "cell_type": "code",
   "execution_count": 5,
   "metadata": {
    "collapsed": true
   },
   "outputs": [],
   "source": [
    "# Creating base_model\n",
    "image_shape = (224, 224, 3)                                                                                                                                                                                                                                                                                            \n",
    "base_model = NASNetMobile(weights='imagenet', input_shape=image_shape, include_top=False, pooling='avg')"
   ]
  },
  {
   "cell_type": "code",
   "execution_count": 6,
   "metadata": {},
   "outputs": [
    {
     "name": "stdout",
     "output_type": "stream",
     "text": [
      "Extracting bottleneck features from convolutional layers ...\n"
     ]
    }
   ],
   "source": [
    "print(\"Extracting bottleneck features from convolutional layers ...\")\n",
    "bnfeatures = base_model.predict(X)"
   ]
  },
  {
   "cell_type": "code",
   "execution_count": 7,
   "metadata": {},
   "outputs": [
    {
     "data": {
      "text/plain": [
       "(3931, 1056)"
      ]
     },
     "execution_count": 7,
     "metadata": {},
     "output_type": "execute_result"
    }
   ],
   "source": [
    "bnfeatures.shape"
   ]
  },
  {
   "cell_type": "code",
   "execution_count": 8,
   "metadata": {
    "collapsed": true
   },
   "outputs": [],
   "source": [
    "# Create stratified k-fold subsets                                                                                                                                        \n",
    "kfold = 5  # no. of folds                                                                 \n",
    "skf = StratifiedKFold(kfold, shuffle=True,random_state=1)"
   ]
  },
  {
   "cell_type": "code",
   "execution_count": 9,
   "metadata": {},
   "outputs": [
    {
     "name": "stdout",
     "output_type": "stream",
     "text": [
      "Fitting 5 folds for each of 13 candidates, totalling 65 fits\n",
      "[CV] C=0.01 ..........................................................\n",
      "[CV] C=0.01 ..........................................................\n",
      "[CV] C=0.01 ..........................................................\n",
      "[CV] C=0.01 ..........................................................\n",
      "[CV] C=0.01 ..........................................................\n",
      "[CV] C=0.1 ...........................................................\n",
      "[CV] C=0.1 ...........................................................\n",
      "[CV] C=0.1 ...........................................................\n",
      "[CV] C=0.1 ...........................................................\n",
      "[CV] C=0.1 ...........................................................\n",
      "[CV] C=1.0 ...........................................................\n",
      "[CV] C=1.0 ...........................................................\n",
      "[CV] C=1.0 ...........................................................\n",
      "[CV] ........................... C=0.01, score=0.936468, total=   0.5s\n",
      "[CV] C=1.0 ...........................................................\n",
      "[CV] C=1.0 ...........................................................\n",
      "[CV] ........................... C=0.01, score=0.949109, total=   0.6s\n",
      "[CV] C=10.0 ..........................................................\n",
      "[CV] ........................... C=0.01, score=0.941476, total=   0.6s\n",
      "[CV] C=10.0 ..........................................................\n",
      "[CV] C=10.0 ..........................................................\n",
      "[CV] C=10.0 ..........................................................\n"
     ]
    },
    {
     "name": "stderr",
     "output_type": "stream",
     "text": [
      "[Parallel(n_jobs=-1)]: Done   2 tasks      | elapsed:    0.8s\n"
     ]
    },
    {
     "name": "stdout",
     "output_type": "stream",
     "text": [
      "[CV] ........................... C=0.01, score=0.928753, total=   0.7s\n",
      "[CV] C=10.0 ..........................................................\n",
      "[CV] C=100.0 .........................................................\n",
      "[CV] ........................... C=0.01, score=0.931298, total=   0.9s\n",
      "[CV] C=100.0 .........................................................\n",
      "[CV] C=100.0 .........................................................\n",
      "[CV] C=100.0 .........................................................\n",
      "[CV] C=100.0 .........................................................\n",
      "[CV] C=1000.0 ........................................................\n",
      "[CV] C=1000.0 ........................................................\n",
      "[CV] C=1000.0 ........................................................\n",
      "[CV] C=1000.0 ........................................................\n",
      "[CV] ............................ C=0.1, score=0.945362, total=   3.5s\n",
      "[CV] C=1000.0 ........................................................\n",
      "[CV] ............................ C=0.1, score=0.947837, total=   3.6s\n",
      "[CV] C=10000.0 .......................................................\n",
      "[CV] ............................ C=0.1, score=0.955471, total=   3.8s\n",
      "[CV] ............................ C=0.1, score=0.932570, total=   3.7s\n",
      "[CV] C=10000.0 .......................................................\n",
      "[CV] C=10000.0 .......................................................\n",
      "[CV] ............................ C=0.1, score=0.933842, total=   4.1s\n",
      "[CV] C=10000.0 .......................................................\n",
      "[CV] ............................ C=1.0, score=0.927481, total=   5.3s\n",
      "[CV] ............................ C=1.0, score=0.947837, total=   5.4s\n",
      "[CV] C=10000.0 .......................................................\n",
      "[CV] C=100000.0 ......................................................\n",
      "[CV] ............................ C=1.0, score=0.936387, total=   5.3s\n",
      "[CV] C=100000.0 ......................................................\n",
      "[CV] .......................... C=100.0, score=0.930025, total=   4.7s\n",
      "[CV] C=100000.0 ......................................................\n",
      "[CV] ......................... C=1000.0, score=0.935115, total=   4.8s\n",
      "[CV] ........................... C=10.0, score=0.935115, total=   5.4s\n",
      "[CV] C=100000.0 ......................................................\n"
     ]
    },
    {
     "name": "stderr",
     "output_type": "stream",
     "text": [
      "[Parallel(n_jobs=-1)]: Done  13 tasks      | elapsed:    6.2s\n"
     ]
    },
    {
     "name": "stdout",
     "output_type": "stream",
     "text": [
      "[CV] .......................... C=100.0, score=0.931385, total=   5.3s\n",
      "[CV] C=100000.0 ......................................................\n",
      "[CV] C=1000000.0 .....................................................\n",
      "[CV] ........................... C=10.0, score=0.921120, total=   5.6s\n",
      "[CV] C=1000000.0 .....................................................\n",
      "[CV] ......................... C=1000.0, score=0.940204, total=   5.0s\n",
      "[CV] ............................ C=1.0, score=0.940280, total=   6.1s\n",
      "[CV] ............................ C=1.0, score=0.947837, total=   6.1s\n",
      "[CV] ........................... C=10.0, score=0.931385, total=   5.8s\n",
      "[CV] ........................... C=10.0, score=0.942748, total=   5.8s\n",
      "[CV] C=1000000.0 .....................................................\n",
      "[CV] C=1000000.0 .....................................................\n",
      "[CV] .......................... C=100.0, score=0.935115, total=   5.7s\n",
      "[CV] C=1000000.0 .....................................................\n",
      "[CV] ........................... C=10.0, score=0.931298, total=   5.8s\n",
      "[CV] C=10000000.0 ....................................................\n",
      "[CV] .......................... C=100.0, score=0.924936, total=   5.7s\n",
      "[CV] C=10000000.0 ....................................................\n"
     ]
    },
    {
     "name": "stderr",
     "output_type": "stream",
     "text": [
      "[Parallel(n_jobs=-1)]: Done  25 out of  65 | elapsed:    7.1s remaining:   11.4s\n"
     ]
    },
    {
     "name": "stdout",
     "output_type": "stream",
     "text": [
      "[CV] C=10000000.0 ....................................................\n",
      "[CV] C=10000000.0 ....................................................\n",
      "[CV] ......................... C=1000.0, score=0.922392, total=   5.7s\n",
      "[CV] C=10000000.0 ....................................................\n",
      "[CV] .......................... C=100.0, score=0.942748, total=   6.2s\n",
      "[CV] ......................... C=1000.0, score=0.932656, total=   6.1s\n",
      "[CV] C=100000000.0 ...................................................\n",
      "[CV] C=100000000.0 ...................................................\n",
      "[CV] C=100000000.0 ...................................................\n",
      "[CV] ......................... C=1000.0, score=0.932570, total=   4.7s\n",
      "[CV] C=100000000.0 ...................................................\n",
      "[CV] ........................ C=10000.0, score=0.935115, total=   4.6s\n",
      "[CV] C=100000000.0 ...................................................\n",
      "[CV] ........................ C=10000.0, score=0.931385, total=   5.2s\n",
      "[CV] C=1000000000.0 ..................................................\n"
     ]
    },
    {
     "name": "stderr",
     "output_type": "stream",
     "text": [
      "[Parallel(n_jobs=-1)]: Done  32 out of  65 | elapsed:    9.3s remaining:    9.6s\n"
     ]
    },
    {
     "name": "stdout",
     "output_type": "stream",
     "text": [
      "[CV] ........................ C=10000.0, score=0.922392, total=   5.2s\n",
      "[CV] C=1000000000.0 ..................................................\n",
      "[CV] ........................ C=10000.0, score=0.940204, total=   5.9s\n",
      "[CV] C=1000000000.0 ..................................................\n",
      "[CV] ........................ C=10000.0, score=0.928753, total=   5.1s\n",
      "[CV] C=1000000000.0 ..................................................\n",
      "[CV] ....................... C=100000.0, score=0.931298, total=   4.9s\n",
      "[CV] C=1000000000.0 ..................................................\n",
      "[CV] ....................... C=100000.0, score=0.937659, total=   5.3s\n",
      "[CV] C=10000000000.0 .................................................\n",
      "[CV] ....................... C=100000.0, score=0.922392, total=   5.3s\n",
      "[CV] C=10000000000.0 .................................................\n",
      "[CV] ...................... C=1000000.0, score=0.937659, total=   5.1s\n",
      "[CV] C=10000000000.0 .................................................\n",
      "[CV] ....................... C=100000.0, score=0.935115, total=   5.8s\n",
      "[CV] C=10000000000.0 .................................................\n"
     ]
    },
    {
     "name": "stderr",
     "output_type": "stream",
     "text": [
      "[Parallel(n_jobs=-1)]: Done  39 out of  65 | elapsed:   12.0s remaining:    8.0s\n"
     ]
    },
    {
     "name": "stdout",
     "output_type": "stream",
     "text": [
      "[CV] ...................... C=1000000.0, score=0.935115, total=   5.6s\n",
      "[CV] ...................... C=1000000.0, score=0.922392, total=   5.3s\n",
      "[CV] C=10000000000.0 .................................................\n",
      "[CV] ..................... C=10000000.0, score=0.935115, total=   5.0s\n",
      "[CV] ....................... C=100000.0, score=0.931385, total=   6.2s\n",
      "[CV] ...................... C=1000000.0, score=0.931385, total=   5.8s\n",
      "[CV] ...................... C=1000000.0, score=0.928753, total=   5.7s\n",
      "[CV] ..................... C=10000000.0, score=0.922392, total=   5.4s\n",
      "[CV] ..................... C=10000000.0, score=0.940204, total=   5.5s\n",
      "[CV] ..................... C=10000000.0, score=0.928753, total=   5.4s\n"
     ]
    },
    {
     "name": "stderr",
     "output_type": "stream",
     "text": [
      "[Parallel(n_jobs=-1)]: Done  46 out of  65 | elapsed:   12.8s remaining:    5.3s\n"
     ]
    },
    {
     "name": "stdout",
     "output_type": "stream",
     "text": [
      "[CV] .................... C=100000000.0, score=0.935115, total=   5.3s\n",
      "[CV] ..................... C=10000000.0, score=0.931385, total=   5.8s\n",
      "[CV] .................... C=100000000.0, score=0.932656, total=   5.6s\n",
      "[CV] .................... C=100000000.0, score=0.937659, total=   5.7s\n"
     ]
    },
    {
     "name": "stderr",
     "output_type": "stream",
     "text": [
      "[Parallel(n_jobs=-1)]: Done  53 out of  65 | elapsed:   13.6s remaining:    3.1s\n"
     ]
    },
    {
     "name": "stdout",
     "output_type": "stream",
     "text": [
      "[CV] .................... C=100000000.0, score=0.923664, total=   5.1s\n",
      "[CV] .................... C=100000000.0, score=0.931298, total=   5.1s\n",
      "[CV] ................... C=1000000000.0, score=0.936387, total=   4.4s\n",
      "[CV] ................... C=1000000000.0, score=0.932656, total=   5.1s\n",
      "[CV] ................... C=1000000000.0, score=0.937659, total=   4.2s\n",
      "[CV] .................. C=10000000000.0, score=0.932656, total=   3.4s\n",
      "[CV] .................. C=10000000000.0, score=0.923664, total=   3.0s\n",
      "[CV] .................. C=10000000000.0, score=0.931298, total=   2.8s\n",
      "[CV] ................... C=1000000000.0, score=0.923664, total=   3.8s\n"
     ]
    },
    {
     "name": "stderr",
     "output_type": "stream",
     "text": [
      "[Parallel(n_jobs=-1)]: Done  60 out of  65 | elapsed:   15.2s remaining:    1.3s\n"
     ]
    },
    {
     "name": "stdout",
     "output_type": "stream",
     "text": [
      "[CV] .................. C=10000000000.0, score=0.936387, total=   3.5s\n",
      "[CV] ................... C=1000000000.0, score=0.933842, total=   3.9s\n",
      "[CV] .................. C=10000000000.0, score=0.941476, total=   3.7s\n"
     ]
    },
    {
     "name": "stderr",
     "output_type": "stream",
     "text": [
      "[Parallel(n_jobs=-1)]: Done  65 out of  65 | elapsed:   15.8s finished\n"
     ]
    },
    {
     "data": {
      "text/plain": [
       "GridSearchCV(cv=StratifiedKFold(n_splits=5, random_state=1, shuffle=True),\n",
       "       error_score='raise',\n",
       "       estimator=LinearSVC(C=1.0, class_weight=None, dual=True, fit_intercept=True,\n",
       "     intercept_scaling=1, loss='squared_hinge', max_iter=1000,\n",
       "     multi_class='ovr', penalty='l2', random_state=None, tol=0.0001,\n",
       "     verbose=0),\n",
       "       fit_params={}, iid=True, n_jobs=-1,\n",
       "       param_grid={'C': array([1.e-02, 1.e-01, 1.e+00, 1.e+01, 1.e+02, 1.e+03, 1.e+04, 1.e+05,\n",
       "       1.e+06, 1.e+07, 1.e+08, 1.e+09, 1.e+10])},\n",
       "       pre_dispatch='2*n_jobs', refit=True, return_train_score=True,\n",
       "       scoring=None, verbose=10)"
      ]
     },
     "execution_count": 9,
     "metadata": {},
     "output_type": "execute_result"
    }
   ],
   "source": [
    "# Training top_model\n",
    "C_range = np.logspace(-2, 10, 13)\n",
    "param_grid = dict(C=C_range)\n",
    "\n",
    "top_model = GridSearchCV(svm.LinearSVC(), param_grid=param_grid, cv=skf, verbose=10, n_jobs=-1)\n",
    "top_model.fit(bnfeatures,y)  # Training "
   ]
  },
  {
   "cell_type": "code",
   "execution_count": 10,
   "metadata": {},
   "outputs": [
    {
     "data": {
      "text/plain": [
       "{'mean_fit_time': array([0.61364388, 3.69968224, 5.5827147 , 5.6175921 , 5.47359724,\n",
       "        5.18078246, 5.17058177, 5.40970001, 5.3948483 , 5.35076661,\n",
       "        5.29702039, 4.27500634, 3.27567744]),\n",
       " 'mean_score_time': array([0.03516564, 0.04167719, 0.06213131, 0.07921047, 0.05899029,\n",
       "        0.07704668, 0.01911473, 0.09311128, 0.08895669, 0.08296127,\n",
       "        0.06163716, 0.03365798, 0.0266665 ]),\n",
       " 'mean_test_score': array([0.9374205 , 0.94301704, 0.93996439, 0.93233274, 0.93284152,\n",
       "        0.93258713, 0.93156958, 0.93156958, 0.9310608 , 0.93156958,\n",
       "        0.93207835, 0.93284152, 0.9330959 ]),\n",
       " 'mean_train_score': array([0.96336818, 0.98963359, 0.99961842, 1.        , 0.99993641,\n",
       "        0.99993641, 0.99993641, 0.99987281, 0.99987281, 0.99993641,\n",
       "        0.99987281, 0.99993641, 1.        ]),\n",
       " 'param_C': masked_array(data=[0.01, 0.1, 1.0, 10.0, 100.0, 1000.0, 10000.0, 100000.0,\n",
       "                    1000000.0, 10000000.0, 100000000.0, 1000000000.0,\n",
       "                    10000000000.0],\n",
       "              mask=[False, False, False, False, False, False, False, False,\n",
       "                    False, False, False, False, False],\n",
       "        fill_value='?',\n",
       "             dtype=object),\n",
       " 'params': ({'C': 0.01},\n",
       "  {'C': 0.1},\n",
       "  {'C': 1.0},\n",
       "  {'C': 10.0},\n",
       "  {'C': 100.0},\n",
       "  {'C': 1000.0},\n",
       "  {'C': 10000.0},\n",
       "  {'C': 100000.0},\n",
       "  {'C': 1000000.0},\n",
       "  {'C': 10000000.0},\n",
       "  {'C': 100000000.0},\n",
       "  {'C': 1000000000.0},\n",
       "  {'C': 10000000000.0}),\n",
       " 'rank_test_score': array([ 3,  1,  2,  8,  5,  7, 10, 10, 13, 10,  9,  5,  4], dtype=int32),\n",
       " 'split0_test_score': array([0.9364676 , 0.94536213, 0.94027954, 0.93138501, 0.93138501,\n",
       "        0.93265565, 0.93138501, 0.93138501, 0.93138501, 0.93138501,\n",
       "        0.93265565, 0.93265565, 0.93265565]),\n",
       " 'split0_train_score': array([0.96469466, 0.98823155, 0.99968193, 1.        , 1.        ,\n",
       "        1.        , 1.        , 1.        , 1.        , 1.        ,\n",
       "        1.        , 1.        , 1.        ]),\n",
       " 'split1_test_score': array([0.94147583, 0.94783715, 0.94783715, 0.9351145 , 0.9351145 ,\n",
       "        0.9351145 , 0.9351145 , 0.9351145 , 0.9351145 , 0.9351145 ,\n",
       "        0.9351145 , 0.93638677, 0.93638677]),\n",
       " 'split1_train_score': array([0.96279809, 0.98823529, 0.99936407, 1.        , 0.99968203,\n",
       "        0.99968203, 0.99968203, 0.99968203, 0.99968203, 0.99968203,\n",
       "        0.99968203, 1.        , 1.        ]),\n",
       " 'split2_test_score': array([0.94910941, 0.95547074, 0.94783715, 0.94274809, 0.94274809,\n",
       "        0.94020356, 0.94020356, 0.93765903, 0.93765903, 0.94020356,\n",
       "        0.93765903, 0.93765903, 0.94147583]),\n",
       " 'split2_train_score': array([0.96057234, 0.98791733, 0.99968203, 1.        , 1.        ,\n",
       "        1.        , 1.        , 0.99968203, 0.99968203, 1.        ,\n",
       "        0.99968203, 0.99968203, 1.        ]),\n",
       " 'split3_test_score': array([0.93129771, 0.93256997, 0.92748092, 0.92111959, 0.92493639,\n",
       "        0.92239186, 0.92239186, 0.92239186, 0.92239186, 0.92239186,\n",
       "        0.92366412, 0.92366412, 0.92366412]),\n",
       " 'split3_train_score': array([0.96279809, 0.99395866, 1.        , 1.        , 1.        ,\n",
       "        1.        , 1.        , 1.        , 1.        , 1.        ,\n",
       "        1.        , 1.        , 1.        ]),\n",
       " 'split4_test_score': array([0.92875318, 0.93384224, 0.93638677, 0.93129771, 0.93002545,\n",
       "        0.93256997, 0.92875318, 0.93129771, 0.92875318, 0.92875318,\n",
       "        0.93129771, 0.93384224, 0.93129771]),\n",
       " 'split4_train_score': array([0.96597774, 0.98982512, 0.99936407, 1.        , 1.        ,\n",
       "        1.        , 1.        , 1.        , 1.        , 1.        ,\n",
       "        1.        , 1.        , 1.        ]),\n",
       " 'std_fit_time': array([0.12984004, 0.16464024, 0.37692271, 0.16471246, 0.48971192,\n",
       "        0.5172174 , 0.4268661 , 0.42863336, 0.26192751, 0.24290225,\n",
       "        0.27154358, 0.44909553, 0.32366921]),\n",
       " 'std_score_time': array([0.01348626, 0.00827344, 0.01192349, 0.03416291, 0.02487433,\n",
       "        0.03712559, 0.01096722, 0.06699075, 0.04920382, 0.0224592 ,\n",
       "        0.040719  , 0.02221734, 0.02844649]),\n",
       " 'std_test_score': array([0.00730108, 0.00868397, 0.00765013, 0.00698371, 0.00592971,\n",
       "        0.00580178, 0.00598771, 0.00517595, 0.00530121, 0.00598771,\n",
       "        0.00473447, 0.00491949, 0.00588889]),\n",
       " 'std_train_score': array([0.00184587, 0.00226316, 0.00023794, 0.        , 0.00012719,\n",
       "        0.00012719, 0.00012719, 0.00015577, 0.00015577, 0.00012719,\n",
       "        0.00015577, 0.00012719, 0.        ])}"
      ]
     },
     "execution_count": 10,
     "metadata": {},
     "output_type": "execute_result"
    }
   ],
   "source": [
    "top_model.cv_results_"
   ]
  },
  {
   "cell_type": "code",
   "execution_count": 11,
   "metadata": {},
   "outputs": [
    {
     "name": "stderr",
     "output_type": "stream",
     "text": [
      "/usr/local/lib/python3.5/dist-packages/sklearn/model_selection/_search.py:667: DeprecationWarning: The grid_scores_ attribute was deprecated in version 0.18 in favor of the more elaborate cv_results_ attribute. The grid_scores_ attribute will not be available from 0.20\n",
      "  DeprecationWarning)\n"
     ]
    },
    {
     "data": {
      "text/plain": [
       "[mean: 0.93742, std: 0.00730, params: {'C': 0.01},\n",
       " mean: 0.94302, std: 0.00868, params: {'C': 0.1},\n",
       " mean: 0.93996, std: 0.00765, params: {'C': 1.0},\n",
       " mean: 0.93233, std: 0.00698, params: {'C': 10.0},\n",
       " mean: 0.93284, std: 0.00593, params: {'C': 100.0},\n",
       " mean: 0.93259, std: 0.00580, params: {'C': 1000.0},\n",
       " mean: 0.93157, std: 0.00599, params: {'C': 10000.0},\n",
       " mean: 0.93157, std: 0.00518, params: {'C': 100000.0},\n",
       " mean: 0.93106, std: 0.00530, params: {'C': 1000000.0},\n",
       " mean: 0.93157, std: 0.00599, params: {'C': 10000000.0},\n",
       " mean: 0.93208, std: 0.00474, params: {'C': 100000000.0},\n",
       " mean: 0.93284, std: 0.00492, params: {'C': 1000000000.0},\n",
       " mean: 0.93310, std: 0.00589, params: {'C': 10000000000.0}]"
      ]
     },
     "execution_count": 11,
     "metadata": {},
     "output_type": "execute_result"
    }
   ],
   "source": [
    "top_model.grid_scores_"
   ]
  },
  {
   "cell_type": "code",
   "execution_count": 12,
   "metadata": {},
   "outputs": [
    {
     "name": "stdout",
     "output_type": "stream",
     "text": [
      "Best parameters: {'C': 0.1} - score: 0.9430\n"
     ]
    }
   ],
   "source": [
    "print(\"Best parameters: %s - score: %0.4f\" % (top_model.best_params_, top_model.best_score_))"
   ]
  }
 ],
 "metadata": {
  "kernelspec": {
   "display_name": "Python 3",
   "language": "python",
   "name": "python3"
  },
  "language_info": {
   "codemirror_mode": {
    "name": "ipython",
    "version": 3
   },
   "file_extension": ".py",
   "mimetype": "text/x-python",
   "name": "python",
   "nbconvert_exporter": "python",
   "pygments_lexer": "ipython3",
   "version": "3.5.2"
  }
 },
 "nbformat": 4,
 "nbformat_minor": 2
}
