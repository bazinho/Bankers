{
 "cells": [
  {
   "cell_type": "code",
   "execution_count": 14,
   "metadata": {
    "collapsed": true
   },
   "outputs": [],
   "source": [
    "import os\n",
    "import os.path\n",
    "import glob\n",
    "from sklearn.preprocessing import LabelEncoder\n",
    "from sklearn.model_selection import StratifiedKFold                                                                                                                       \n",
    "from sklearn.metrics import confusion_matrix,accuracy_score\n",
    "from sklearn import svm\n",
    "from sklearn.model_selection import GridSearchCV\n",
    "import sklearn_evaluation.plot as skplot\n",
    "from sklearn.model_selection import learning_curve\n",
    "\n",
    "import matplotlib.pyplot as plt\n",
    "\n",
    "import numpy as np\n",
    "np.random.seed(1)\n",
    "\n",
    "from keras.preprocessing.image import img_to_array\n",
    "from keras.utils import np_utils\n",
    "from keras.preprocessing import image\n",
    "from keras.applications.vgg16 import VGG16\n",
    "from keras.applications.imagenet_utils import preprocess_input\n",
    "\n",
    "os.environ['CUDA_VISIBLE_DEVICES'] = '1'"
   ]
  },
  {
   "cell_type": "code",
   "execution_count": 2,
   "metadata": {
    "collapsed": true
   },
   "outputs": [],
   "source": [
    "imagedir = \"Datasets/Detection/Byteplots\""
   ]
  },
  {
   "cell_type": "code",
   "execution_count": 3,
   "metadata": {},
   "outputs": [
    {
     "name": "stdout",
     "output_type": "stream",
     "text": [
      "Label: 0\tFamily:          Banker\tNumber of images: 1986\n",
      "Label: 1\tFamily:          WinExe\tNumber of images: 1945\n",
      "Processing images ...\n"
     ]
    },
    {
     "name": "stderr",
     "output_type": "stream",
     "text": [
      "/usr/local/lib/python2.7/dist-packages/PIL/Image.py:2371: DecompressionBombWarning: Image size (103265280 pixels) exceeds limit of 89478485 pixels, could be decompression bomb DOS attack.\n",
      "  DecompressionBombWarning)\n",
      "/usr/local/lib/python2.7/dist-packages/PIL/Image.py:2371: DecompressionBombWarning: Image size (110601216 pixels) exceeds limit of 89478485 pixels, could be decompression bomb DOS attack.\n",
      "  DecompressionBombWarning)\n"
     ]
    },
    {
     "name": "stdout",
     "output_type": "stream",
     "text": [
      "Images processed: 3931\n"
     ]
    }
   ],
   "source": [
    "cur_dir = os.getcwd()\n",
    "os.chdir(imagedir)  # the parent folder with sub-folders\n",
    "\n",
    "# Get number of samples per family\n",
    "list_fams = sorted(os.listdir(os.getcwd()), key=str.lower)  # vector of strings with family names\n",
    "no_imgs = []  # No. of samples per family\n",
    "for i in range(len(list_fams)):\n",
    "    os.chdir(list_fams[i])\n",
    "    len1 = len(glob.glob('*.png'))  # assuming the images are stored as 'png'\n",
    "    no_imgs.append(len1)\n",
    "    os.chdir('..')\n",
    "num_samples = np.sum(no_imgs)  # total number of all samples\n",
    "\n",
    "# Compute the labels\n",
    "y = np.zeros(num_samples)\n",
    "pos = 0\n",
    "label = 0\n",
    "for i in no_imgs:\n",
    "    print (\"Label:%2d\\tFamily: %15s\\tNumber of images: %d\" % (label, list_fams[label], i))\n",
    "    for j in range(i):\n",
    "        y[pos] = label\n",
    "        pos += 1\n",
    "    label += 1\n",
    "num_classes = label\n",
    "\n",
    "# Compute the features\n",
    "width, height,channels = (224,224,3)\n",
    "X = np.zeros((num_samples, width, height, channels))\n",
    "cnt = 0\n",
    "list_paths = [] # List of image paths\n",
    "print(\"Processing images ...\")\n",
    "for i in range(len(list_fams)):\n",
    "    for img_file in glob.glob(list_fams[i]+'/*.png'):\n",
    "        #print(\"[%d] Processing image: %s\" % (cnt, img_file))\n",
    "        list_paths.append(os.path.join(os.getcwd(),img_file))\n",
    "        img = image.load_img(img_file, target_size=(224, 224))\n",
    "        x = image.img_to_array(img)\n",
    "        x = np.expand_dims(x, axis=0)\n",
    "        x = preprocess_input(x)\n",
    "        X[cnt] = x\n",
    "        cnt += 1\n",
    "print(\"Images processed: %d\" %(cnt))\n",
    "\n",
    "os.chdir(cur_dir)"
   ]
  },
  {
   "cell_type": "code",
   "execution_count": 4,
   "metadata": {},
   "outputs": [
    {
     "data": {
      "text/plain": [
       "(3931, 224, 224, 3)"
      ]
     },
     "execution_count": 4,
     "metadata": {},
     "output_type": "execute_result"
    }
   ],
   "source": [
    "X.shape"
   ]
  },
  {
   "cell_type": "code",
   "execution_count": 5,
   "metadata": {
    "collapsed": true
   },
   "outputs": [],
   "source": [
    "# Creating base_model\n",
    "image_shape = (224, 224, 3)                                                                                                                                                                                                                                                                                            \n",
    "base_model = VGG16(weights='imagenet', input_shape=image_shape, include_top=False, pooling='avg')"
   ]
  },
  {
   "cell_type": "code",
   "execution_count": 6,
   "metadata": {},
   "outputs": [
    {
     "name": "stdout",
     "output_type": "stream",
     "text": [
      "Extracting bottleneck features from convolutional layers ...\n"
     ]
    }
   ],
   "source": [
    "print(\"Extracting bottleneck features from convolutional layers ...\")\n",
    "bnfeatures = base_model.predict(X)"
   ]
  },
  {
   "cell_type": "code",
   "execution_count": 7,
   "metadata": {},
   "outputs": [
    {
     "data": {
      "text/plain": [
       "(3931, 512)"
      ]
     },
     "execution_count": 7,
     "metadata": {},
     "output_type": "execute_result"
    }
   ],
   "source": [
    "bnfeatures.shape"
   ]
  },
  {
   "cell_type": "code",
   "execution_count": 8,
   "metadata": {
    "collapsed": true
   },
   "outputs": [],
   "source": [
    "# Create stratified k-fold subsets                                                                                                                                        \n",
    "kfold = 5  # no. of folds                                                                 \n",
    "skf = StratifiedKFold(kfold, shuffle=True,random_state=1)"
   ]
  },
  {
   "cell_type": "code",
   "execution_count": 9,
   "metadata": {},
   "outputs": [
    {
     "name": "stdout",
     "output_type": "stream",
     "text": [
      "Fitting 5 folds for each of 13 candidates, totalling 65 fits\n",
      "[CV] C=0.01 ..........................................................\n",
      "[CV] C=0.01 ..........................................................\n",
      "[CV] C=0.01 ..........................................................\n",
      "[CV] C=0.01 ..........................................................\n",
      "[CV] C=0.01 ..........................................................\n",
      "[CV] C=0.1 ...........................................................\n",
      "[CV] C=0.1 ...........................................................\n",
      "[CV] C=0.1 ...........................................................\n",
      "[CV] C=0.1 ...........................................................\n",
      "[CV] C=0.1 ...........................................................\n",
      "[CV] C=1.0 ...........................................................\n",
      "[CV] C=1.0 ...........................................................\n",
      "[CV] C=1.0 ...........................................................\n",
      "[CV] C=1.0 ...........................................................\n",
      "[CV] C=1.0 ...........................................................\n",
      "[CV] C=10.0 ..........................................................\n",
      "[CV] C=10.0 ..........................................................\n",
      "[CV] C=10.0 ..........................................................\n",
      "[CV] C=10.0 ..........................................................\n",
      "[CV] C=10.0 ..........................................................\n",
      "[CV] C=100.0 .........................................................\n",
      "[CV] C=100.0 .........................................................\n",
      "[CV] C=100.0 .........................................................\n",
      "[CV] C=100.0 .........................................................\n",
      "[CV] ........................... C=0.01, score=0.946565, total=   1.6s\n",
      "[CV] C=100.0 .........................................................\n",
      "[CV] ............................ C=1.0, score=0.935115, total=   1.7s\n",
      "[CV] ............................ C=1.0, score=0.937738, total=   1.7s\n",
      "[CV] C=1000.0 ........................................................\n",
      "[CV] C=1000.0 ........................................................\n"
     ]
    },
    {
     "name": "stderr",
     "output_type": "stream",
     "text": [
      "[Parallel(n_jobs=-1)]: Done   2 tasks      | elapsed:    2.1s\n"
     ]
    },
    {
     "name": "stdout",
     "output_type": "stream",
     "text": [
      "[CV] .......................... C=100.0, score=0.879135, total=   1.8s\n",
      "[CV] C=1000.0 ........................................................\n",
      "[CV] .......................... C=100.0, score=0.936468, total=   2.1s\n",
      "[CV] C=1000.0 ........................................................\n",
      "[CV] ........................... C=0.01, score=0.956798, total=   3.2s\n",
      "[CV] C=1000.0 ........................................................\n",
      "[CV] ............................ C=0.1, score=0.928753, total=   3.1s\n",
      "[CV] C=10000.0 .......................................................\n",
      "[CV] .......................... C=100.0, score=0.937659, total=   2.1s\n",
      "[CV] C=10000.0 .......................................................\n",
      "[CV] ......................... C=1000.0, score=0.932570, total=   2.1s\n",
      "[CV] ........................... C=0.01, score=0.949109, total=   4.1s\n",
      "[CV] ........................... C=0.01, score=0.952926, total=   4.2s\n",
      "[CV] ........................... C=10.0, score=0.936387, total=   3.8s\n",
      "[CV] C=10000.0 .......................................................\n",
      "[CV] C=10000.0 .......................................................\n",
      "[CV] ............................ C=0.1, score=0.942821, total=   4.1s\n",
      "[CV] C=10000.0 .......................................................\n",
      "[CV] C=100000.0 ......................................................\n",
      "[CV] C=100000.0 ......................................................\n",
      "[CV] ........................... C=10.0, score=0.937738, total=   4.0s\n",
      "[CV] ............................ C=0.1, score=0.941476, total=   4.3s\n"
     ]
    },
    {
     "name": "stderr",
     "output_type": "stream",
     "text": [
      "[Parallel(n_jobs=-1)]: Done  13 tasks      | elapsed:    4.4s\n"
     ]
    },
    {
     "name": "stdout",
     "output_type": "stream",
     "text": [
      "[CV] C=100000.0 ......................................................\n",
      "[CV] ............................ C=1.0, score=0.930025, total=   4.2s\n",
      "[CV] ........................... C=10.0, score=0.923664, total=   4.1s\n",
      "[CV] ........................... C=0.01, score=0.960560, total=   4.3s\n",
      "[CV] C=1000000.0 .....................................................\n",
      "[CV] C=100000.0 ......................................................\n",
      "[CV] C=100000.0 ......................................................\n",
      "[CV] C=1000000.0 .....................................................\n",
      "[CV] ......................... C=1000.0, score=0.930114, total=   2.6s\n",
      "[CV] ............................ C=0.1, score=0.949109, total=   4.5s\n",
      "[CV] C=1000000.0 .....................................................\n",
      "[CV] C=1000000.0 .....................................................\n",
      "[CV] ............................ C=0.1, score=0.940204, total=   4.6s\n",
      "[CV] C=1000000.0 .....................................................\n",
      "[CV] .......................... C=100.0, score=0.926209, total=   4.3s\n",
      "[CV] ............................ C=1.0, score=0.945293, total=   4.6s\n",
      "[CV] C=10000000.0 ....................................................\n",
      "[CV] C=10000000.0 ....................................................\n",
      "[CV] ........................... C=10.0, score=0.944020, total=   4.6s\n",
      "[CV] ............................ C=1.0, score=0.924936, total=   4.7s\n",
      "[CV] C=10000000.0 ....................................................\n",
      "[CV] C=10000000.0 ....................................................\n",
      "[CV] .......................... C=100.0, score=0.941476, total=   4.5s\n",
      "[CV] C=10000000.0 ....................................................\n",
      "[CV] ........................... C=10.0, score=0.936387, total=   4.7s\n",
      "[CV] C=100000000.0 ...................................................\n"
     ]
    },
    {
     "name": "stderr",
     "output_type": "stream",
     "text": [
      "[Parallel(n_jobs=-1)]: Done  25 out of  65 | elapsed:    5.2s remaining:    8.3s\n"
     ]
    },
    {
     "name": "stdout",
     "output_type": "stream",
     "text": [
      "[CV] ......................... C=1000.0, score=0.928753, total=   2.6s\n",
      "[CV] C=100000000.0 ...................................................\n",
      "[CV] ......................... C=1000.0, score=0.944020, total=   3.0s\n",
      "[CV] C=100000000.0 ...................................................\n",
      "[CV] ........................ C=10000.0, score=0.930114, total=   2.9s\n",
      "[CV] C=100000000.0 ...................................................\n",
      "[CV] ........................ C=10000.0, score=0.945293, total=   2.6s\n",
      "[CV] C=100000000.0 ...................................................\n",
      "[CV] ......................... C=1000.0, score=0.937659, total=   3.4s\n",
      "[CV] C=1000000000.0 ..................................................\n",
      "[CV] ........................ C=10000.0, score=0.923664, total=   3.1s\n",
      "[CV] C=1000000000.0 ..................................................\n"
     ]
    },
    {
     "name": "stderr",
     "output_type": "stream",
     "text": [
      "[Parallel(n_jobs=-1)]: Done  32 out of  65 | elapsed:    7.1s remaining:    7.3s\n"
     ]
    },
    {
     "name": "stdout",
     "output_type": "stream",
     "text": [
      "[CV] ...................... C=1000000.0, score=0.945293, total=   2.4s\n",
      "[CV] C=1000000000.0 ..................................................\n",
      "[CV] ....................... C=100000.0, score=0.928753, total=   2.7s\n",
      "[CV] ...................... C=1000000.0, score=0.928753, total=   2.6s\n",
      "[CV] C=1000000000.0 ..................................................\n",
      "[CV] C=1000000000.0 ..................................................\n",
      "[CV] .................... C=100000000.0, score=0.923664, total=   2.2s\n",
      "[CV] C=10000000000.0 .................................................\n",
      "[CV] .................... C=100000000.0, score=0.945293, total=   2.2s\n",
      "[CV] C=10000000000.0 .................................................\n",
      "[CV] ....................... C=100000.0, score=0.932570, total=   3.4s\n",
      "[CV] C=10000000000.0 .................................................\n"
     ]
    },
    {
     "name": "stderr",
     "output_type": "stream",
     "text": [
      "[Parallel(n_jobs=-1)]: Done  39 out of  65 | elapsed:    8.0s remaining:    5.3s\n"
     ]
    },
    {
     "name": "stdout",
     "output_type": "stream",
     "text": [
      "[CV] ...................... C=1000000.0, score=0.932570, total=   3.5s\n",
      "[CV] C=10000000000.0 .................................................\n",
      "[CV] .................... C=100000000.0, score=0.917303, total=   1.9s\n",
      "[CV] C=10000000000.0 .................................................\n",
      "[CV] ..................... C=10000000.0, score=0.930114, total=   3.4s\n",
      "[CV] ....................... C=100000.0, score=0.944020, total=   3.7s\n",
      "[CV] ..................... C=10000000.0, score=0.928753, total=   3.3s\n",
      "[CV] ........................ C=10000.0, score=0.937659, total=   4.0s\n",
      "[CV] ..................... C=10000000.0, score=0.944020, total=   3.4s\n",
      "[CV] ........................ C=10000.0, score=0.928753, total=   4.4s\n",
      "[CV] ....................... C=100000.0, score=0.937659, total=   4.0s\n"
     ]
    },
    {
     "name": "stderr",
     "output_type": "stream",
     "text": [
      "[Parallel(n_jobs=-1)]: Done  46 out of  65 | elapsed:    8.7s remaining:    3.6s\n"
     ]
    },
    {
     "name": "stdout",
     "output_type": "stream",
     "text": [
      "[CV] ....................... C=100000.0, score=0.930114, total=   4.4s\n",
      "[CV] ...................... C=1000000.0, score=0.930114, total=   4.1s\n",
      "[CV] ..................... C=10000000.0, score=0.932570, total=   3.8s\n",
      "[CV] ..................... C=10000000.0, score=0.937659, total=   3.8s\n",
      "[CV] ...................... C=1000000.0, score=0.937659, total=   4.0s\n",
      "[CV] .................... C=100000000.0, score=0.930114, total=   3.9s\n"
     ]
    },
    {
     "name": "stderr",
     "output_type": "stream",
     "text": [
      "[Parallel(n_jobs=-1)]: Done  53 out of  65 | elapsed:    9.1s remaining:    2.1s\n"
     ]
    },
    {
     "name": "stdout",
     "output_type": "stream",
     "text": [
      "[CV] ................... C=1000000000.0, score=0.939009, total=   2.4s\n",
      "[CV] ................... C=1000000000.0, score=0.930025, total=   2.6s\n",
      "[CV] .................. C=10000000000.0, score=0.917303, total=   1.4s\n",
      "[CV] ................... C=1000000000.0, score=0.917303, total=   2.4s\n",
      "[CV] ................... C=1000000000.0, score=0.945293, total=   2.6s\n",
      "[CV] .................. C=10000000000.0, score=0.936468, total=   2.3s\n",
      "[CV] .................... C=100000000.0, score=0.936387, total=   3.1s\n",
      "[CV] ................... C=1000000000.0, score=0.926209, total=   2.8s\n"
     ]
    },
    {
     "name": "stderr",
     "output_type": "stream",
     "text": [
      "[Parallel(n_jobs=-1)]: Done  60 out of  65 | elapsed:   10.1s remaining:    0.8s\n"
     ]
    },
    {
     "name": "stdout",
     "output_type": "stream",
     "text": [
      "[CV] .................. C=10000000000.0, score=0.930025, total=   2.4s\n",
      "[CV] .................. C=10000000000.0, score=0.945293, total=   2.4s\n",
      "[CV] .................. C=10000000000.0, score=0.936387, total=   2.1s\n"
     ]
    },
    {
     "name": "stderr",
     "output_type": "stream",
     "text": [
      "[Parallel(n_jobs=-1)]: Done  65 out of  65 | elapsed:   10.7s finished\n"
     ]
    },
    {
     "data": {
      "text/plain": [
       "GridSearchCV(cv=StratifiedKFold(n_splits=5, random_state=1, shuffle=True),\n",
       "       error_score='raise',\n",
       "       estimator=LinearSVC(C=1.0, class_weight=None, dual=True, fit_intercept=True,\n",
       "     intercept_scaling=1, loss='squared_hinge', max_iter=1000,\n",
       "     multi_class='ovr', penalty='l2', random_state=None, tol=0.0001,\n",
       "     verbose=0),\n",
       "       fit_params={}, iid=True, n_jobs=-1,\n",
       "       param_grid={'C': array([  1.00000e-02,   1.00000e-01,   1.00000e+00,   1.00000e+01,\n",
       "         1.00000e+02,   1.00000e+03,   1.00000e+04,   1.00000e+05,\n",
       "         1.00000e+06,   1.00000e+07,   1.00000e+08,   1.00000e+09,\n",
       "         1.00000e+10])},\n",
       "       pre_dispatch='2*n_jobs', refit=True, return_train_score=True,\n",
       "       scoring=None, verbose=10)"
      ]
     },
     "execution_count": 9,
     "metadata": {},
     "output_type": "execute_result"
    }
   ],
   "source": [
    "# Training top_model\n",
    "C_range = np.logspace(-2, 10, 13)\n",
    "param_grid = dict(C=C_range)\n",
    "\n",
    "top_model = GridSearchCV(svm.LinearSVC(), param_grid=param_grid, cv=skf, verbose=10, n_jobs=-1)\n",
    "top_model.fit(bnfeatures,y)  # Training "
   ]
  },
  {
   "cell_type": "code",
   "execution_count": 11,
   "metadata": {},
   "outputs": [
    {
     "data": {
      "text/plain": [
       "{'mean_fit_time': array([ 3.39932985,  4.06394382,  3.34158854,  4.21187119,  2.92060761,\n",
       "         2.67562628,  3.33371024,  3.54748144,  3.23897719,  3.44067683,\n",
       "         2.63901219,  2.54138241,  2.07881279]),\n",
       " 'mean_score_time': array([ 0.10273619,  0.05745382,  0.0531652 ,  0.04994226,  0.03633022,\n",
       "         0.06498575,  0.06137156,  0.098206  ,  0.0702486 ,  0.08426538,\n",
       "         0.04730158,  0.00473275,  0.02175303]),\n",
       " 'mean_test_score': array([ 0.95319257,  0.94047316,  0.93462223,  0.93563979,  0.92419232,\n",
       "         0.93462223,  0.9330959 ,  0.93462223,  0.93487662,  0.93462223,\n",
       "         0.93055202,  0.93156958,  0.9330959 ]),\n",
       " 'mean_train_score': array([ 0.98925209,  0.99287718,  0.99154171,  0.99268638,  0.97329045,\n",
       "         0.99122378,  0.99077863,  0.99122378,  0.99141456,  0.99122378,\n",
       "         0.98486448,  0.97716924,  0.98505526]),\n",
       " 'param_C': masked_array(data = [0.01 0.10000000000000001 1.0 10.0 100.0 1000.0 10000.0 100000.0 1000000.0\n",
       "  10000000.0 100000000.0 1000000000.0 10000000000.0],\n",
       "              mask = [False False False False False False False False False False False False\n",
       "  False],\n",
       "        fill_value = ?),\n",
       " 'params': ({'C': 0.01},\n",
       "  {'C': 0.10000000000000001},\n",
       "  {'C': 1.0},\n",
       "  {'C': 10.0},\n",
       "  {'C': 100.0},\n",
       "  {'C': 1000.0},\n",
       "  {'C': 10000.0},\n",
       "  {'C': 100000.0},\n",
       "  {'C': 1000000.0},\n",
       "  {'C': 10000000.0},\n",
       "  {'C': 100000000.0},\n",
       "  {'C': 1000000000.0},\n",
       "  {'C': 10000000000.0}),\n",
       " 'rank_test_score': array([ 1,  2,  5,  3, 13,  5,  9,  5,  4,  5, 12, 11,  9], dtype=int32),\n",
       " 'split0_test_score': array([ 0.95679797,  0.94282084,  0.93773825,  0.93773825,  0.9364676 ,\n",
       "         0.93011436,  0.93011436,  0.93011436,  0.93011436,  0.93011436,\n",
       "         0.93011436,  0.93900889,  0.9364676 ]),\n",
       " 'split0_train_score': array([ 0.98918575,  0.99363868,  0.99332061,  0.99332061,  0.99236641,\n",
       "         0.99395674,  0.99395674,  0.99395674,  0.99395674,  0.99395674,\n",
       "         0.99395674,  0.98632316,  0.99395674]),\n",
       " 'split1_test_score': array([ 0.95292621,  0.94147583,  0.9351145 ,  0.93638677,  0.87913486,\n",
       "         0.93256997,  0.92366412,  0.93256997,  0.93256997,  0.93256997,\n",
       "         0.92366412,  0.93002545,  0.93002545]),\n",
       " 'split1_train_score': array([ 0.98918919,  0.9936407 ,  0.99650238,  0.99395866,  0.89570747,\n",
       "         0.99682035,  0.9936407 ,  0.99682035,  0.99682035,  0.99682035,\n",
       "         0.9936407 ,  0.99459459,  0.99459459]),\n",
       " 'split2_test_score': array([ 0.9605598 ,  0.94910941,  0.94529262,  0.94402036,  0.94147583,\n",
       "         0.94402036,  0.94529262,  0.94402036,  0.94529262,  0.94402036,\n",
       "         0.94529262,  0.94529262,  0.94529262]),\n",
       " 'split2_train_score': array([ 0.99014308,  0.99332273,  0.99173291,  0.99236884,  0.99395866,\n",
       "         0.99141494,  0.99236884,  0.99141494,  0.99236884,  0.99141494,\n",
       "         0.99236884,  0.99236884,  0.99236884]),\n",
       " 'split3_test_score': array([ 0.94910941,  0.92875318,  0.93002545,  0.92366412,  0.92620865,\n",
       "         0.92875318,  0.92875318,  0.92875318,  0.92875318,  0.92875318,\n",
       "         0.9173028 ,  0.9173028 ,  0.9173028 ]),\n",
       " 'split3_train_score': array([ 0.98950715,  0.99109698,  0.98982512,  0.99205087,  0.99332273,\n",
       "         0.98282989,  0.98282989,  0.98282989,  0.98282989,  0.98282989,\n",
       "         0.95357711,  0.95357711,  0.95357711]),\n",
       " 'split4_test_score': array([ 0.94656489,  0.94020356,  0.92493639,  0.93638677,  0.93765903,\n",
       "         0.93765903,  0.93765903,  0.93765903,  0.93765903,  0.93765903,\n",
       "         0.93638677,  0.92620865,  0.93638677]),\n",
       " 'split4_train_score': array([ 0.98823529,  0.9926868 ,  0.9863275 ,  0.99173291,  0.99109698,\n",
       "         0.99109698,  0.99109698,  0.99109698,  0.99109698,  0.99109698,\n",
       "         0.99077901,  0.95898251,  0.99077901]),\n",
       " 'std_fit_time': array([ 1.00451778,  0.5358307 ,  1.37420638,  0.33975413,  1.17754217,\n",
       "         0.46177907,  0.63900864,  0.51527473,  0.70974602,  0.19642679,\n",
       "         0.75334244,  0.14014029,  0.37971302]),\n",
       " 'std_score_time': array([ 0.02765657,  0.02168094,  0.02013292,  0.01958046,  0.01872999,\n",
       "         0.04880428,  0.05878829,  0.08571257,  0.03156386,  0.03112642,\n",
       "         0.02515632,  0.00214899,  0.02142881]),\n",
       " 'std_test_score': array([ 0.00505823,  0.00661035,  0.00690951,  0.00661997,  0.02308466,\n",
       "         0.00559484,  0.00756608,  0.00559484,  0.0060285 ,  0.00559484,\n",
       "         0.00974049,  0.00978038,  0.00927052]),\n",
       " 'std_train_score': array([ 0.00061663,  0.00095569,  0.00340423,  0.00082883,  0.03880348,\n",
       "         0.00467548,  0.00410133,  0.00467548,  0.00469879,  0.00467548,\n",
       "         0.01568367,  0.01735402,  0.01579468])}"
      ]
     },
     "execution_count": 11,
     "metadata": {},
     "output_type": "execute_result"
    }
   ],
   "source": [
    "top_model.cv_results_"
   ]
  },
  {
   "cell_type": "code",
   "execution_count": 10,
   "metadata": {},
   "outputs": [
    {
     "name": "stderr",
     "output_type": "stream",
     "text": [
      "/usr/local/lib/python2.7/dist-packages/sklearn/model_selection/_search.py:667: DeprecationWarning: The grid_scores_ attribute was deprecated in version 0.18 in favor of the more elaborate cv_results_ attribute. The grid_scores_ attribute will not be available from 0.20\n",
      "  DeprecationWarning)\n"
     ]
    },
    {
     "data": {
      "text/plain": [
       "[mean: 0.95319, std: 0.00506, params: {'C': 0.01},\n",
       " mean: 0.94047, std: 0.00661, params: {'C': 0.10000000000000001},\n",
       " mean: 0.93462, std: 0.00691, params: {'C': 1.0},\n",
       " mean: 0.93564, std: 0.00662, params: {'C': 10.0},\n",
       " mean: 0.92419, std: 0.02309, params: {'C': 100.0},\n",
       " mean: 0.93462, std: 0.00560, params: {'C': 1000.0},\n",
       " mean: 0.93310, std: 0.00757, params: {'C': 10000.0},\n",
       " mean: 0.93462, std: 0.00560, params: {'C': 100000.0},\n",
       " mean: 0.93488, std: 0.00603, params: {'C': 1000000.0},\n",
       " mean: 0.93462, std: 0.00560, params: {'C': 10000000.0},\n",
       " mean: 0.93055, std: 0.00974, params: {'C': 100000000.0},\n",
       " mean: 0.93157, std: 0.00978, params: {'C': 1000000000.0},\n",
       " mean: 0.93310, std: 0.00927, params: {'C': 10000000000.0}]"
      ]
     },
     "execution_count": 10,
     "metadata": {},
     "output_type": "execute_result"
    }
   ],
   "source": [
    "top_model.grid_scores_"
   ]
  },
  {
   "cell_type": "code",
   "execution_count": 12,
   "metadata": {},
   "outputs": [
    {
     "name": "stdout",
     "output_type": "stream",
     "text": [
      "Best parameters: {'C': 0.01} - score: 0.9532\n"
     ]
    }
   ],
   "source": [
    "print(\"Best parameters: %s - score: %0.4f\" % (top_model.best_params_, top_model.best_score_))"
   ]
  }
 ],
 "metadata": {
  "kernelspec": {
   "display_name": "Python 2",
   "language": "python",
   "name": "python2"
  },
  "language_info": {
   "codemirror_mode": {
    "name": "ipython",
    "version": 2
   },
   "file_extension": ".py",
   "mimetype": "text/x-python",
   "name": "python",
   "nbconvert_exporter": "python",
   "pygments_lexer": "ipython2",
   "version": "2.7.12"
  }
 },
 "nbformat": 4,
 "nbformat_minor": 2
}
