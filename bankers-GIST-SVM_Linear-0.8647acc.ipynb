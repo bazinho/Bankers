{
 "cells": [
  {
   "cell_type": "code",
   "execution_count": 1,
   "metadata": {},
   "outputs": [],
   "source": [
    "import os\n",
    "import os.path\n",
    "import glob\n",
    "import numpy as np\n",
    "import Image,leargist\n",
    "import matplotlib.pyplot as plt\n",
    "from sklearn.model_selection import StratifiedKFold\n",
    "from sklearn.metrics import confusion_matrix,accuracy_score\n",
    "from sklearn import svm\n",
    "from sklearn.model_selection import GridSearchCV\n",
    "import sklearn_evaluation.plot as skplot\n",
    "np.random.seed(1)"
   ]
  },
  {
   "cell_type": "code",
   "execution_count": 2,
   "metadata": {
    "collapsed": true
   },
   "outputs": [],
   "source": [
    "imagedir = \"Datasets/Detection/Byteplots\""
   ]
  },
  {
   "cell_type": "code",
   "execution_count": 3,
   "metadata": {},
   "outputs": [
    {
     "name": "stdout",
     "output_type": "stream",
     "text": [
      "Label: 0\tFamily:          Banker\tNumber of images: 1986\n",
      "Label: 1\tFamily:          WinExe\tNumber of images: 1945\n",
      "Processing images ...\n"
     ]
    },
    {
     "name": "stderr",
     "output_type": "stream",
     "text": [
      "/usr/local/lib/python2.7/dist-packages/PIL/Image.py:2371: DecompressionBombWarning: Image size (103265280 pixels) exceeds limit of 89478485 pixels, could be decompression bomb DOS attack.\n",
      "  DecompressionBombWarning)\n",
      "/usr/local/lib/python2.7/dist-packages/PIL/Image.py:2371: DecompressionBombWarning: Image size (110601216 pixels) exceeds limit of 89478485 pixels, could be decompression bomb DOS attack.\n",
      "  DecompressionBombWarning)\n"
     ]
    },
    {
     "name": "stdout",
     "output_type": "stream",
     "text": [
      "Images processed: 3931\n"
     ]
    }
   ],
   "source": [
    "cur_dir = os.getcwd()\n",
    "os.chdir(imagedir)  # the parent folder with sub-folders\n",
    "\n",
    "# Get number of samples per family\n",
    "list_fams = sorted(os.listdir(os.getcwd()), key=str.lower)  # vector of strings with family names\n",
    "no_imgs = []  # No. of samples per family\n",
    "for i in range(len(list_fams)):\n",
    "    os.chdir(list_fams[i])\n",
    "    len1 = len(glob.glob('*.png'))  # assuming the images are stored as 'png'\n",
    "    no_imgs.append(len1)\n",
    "    os.chdir('..')\n",
    "num_samples = np.sum(no_imgs)  # total number of all samples\n",
    "\n",
    "# Compute the labels\n",
    "y = np.zeros(num_samples)\n",
    "pos = 0\n",
    "label = 0\n",
    "for i in no_imgs:\n",
    "    print (\"Label:%2d\\tFamily: %15s\\tNumber of images: %d\" % (label, list_fams[label], i))\n",
    "    for j in range(i):\n",
    "        y[pos] = label\n",
    "        pos += 1\n",
    "    label += 1\n",
    "num_classes = label\n",
    "\n",
    "# Compute the features\n",
    "X = np.zeros((num_samples, 320))\n",
    "cnt = 0\n",
    "list_paths = [] # List of image paths\n",
    "print(\"Processing images ...\")\n",
    "for i in range(len(list_fams)):\n",
    "    for img_file in glob.glob(list_fams[i]+'/*.png'):\n",
    "        #print(\"[%d] Processing image: %s\" % (cnt, img_file))\n",
    "        im = Image.open(img_file)\n",
    "        im1 = im.resize((64,64),Image.ANTIALIAS); # for faster computation\n",
    "        des = leargist.color_gist(im1)\n",
    "        X[cnt] = des[0:320]\n",
    "        cnt += 1\n",
    "print(\"Images processed: %d\" %(cnt))\n",
    "\n",
    "os.chdir(cur_dir)"
   ]
  },
  {
   "cell_type": "code",
   "execution_count": 4,
   "metadata": {},
   "outputs": [
    {
     "data": {
      "text/plain": [
       "(3931, 320)"
      ]
     },
     "execution_count": 4,
     "metadata": {},
     "output_type": "execute_result"
    }
   ],
   "source": [
    "X.shape"
   ]
  },
  {
   "cell_type": "code",
   "execution_count": 5,
   "metadata": {
    "collapsed": true
   },
   "outputs": [],
   "source": [
    "# Create stratified k-fold subsets                                                                                                                                        \n",
    "kfold = 5  # no. of folds                                                                 \n",
    "skf = StratifiedKFold(kfold, shuffle=True,random_state=1)"
   ]
  },
  {
   "cell_type": "code",
   "execution_count": 6,
   "metadata": {},
   "outputs": [
    {
     "name": "stdout",
     "output_type": "stream",
     "text": [
      "Fitting 5 folds for each of 13 candidates, totalling 65 fits\n",
      "[CV] C=0.01 ..........................................................\n",
      "[CV] C=0.01 ..........................................................\n",
      "[CV] C=0.01 ..........................................................\n",
      "[CV] C=0.01 ..........................................................\n",
      "[CV] C=0.01 ..........................................................\n",
      "[CV] C=0.1 ...........................................................\n",
      "[CV] ........................... C=0.01, score=0.830789, total=   0.1s\n",
      "[CV] ........................... C=0.01, score=0.843710, total=   0.1s\n",
      "[CV] ........................... C=0.01, score=0.860051, total=   0.1s\n",
      "[CV] C=0.1 ...........................................................\n",
      "[CV] C=0.1 ...........................................................\n",
      "[CV] ........................... C=0.01, score=0.828244, total=   0.1s\n",
      "[CV] ........................... C=0.01, score=0.847328, total=   0.2s\n",
      "[CV] C=0.1 ...........................................................\n",
      "[CV] C=0.1 ...........................................................\n"
     ]
    },
    {
     "name": "stderr",
     "output_type": "stream",
     "text": [
      "[Parallel(n_jobs=-1)]: Done   2 tasks      | elapsed:    0.3s\n"
     ]
    },
    {
     "name": "stdout",
     "output_type": "stream",
     "text": [
      "[CV] C=1.0 ...........................................................\n",
      "[CV] C=1.0 ...........................................................\n",
      "[CV] ............................ C=0.1, score=0.866582, total=   0.2s\n",
      "[CV] C=1.0 ...........................................................\n",
      "[CV] ............................ C=0.1, score=0.888041, total=   0.2s\n",
      "[CV] ............................ C=0.1, score=0.838422, total=   0.3s\n",
      "[CV] C=1.0 ...........................................................\n",
      "[CV] C=1.0 ...........................................................\n",
      "[CV] ............................ C=0.1, score=0.856234, total=   0.3s\n",
      "[CV] ............................ C=0.1, score=0.847328, total=   0.2s\n",
      "[CV] C=10.0 ..........................................................\n",
      "[CV] C=10.0 ..........................................................\n",
      "[CV] C=10.0 ..........................................................\n",
      "[CV] C=10.0 ..........................................................\n",
      "[CV] C=10.0 ..........................................................\n",
      "[CV] C=100.0 .........................................................\n",
      "[CV] C=100.0 .........................................................\n",
      "[CV] C=100.0 .........................................................\n",
      "[CV] C=100.0 .........................................................\n",
      "[CV] C=1000.0 ........................................................\n",
      "[CV] C=1000.0 ........................................................\n",
      "[CV] C=100.0 .........................................................\n",
      "[CV] C=1000.0 ........................................................\n",
      "[CV] C=1000.0 ........................................................\n",
      "[CV] C=1000.0 ........................................................\n",
      "[CV] C=10000.0 .......................................................\n",
      "[CV] C=10000.0 .......................................................\n",
      "[CV] ............................ C=1.0, score=0.867853, total=   0.7s\n",
      "[CV] C=10000.0 .......................................................\n",
      "[CV] ............................ C=1.0, score=0.846056, total=   0.7s\n",
      "[CV] C=10000.0 .......................................................\n",
      "[CV] C=10000.0 .......................................................\n",
      "[CV] C=100000.0 ......................................................\n",
      "[CV] ............................ C=1.0, score=0.893130, total=   1.0s\n",
      "[CV] C=100000.0 ......................................................\n",
      "[CV] ............................ C=1.0, score=0.848601, total=   1.0s\n",
      "[CV] C=100000.0 ......................................................\n",
      "[CV] ............................ C=1.0, score=0.865140, total=   1.1s\n"
     ]
    },
    {
     "name": "stderr",
     "output_type": "stream",
     "text": [
      "[Parallel(n_jobs=-1)]: Done  13 tasks      | elapsed:    1.6s\n"
     ]
    },
    {
     "name": "stdout",
     "output_type": "stream",
     "text": [
      "[CV] C=100000.0 ......................................................\n",
      "[CV] ........................... C=10.0, score=0.840967, total=   6.2s\n",
      "[CV] C=100000.0 ......................................................\n",
      "[CV] ........................... C=10.0, score=0.878018, total=   6.6s\n",
      "[CV] C=1000000.0 .....................................................\n",
      "[CV] ........................... C=10.0, score=0.862595, total=   6.6s\n",
      "[CV] C=1000000.0 .....................................................\n",
      "[CV] .......................... C=100.0, score=0.829517, total=   6.5s\n",
      "[CV] C=1000000.0 .....................................................\n",
      "[CV] ........................... C=10.0, score=0.851145, total=   6.8s\n",
      "[CV] C=1000000.0 .....................................................\n",
      "[CV] .......................... C=100.0, score=0.880559, total=   6.9s\n",
      "[CV] C=1000000.0 .....................................................\n",
      "[CV] ........................... C=10.0, score=0.890585, total=   7.1s\n",
      "[CV] C=10000000.0 ....................................................\n",
      "[CV] .......................... C=100.0, score=0.847328, total=   7.0s\n",
      "[CV] C=10000000.0 ....................................................\n",
      "[CV] .......................... C=100.0, score=0.871501, total=   7.1s\n",
      "[CV] C=10000000.0 ....................................................\n",
      "[CV] .......................... C=100.0, score=0.832061, total=   7.3s\n",
      "[CV] ......................... C=1000.0, score=0.869123, total=   7.4s\n",
      "[CV] C=10000000.0 ....................................................\n",
      "[CV] C=10000000.0 ....................................................\n"
     ]
    },
    {
     "name": "stderr",
     "output_type": "stream",
     "text": [
      "[Parallel(n_jobs=-1)]: Done  25 out of  65 | elapsed:    8.4s remaining:   13.5s\n"
     ]
    },
    {
     "name": "stdout",
     "output_type": "stream",
     "text": [
      "[CV] ......................... C=1000.0, score=0.811705, total=   7.6s\n",
      "[CV] ......................... C=1000.0, score=0.823155, total=   7.6s\n",
      "[CV] C=100000000.0 ...................................................\n",
      "[CV] C=100000000.0 ...................................................\n",
      "[CV] ........................ C=10000.0, score=0.764631, total=   7.6s\n",
      "[CV] C=100000000.0 ...................................................\n",
      "[CV] ....................... C=100000.0, score=0.823155, total=   7.4s\n",
      "[CV] C=100000000.0 ...................................................\n",
      "[CV] ......................... C=1000.0, score=0.816794, total=   8.1s\n",
      "[CV] C=100000000.0 ...................................................\n",
      "[CV] ....................... C=100000.0, score=0.875318, total=   7.5s\n",
      "[CV] ........................ C=10000.0, score=0.809160, total=   8.0s\n",
      "[CV] C=1000000000.0 ..................................................\n",
      "[CV] ......................... C=1000.0, score=0.693384, total=   8.2s\n",
      "[CV] C=1000000000.0 ..................................................\n",
      "[CV] C=1000000000.0 ..................................................\n",
      "[CV] ........................ C=10000.0, score=0.740458, total=   7.9s\n"
     ]
    },
    {
     "name": "stderr",
     "output_type": "stream",
     "text": [
      "[Parallel(n_jobs=-1)]: Done  32 out of  65 | elapsed:    9.3s remaining:    9.6s\n"
     ]
    },
    {
     "name": "stdout",
     "output_type": "stream",
     "text": [
      "[CV] C=1000000000.0 ..................................................\n",
      "[CV] ........................ C=10000.0, score=0.837150, total=   8.1s\n",
      "[CV] C=1000000000.0 ..................................................\n",
      "[CV] ....................... C=100000.0, score=0.810673, total=   8.3s\n",
      "[CV] C=10000000000.0 .................................................\n",
      "[CV] ........................ C=10000.0, score=0.808132, total=   8.9s\n",
      "[CV] C=10000000000.0 .................................................\n",
      "[CV] ....................... C=100000.0, score=0.726463, total=   8.3s\n",
      "[CV] C=10000000000.0 .................................................\n"
     ]
    },
    {
     "name": "stderr",
     "output_type": "stream",
     "text": [
      "[Parallel(n_jobs=-1)]: Done  39 out of  65 | elapsed:   10.1s remaining:    6.7s\n"
     ]
    },
    {
     "name": "stdout",
     "output_type": "stream",
     "text": [
      "[CV] ...................... C=1000000.0, score=0.727735, total=   7.0s\n",
      "[CV] C=10000000000.0 .................................................\n",
      "[CV] ....................... C=100000.0, score=0.773537, total=   7.7s\n",
      "[CV] C=10000000000.0 .................................................\n",
      "[CV] ..................... C=10000000.0, score=0.839898, total=   7.3s\n",
      "[CV] ...................... C=1000000.0, score=0.743003, total=   7.5s\n",
      "[CV] ...................... C=1000000.0, score=0.871501, total=   7.9s\n",
      "[CV] ...................... C=1000000.0, score=0.839898, total=   8.0s\n",
      "[CV] ..................... C=10000000.0, score=0.619593, total=   7.4s\n"
     ]
    },
    {
     "name": "stderr",
     "output_type": "stream",
     "text": [
      "[Parallel(n_jobs=-1)]: Done  46 out of  65 | elapsed:   15.6s remaining:    6.5s\n"
     ]
    },
    {
     "name": "stdout",
     "output_type": "stream",
     "text": [
      "[CV] ...................... C=1000000.0, score=0.619593, total=   8.8s\n",
      "[CV] .................... C=100000000.0, score=0.784987, total=   7.4s\n",
      "[CV] .................... C=100000000.0, score=0.778626, total=   7.3s\n",
      "[CV] ................... C=1000000000.0, score=0.852605, total=   7.0s\n",
      "[CV] ................... C=1000000000.0, score=0.778626, total=   6.9s\n",
      "[CV] ..................... C=10000000.0, score=0.871501, total=   8.3s\n",
      "[CV] ................... C=1000000000.0, score=0.833333, total=   7.1s\n"
     ]
    },
    {
     "name": "stderr",
     "output_type": "stream",
     "text": [
      "[Parallel(n_jobs=-1)]: Done  53 out of  65 | elapsed:   16.7s remaining:    3.8s\n"
     ]
    },
    {
     "name": "stdout",
     "output_type": "stream",
     "text": [
      "[CV] ..................... C=10000000.0, score=0.778626, total=   8.5s\n",
      "[CV] .................... C=100000000.0, score=0.788804, total=   8.2s\n",
      "[CV] .................. C=10000000000.0, score=0.784987, total=   7.0s\n",
      "[CV] ..................... C=10000000.0, score=0.833333, total=   8.7s\n",
      "[CV] ................... C=1000000000.0, score=0.788804, total=   8.0s\n",
      "[CV] .................... C=100000000.0, score=0.833333, total=   8.2s\n",
      "[CV] ................... C=1000000000.0, score=0.784987, total=   8.2s\n",
      "[CV] .................... C=100000000.0, score=0.852605, total=   8.9s\n"
     ]
    },
    {
     "name": "stderr",
     "output_type": "stream",
     "text": [
      "[Parallel(n_jobs=-1)]: Done  60 out of  65 | elapsed:   17.6s remaining:    1.5s\n"
     ]
    },
    {
     "name": "stdout",
     "output_type": "stream",
     "text": [
      "[CV] .................. C=10000000000.0, score=0.852605, total=   8.1s\n",
      "[CV] .................. C=10000000000.0, score=0.788804, total=   7.8s\n",
      "[CV] .................. C=10000000000.0, score=0.833333, total=   4.3s\n",
      "[CV] .................. C=10000000000.0, score=0.778626, total=   4.4s\n"
     ]
    },
    {
     "name": "stderr",
     "output_type": "stream",
     "text": [
      "[Parallel(n_jobs=-1)]: Done  65 out of  65 | elapsed:   19.3s finished\n"
     ]
    },
    {
     "data": {
      "text/plain": [
       "GridSearchCV(cv=StratifiedKFold(n_splits=5, random_state=1, shuffle=True),\n",
       "       error_score='raise',\n",
       "       estimator=LinearSVC(C=1.0, class_weight=None, dual=True, fit_intercept=True,\n",
       "     intercept_scaling=1, loss='squared_hinge', max_iter=1000,\n",
       "     multi_class='ovr', penalty='l2', random_state=None, tol=0.0001,\n",
       "     verbose=0),\n",
       "       fit_params={}, iid=True, n_jobs=-1,\n",
       "       param_grid={'C': array([  1.00000e-02,   1.00000e-01,   1.00000e+00,   1.00000e+01,\n",
       "         1.00000e+02,   1.00000e+03,   1.00000e+04,   1.00000e+05,\n",
       "         1.00000e+06,   1.00000e+07,   1.00000e+08,   1.00000e+09,\n",
       "         1.00000e+10])},\n",
       "       pre_dispatch='2*n_jobs', refit=True, return_train_score=True,\n",
       "       scoring=None, verbose=10)"
      ]
     },
     "execution_count": 6,
     "metadata": {},
     "output_type": "execute_result"
    }
   ],
   "source": [
    "# Training top_model\n",
    "C_range = np.logspace(-2, 10, 13)\n",
    "param_grid = dict(C=C_range)\n",
    "\n",
    "top_model = GridSearchCV(svm.LinearSVC(), param_grid=param_grid, cv=skf, verbose=10, n_jobs=-1)\n",
    "top_model.fit(X,y)  # Training "
   ]
  },
  {
   "cell_type": "code",
   "execution_count": 7,
   "metadata": {},
   "outputs": [
    {
     "data": {
      "text/plain": [
       "{'mean_fit_time': array([ 0.09291978,  0.21055455,  0.86405182,  6.62377796,  6.91880755,\n",
       "         7.74023943,  8.03909612,  7.76601644,  7.76565418,  7.97203875,\n",
       "         7.97018485,  7.42036738,  6.33070679]),\n",
       " 'mean_score_time': array([ 0.04727769,  0.03096399,  0.03348956,  0.04064121,  0.04815645,\n",
       "         0.04217315,  0.04818869,  0.06120915,  0.06601162,  0.06981182,\n",
       "         0.02773418,  0.0339282 ,  0.00790377]),\n",
       " 'mean_test_score': array([ 0.84202493,  0.85932333,  0.8641567 ,  0.86466548,  0.85220046,\n",
       "         0.80284915,  0.79191046,  0.8018316 ,  0.76036632,  0.78860341,\n",
       "         0.80768252,  0.80768252,  0.80768252]),\n",
       " 'mean_train_score': array([ 0.84221566,  0.86135823,  0.87293305,  0.88914993,  0.89334747,\n",
       "         0.83884883,  0.8312776 ,  0.83839917,  0.77321871,  0.81474494,\n",
       "         0.84463462,  0.84463462,  0.84463462]),\n",
       " 'param_C': masked_array(data = [0.01 0.10000000000000001 1.0 10.0 100.0 1000.0 10000.0 100000.0 1000000.0\n",
       "  10000000.0 100000000.0 1000000000.0 10000000000.0],\n",
       "              mask = [False False False False False False False False False False False False\n",
       "  False],\n",
       "        fill_value = ?),\n",
       " 'params': ({'C': 0.01},\n",
       "  {'C': 0.10000000000000001},\n",
       "  {'C': 1.0},\n",
       "  {'C': 10.0},\n",
       "  {'C': 100.0},\n",
       "  {'C': 1000.0},\n",
       "  {'C': 10000.0},\n",
       "  {'C': 100000.0},\n",
       "  {'C': 1000000.0},\n",
       "  {'C': 10000000.0},\n",
       "  {'C': 100000000.0},\n",
       "  {'C': 1000000000.0},\n",
       "  {'C': 10000000000.0}),\n",
       " 'rank_test_score': array([ 5,  3,  2,  1,  4,  9, 11, 10, 13, 12,  6,  6,  6], dtype=int32),\n",
       " 'split0_test_score': array([ 0.84371029,  0.86658196,  0.8678526 ,  0.87801779,  0.88055909,\n",
       "         0.86912325,  0.80813215,  0.81067344,  0.83989835,  0.83989835,\n",
       "         0.85260483,  0.85260483,  0.85260483]),\n",
       " 'split0_train_score': array([ 0.84128499,  0.85814249,  0.8721374 ,  0.88263359,  0.88899491,\n",
       "         0.89790076,  0.84033079,  0.82697201,  0.86418575,  0.86418575,\n",
       "         0.87945293,  0.87945293,  0.87945293]),\n",
       " 'split1_test_score': array([ 0.8307888 ,  0.83842239,  0.84605598,  0.84096692,  0.82951654,\n",
       "         0.81170483,  0.76463104,  0.82315522,  0.61959288,  0.61959288,\n",
       "         0.78880407,  0.78880407,  0.78880407]),\n",
       " 'split1_train_score': array([ 0.845469  ,  0.86645469,  0.87694754,  0.89220986,  0.90111288,\n",
       "         0.89316375,  0.81430843,  0.88839428,  0.61494436,  0.61462639,\n",
       "         0.83561208,  0.83561208,  0.83561208]),\n",
       " 'split2_test_score': array([ 0.86005089,  0.88804071,  0.89312977,  0.89058524,  0.87150127,\n",
       "         0.81679389,  0.80916031,  0.87531807,  0.87150127,  0.87150127,\n",
       "         0.78498728,  0.78498728,  0.78498728]),\n",
       " 'split2_train_score': array([ 0.83720191,  0.85627981,  0.86518283,  0.8845787 ,  0.88585056,\n",
       "         0.81399046,  0.82575517,  0.88648649,  0.87790143,  0.87790143,\n",
       "         0.79109698,  0.79109698,  0.79109698]),\n",
       " 'split3_test_score': array([ 0.84732824,  0.8562341 ,  0.86513995,  0.86259542,  0.84732824,\n",
       "         0.69338422,  0.74045802,  0.7264631 ,  0.72773537,  0.77862595,\n",
       "         0.77862595,  0.77862595,  0.77862595]),\n",
       " 'split3_train_score': array([ 0.84228935,  0.86327504,  0.87376789,  0.8899841 ,  0.89602544,\n",
       "         0.71255962,  0.77170111,  0.77488076,  0.73799682,  0.8127186 ,\n",
       "         0.8127186 ,  0.8127186 ,  0.8127186 ]),\n",
       " 'split4_test_score': array([ 0.82824427,  0.84732824,  0.84860051,  0.85114504,  0.83206107,\n",
       "         0.82315522,  0.83715013,  0.7735369 ,  0.74300254,  0.83333333,\n",
       "         0.83333333,  0.83333333,  0.83333333]),\n",
       " 'split4_train_score': array([ 0.84483307,  0.86263911,  0.87662957,  0.8963434 ,  0.89475358,\n",
       "         0.87662957,  0.90429253,  0.81526232,  0.77106518,  0.90429253,\n",
       "         0.90429253,  0.90429253,  0.90429253]),\n",
       " 'std_fit_time': array([ 0.00705672,  0.03281012,  0.16247525,  0.3126742 ,  0.26742462,\n",
       "         0.31447094,  0.42394479,  0.36234807,  0.58740692,  0.55907201,\n",
       "         0.59525093,  0.56035934,  1.66714638]),\n",
       " 'std_score_time': array([ 0.03418617,  0.01445697,  0.00727396,  0.00933083,  0.01626229,\n",
       "         0.02345438,  0.02092186,  0.05559041,  0.04542801,  0.0546597 ,\n",
       "         0.01999018,  0.03627459,  0.010628  ]),\n",
       " 'std_test_score': array([ 0.01159216,  0.01713093,  0.01687218,  0.01788098,  0.02059665,\n",
       "         0.05841453,  0.03463425,  0.04982184,  0.08928345,  0.0896228 ,\n",
       "         0.0296418 ,  0.0296418 ,  0.0296418 ]),\n",
       " 'std_train_score': array([ 0.00294769,  0.00367206,  0.00427028,  0.00500328,  0.00537771,\n",
       "         0.06990212,  0.04308352,  0.04361739,  0.0954248 ,  0.10440637,\n",
       "         0.04180358,  0.04180358,  0.04180358])}"
      ]
     },
     "execution_count": 7,
     "metadata": {},
     "output_type": "execute_result"
    }
   ],
   "source": [
    "top_model.cv_results_"
   ]
  },
  {
   "cell_type": "code",
   "execution_count": 8,
   "metadata": {},
   "outputs": [
    {
     "name": "stderr",
     "output_type": "stream",
     "text": [
      "/usr/local/lib/python2.7/dist-packages/sklearn/model_selection/_search.py:667: DeprecationWarning: The grid_scores_ attribute was deprecated in version 0.18 in favor of the more elaborate cv_results_ attribute. The grid_scores_ attribute will not be available from 0.20\n",
      "  DeprecationWarning)\n"
     ]
    },
    {
     "data": {
      "text/plain": [
       "[mean: 0.84202, std: 0.01159, params: {'C': 0.01},\n",
       " mean: 0.85932, std: 0.01713, params: {'C': 0.10000000000000001},\n",
       " mean: 0.86416, std: 0.01687, params: {'C': 1.0},\n",
       " mean: 0.86467, std: 0.01788, params: {'C': 10.0},\n",
       " mean: 0.85220, std: 0.02059, params: {'C': 100.0},\n",
       " mean: 0.80285, std: 0.05841, params: {'C': 1000.0},\n",
       " mean: 0.79191, std: 0.03464, params: {'C': 10000.0},\n",
       " mean: 0.80183, std: 0.04983, params: {'C': 100000.0},\n",
       " mean: 0.76037, std: 0.08929, params: {'C': 1000000.0},\n",
       " mean: 0.78860, std: 0.08963, params: {'C': 10000000.0},\n",
       " mean: 0.80768, std: 0.02964, params: {'C': 100000000.0},\n",
       " mean: 0.80768, std: 0.02964, params: {'C': 1000000000.0},\n",
       " mean: 0.80768, std: 0.02964, params: {'C': 10000000000.0}]"
      ]
     },
     "execution_count": 8,
     "metadata": {},
     "output_type": "execute_result"
    }
   ],
   "source": [
    "top_model.grid_scores_"
   ]
  },
  {
   "cell_type": "code",
   "execution_count": 10,
   "metadata": {},
   "outputs": [
    {
     "name": "stdout",
     "output_type": "stream",
     "text": [
      "Best parameters: {'C': 10.0} - score: 0.8647\n"
     ]
    }
   ],
   "source": [
    "print(\"Best parameters: %s - score: %0.4f\" % (top_model.best_params_, top_model.best_score_))"
   ]
  }
 ],
 "metadata": {
  "kernelspec": {
   "display_name": "Python 2",
   "language": "python",
   "name": "python2"
  },
  "language_info": {
   "codemirror_mode": {
    "name": "ipython",
    "version": 2
   },
   "file_extension": ".py",
   "mimetype": "text/x-python",
   "name": "python",
   "nbconvert_exporter": "python",
   "pygments_lexer": "ipython2",
   "version": "2.7.12"
  }
 },
 "nbformat": 4,
 "nbformat_minor": 2
}
